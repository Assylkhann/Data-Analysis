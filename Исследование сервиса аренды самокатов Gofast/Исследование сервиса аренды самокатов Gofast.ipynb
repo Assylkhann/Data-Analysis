{
 "cells": [
  {
   "cell_type": "markdown",
   "id": "50c4a0e4",
   "metadata": {},
   "source": [
    "# Проект: Статистический анализ данных"
   ]
  },
  {
   "cell_type": "markdown",
   "id": "de5870e7",
   "metadata": {},
   "source": [
    "**Заголовок:** Исследование сервиса аренды самокатов Gofast\n",
    "\n",
    "**Описание проекта:**\n",
    "Вы аналитик популярного сервиса аренды самокатов GoFast. Вам передали данные о некоторых пользователях из нескольких городов, а также об их поездках. Проанализируйте данные и проверьте некоторые гипотезы, которые могут помочь бизнесу вырасти. Чтобы совершать поездки по городу, пользователи сервиса GoFast пользуются мобильным приложением. Сервисом можно пользоваться:без подписки абонентская плата отсутствует; стоимость одной минуты поездки —  8 рублей; стоимость старта (начала поездки) —  50 рублей; с подпиской Ultra абонентская плата —  199 рублей в месяц; стоимость одной минуты поездки —  6 рублей; стоимость старта — бесплатно.\n",
    "**Цель исследования**\n",
    "Проанализировать данные и проверить гипотезы, которые помогуть развить бизнес сервиса аренды самокатов. Также, для определения какую подписку стоит продвигать сервису. \n",
    "\n",
    "**Ход исследования**\n",
    "\n",
    "- Подготовка данных: загрузка и изучение общей информации из предоставленного датасета\n",
    "- Предобработка данных:замена названий столбцов, корректировка типа данных,  дубликатов,проверка на пропуски и заполнение пропусков\n",
    "- Исследовательский анализ данных: визуализация общих данных о пользователях и поездок\n",
    "- Объединения данных: объединения датасетов и визулация данных по типу подписки\n",
    "- Подсчет выручки: подсчитываем выручки от каждого пользователя помесячно \n",
    "- Проверка гипотез: проверяем гипотезы\n",
    "- Распределения: подсчитать вероятности для улучшения бизнеса\n",
    "\n",
    "**Общий вывод:** Резюмирования полученных результатов, формулировка ключевых выводов и рекомандаций \n",
    "\n",
    "С помощью данного исследования дать анализ данных пользователях и их поездок сервисом аренды самокатов. Также дать рекомендацию, какой вид подписки стоит продвигать.\n"
   ]
  },
  {
   "cell_type": "code",
   "execution_count": 1,
   "id": "72576667",
   "metadata": {},
   "outputs": [],
   "source": [
    "import pandas as pd\n",
    "import matplotlib.pyplot as plt\n",
    "import numpy as np\n",
    "from scipy import stats as st\n",
    "from scipy.stats import binom, poisson, norm\n",
    "from math import sqrt, factorial"
   ]
  },
  {
   "cell_type": "markdown",
   "id": "c42cbe00",
   "metadata": {},
   "source": [
    "#### Шаг 1. Загрузка данных\n"
   ]
  },
  {
   "cell_type": "code",
   "execution_count": 2,
   "id": "5cdceafb",
   "metadata": {},
   "outputs": [],
   "source": [
    "#Функция для вывода информации об датасете\n",
    "def dataset_info(dataset):\n",
    "    print(dataset.info())\n",
    "    display(dataset.head())"
   ]
  },
  {
   "cell_type": "code",
   "execution_count": 3,
   "id": "eff9f206",
   "metadata": {},
   "outputs": [],
   "source": [
    "#Загрузка датасетов \n",
    "users = pd.read_csv('/datasets/users_go.csv')\n",
    "rides = pd.read_csv('/datasets/rides_go.csv')\n",
    "subscriptions = pd.read_csv('/datasets/subscriptions_go.csv')"
   ]
  },
  {
   "cell_type": "code",
   "execution_count": 4,
   "id": "86db15f6",
   "metadata": {
    "scrolled": false
   },
   "outputs": [
    {
     "name": "stdout",
     "output_type": "stream",
     "text": [
      "<class 'pandas.core.frame.DataFrame'>\n",
      "RangeIndex: 1565 entries, 0 to 1564\n",
      "Data columns (total 5 columns):\n",
      " #   Column             Non-Null Count  Dtype \n",
      "---  ------             --------------  ----- \n",
      " 0   user_id            1565 non-null   int64 \n",
      " 1   name               1565 non-null   object\n",
      " 2   age                1565 non-null   int64 \n",
      " 3   city               1565 non-null   object\n",
      " 4   subscription_type  1565 non-null   object\n",
      "dtypes: int64(2), object(3)\n",
      "memory usage: 61.3+ KB\n",
      "None\n"
     ]
    },
    {
     "data": {
      "text/html": [
       "<div>\n",
       "<style scoped>\n",
       "    .dataframe tbody tr th:only-of-type {\n",
       "        vertical-align: middle;\n",
       "    }\n",
       "\n",
       "    .dataframe tbody tr th {\n",
       "        vertical-align: top;\n",
       "    }\n",
       "\n",
       "    .dataframe thead th {\n",
       "        text-align: right;\n",
       "    }\n",
       "</style>\n",
       "<table border=\"1\" class=\"dataframe\">\n",
       "  <thead>\n",
       "    <tr style=\"text-align: right;\">\n",
       "      <th></th>\n",
       "      <th>user_id</th>\n",
       "      <th>name</th>\n",
       "      <th>age</th>\n",
       "      <th>city</th>\n",
       "      <th>subscription_type</th>\n",
       "    </tr>\n",
       "  </thead>\n",
       "  <tbody>\n",
       "    <tr>\n",
       "      <th>0</th>\n",
       "      <td>1</td>\n",
       "      <td>Кира</td>\n",
       "      <td>22</td>\n",
       "      <td>Тюмень</td>\n",
       "      <td>ultra</td>\n",
       "    </tr>\n",
       "    <tr>\n",
       "      <th>1</th>\n",
       "      <td>2</td>\n",
       "      <td>Станислав</td>\n",
       "      <td>31</td>\n",
       "      <td>Омск</td>\n",
       "      <td>ultra</td>\n",
       "    </tr>\n",
       "    <tr>\n",
       "      <th>2</th>\n",
       "      <td>3</td>\n",
       "      <td>Алексей</td>\n",
       "      <td>20</td>\n",
       "      <td>Москва</td>\n",
       "      <td>ultra</td>\n",
       "    </tr>\n",
       "    <tr>\n",
       "      <th>3</th>\n",
       "      <td>4</td>\n",
       "      <td>Константин</td>\n",
       "      <td>26</td>\n",
       "      <td>Ростов-на-Дону</td>\n",
       "      <td>ultra</td>\n",
       "    </tr>\n",
       "    <tr>\n",
       "      <th>4</th>\n",
       "      <td>5</td>\n",
       "      <td>Адель</td>\n",
       "      <td>28</td>\n",
       "      <td>Омск</td>\n",
       "      <td>ultra</td>\n",
       "    </tr>\n",
       "  </tbody>\n",
       "</table>\n",
       "</div>"
      ],
      "text/plain": [
       "   user_id        name  age            city subscription_type\n",
       "0        1        Кира   22          Тюмень             ultra\n",
       "1        2   Станислав   31            Омск             ultra\n",
       "2        3     Алексей   20          Москва             ultra\n",
       "3        4  Константин   26  Ростов-на-Дону             ultra\n",
       "4        5       Адель   28            Омск             ultra"
      ]
     },
     "metadata": {},
     "output_type": "display_data"
    }
   ],
   "source": [
    "#Информация датасета пользователей\n",
    "dataset_info(users)"
   ]
  },
  {
   "cell_type": "code",
   "execution_count": 5,
   "id": "e481e770",
   "metadata": {},
   "outputs": [
    {
     "name": "stdout",
     "output_type": "stream",
     "text": [
      "<class 'pandas.core.frame.DataFrame'>\n",
      "RangeIndex: 18068 entries, 0 to 18067\n",
      "Data columns (total 4 columns):\n",
      " #   Column    Non-Null Count  Dtype  \n",
      "---  ------    --------------  -----  \n",
      " 0   user_id   18068 non-null  int64  \n",
      " 1   distance  18068 non-null  float64\n",
      " 2   duration  18068 non-null  float64\n",
      " 3   date      18068 non-null  object \n",
      "dtypes: float64(2), int64(1), object(1)\n",
      "memory usage: 564.8+ KB\n",
      "None\n"
     ]
    },
    {
     "data": {
      "text/html": [
       "<div>\n",
       "<style scoped>\n",
       "    .dataframe tbody tr th:only-of-type {\n",
       "        vertical-align: middle;\n",
       "    }\n",
       "\n",
       "    .dataframe tbody tr th {\n",
       "        vertical-align: top;\n",
       "    }\n",
       "\n",
       "    .dataframe thead th {\n",
       "        text-align: right;\n",
       "    }\n",
       "</style>\n",
       "<table border=\"1\" class=\"dataframe\">\n",
       "  <thead>\n",
       "    <tr style=\"text-align: right;\">\n",
       "      <th></th>\n",
       "      <th>user_id</th>\n",
       "      <th>distance</th>\n",
       "      <th>duration</th>\n",
       "      <th>date</th>\n",
       "    </tr>\n",
       "  </thead>\n",
       "  <tbody>\n",
       "    <tr>\n",
       "      <th>0</th>\n",
       "      <td>1</td>\n",
       "      <td>4409.919140</td>\n",
       "      <td>25.599769</td>\n",
       "      <td>2021-01-01</td>\n",
       "    </tr>\n",
       "    <tr>\n",
       "      <th>1</th>\n",
       "      <td>1</td>\n",
       "      <td>2617.592153</td>\n",
       "      <td>15.816871</td>\n",
       "      <td>2021-01-18</td>\n",
       "    </tr>\n",
       "    <tr>\n",
       "      <th>2</th>\n",
       "      <td>1</td>\n",
       "      <td>754.159807</td>\n",
       "      <td>6.232113</td>\n",
       "      <td>2021-04-20</td>\n",
       "    </tr>\n",
       "    <tr>\n",
       "      <th>3</th>\n",
       "      <td>1</td>\n",
       "      <td>2694.783254</td>\n",
       "      <td>18.511000</td>\n",
       "      <td>2021-08-11</td>\n",
       "    </tr>\n",
       "    <tr>\n",
       "      <th>4</th>\n",
       "      <td>1</td>\n",
       "      <td>4028.687306</td>\n",
       "      <td>26.265803</td>\n",
       "      <td>2021-08-28</td>\n",
       "    </tr>\n",
       "  </tbody>\n",
       "</table>\n",
       "</div>"
      ],
      "text/plain": [
       "   user_id     distance   duration        date\n",
       "0        1  4409.919140  25.599769  2021-01-01\n",
       "1        1  2617.592153  15.816871  2021-01-18\n",
       "2        1   754.159807   6.232113  2021-04-20\n",
       "3        1  2694.783254  18.511000  2021-08-11\n",
       "4        1  4028.687306  26.265803  2021-08-28"
      ]
     },
     "metadata": {},
     "output_type": "display_data"
    }
   ],
   "source": [
    "#Информация датасета поездки\n",
    "dataset_info(rides)"
   ]
  },
  {
   "cell_type": "code",
   "execution_count": 6,
   "id": "6605321a",
   "metadata": {},
   "outputs": [
    {
     "name": "stdout",
     "output_type": "stream",
     "text": [
      "<class 'pandas.core.frame.DataFrame'>\n",
      "RangeIndex: 2 entries, 0 to 1\n",
      "Data columns (total 4 columns):\n",
      " #   Column             Non-Null Count  Dtype \n",
      "---  ------             --------------  ----- \n",
      " 0   subscription_type  2 non-null      object\n",
      " 1   minute_price       2 non-null      int64 \n",
      " 2   start_ride_price   2 non-null      int64 \n",
      " 3   subscription_fee   2 non-null      int64 \n",
      "dtypes: int64(3), object(1)\n",
      "memory usage: 192.0+ bytes\n",
      "None\n"
     ]
    },
    {
     "data": {
      "text/html": [
       "<div>\n",
       "<style scoped>\n",
       "    .dataframe tbody tr th:only-of-type {\n",
       "        vertical-align: middle;\n",
       "    }\n",
       "\n",
       "    .dataframe tbody tr th {\n",
       "        vertical-align: top;\n",
       "    }\n",
       "\n",
       "    .dataframe thead th {\n",
       "        text-align: right;\n",
       "    }\n",
       "</style>\n",
       "<table border=\"1\" class=\"dataframe\">\n",
       "  <thead>\n",
       "    <tr style=\"text-align: right;\">\n",
       "      <th></th>\n",
       "      <th>subscription_type</th>\n",
       "      <th>minute_price</th>\n",
       "      <th>start_ride_price</th>\n",
       "      <th>subscription_fee</th>\n",
       "    </tr>\n",
       "  </thead>\n",
       "  <tbody>\n",
       "    <tr>\n",
       "      <th>0</th>\n",
       "      <td>free</td>\n",
       "      <td>8</td>\n",
       "      <td>50</td>\n",
       "      <td>0</td>\n",
       "    </tr>\n",
       "    <tr>\n",
       "      <th>1</th>\n",
       "      <td>ultra</td>\n",
       "      <td>6</td>\n",
       "      <td>0</td>\n",
       "      <td>199</td>\n",
       "    </tr>\n",
       "  </tbody>\n",
       "</table>\n",
       "</div>"
      ],
      "text/plain": [
       "  subscription_type  minute_price  start_ride_price  subscription_fee\n",
       "0              free             8                50                 0\n",
       "1             ultra             6                 0               199"
      ]
     },
     "metadata": {},
     "output_type": "display_data"
    }
   ],
   "source": [
    "#Информация датасета подписки\n",
    "dataset_info(subscriptions)"
   ]
  },
  {
   "cell_type": "markdown",
   "id": "cad3f930",
   "metadata": {},
   "source": [
    "**Промежуточный вывод**\n",
    "\n",
    "Датасеты загрузились без ошибок и не имеют пропусков\n",
    "\n",
    "В датасете подписки столбец date имеет тип данных object\n"
   ]
  },
  {
   "cell_type": "markdown",
   "id": "e95ebca7",
   "metadata": {},
   "source": [
    "#### Шаг 2. Предобработка данных"
   ]
  },
  {
   "cell_type": "code",
   "execution_count": 7,
   "id": "000675ee",
   "metadata": {},
   "outputs": [],
   "source": [
    "# функция проверки на дубликаты и пустые значения\n",
    "def dataset_dub_null(dataset):\n",
    "    print('Количество явных дубликатов в датасете:', dataset.duplicated().sum())\n",
    "    print('Количество пропусков в датасете:')\n",
    "    print(dataset.isnull().sum())"
   ]
  },
  {
   "cell_type": "markdown",
   "id": "f611536f",
   "metadata": {},
   "source": [
    "**Датасет Пользователи**\n",
    "\n",
    "user_id - уникальный идентификатор пользователя\n",
    "\n",
    "name - имя пользователя\n",
    "\n",
    "age - возраст\n",
    "\n",
    "city - город\n",
    "\n",
    "subscription_type - тип подписки (free, ultra)"
   ]
  },
  {
   "cell_type": "code",
   "execution_count": 8,
   "id": "da0cceb6",
   "metadata": {},
   "outputs": [
    {
     "name": "stdout",
     "output_type": "stream",
     "text": [
      "Количество явных дубликатов в датасете: 31\n",
      "Количество пропусков в датасете:\n",
      "user_id              0\n",
      "name                 0\n",
      "age                  0\n",
      "city                 0\n",
      "subscription_type    0\n",
      "dtype: int64\n"
     ]
    }
   ],
   "source": [
    "#Проверяем на дубликаты и пропуски\n",
    "dataset_dub_null(users)"
   ]
  },
  {
   "cell_type": "code",
   "execution_count": 9,
   "id": "152692b9",
   "metadata": {
    "scrolled": true
   },
   "outputs": [
    {
     "name": "stdout",
     "output_type": "stream",
     "text": [
      "Количество явных дубликатов в датасете: 0\n"
     ]
    }
   ],
   "source": [
    "users = users.drop_duplicates()\n",
    "print('Количество явных дубликатов в датасете:', users.duplicated().sum())"
   ]
  },
  {
   "cell_type": "markdown",
   "id": "9a1d6e96",
   "metadata": {},
   "source": [
    "**Датасет Поездки**\n",
    "\n",
    "user_id - уникальный идентификатор пользователя\n",
    "\n",
    "distance - расстояние, которое пользователь проехал в текущей сессии (в метрах)\n",
    "\n",
    "duration - продолжительность сессии (в минутах) — время с того момента, как пользователь нажал кнопку «Начать поездку» до момента, как он нажал кнопку «Завершить поездку»\n",
    "\n",
    "date - дата совершения поездки"
   ]
  },
  {
   "cell_type": "code",
   "execution_count": 10,
   "id": "754ab94f",
   "metadata": {},
   "outputs": [
    {
     "name": "stdout",
     "output_type": "stream",
     "text": [
      "Количество явных дубликатов в датасете: 0\n",
      "Количество пропусков в датасете:\n",
      "user_id     0\n",
      "distance    0\n",
      "duration    0\n",
      "date        0\n",
      "dtype: int64\n"
     ]
    }
   ],
   "source": [
    "#Проверяем на дубликаты и пропуски\n",
    "dataset_dub_null(rides)"
   ]
  },
  {
   "cell_type": "code",
   "execution_count": 11,
   "id": "5f7d366d",
   "metadata": {},
   "outputs": [
    {
     "name": "stdout",
     "output_type": "stream",
     "text": [
      "<class 'pandas.core.frame.DataFrame'>\n",
      "RangeIndex: 18068 entries, 0 to 18067\n",
      "Data columns (total 5 columns):\n",
      " #   Column    Non-Null Count  Dtype         \n",
      "---  ------    --------------  -----         \n",
      " 0   user_id   18068 non-null  int64         \n",
      " 1   distance  18068 non-null  float64       \n",
      " 2   duration  18068 non-null  float64       \n",
      " 3   date      18068 non-null  datetime64[ns]\n",
      " 4   month     18068 non-null  int64         \n",
      "dtypes: datetime64[ns](1), float64(2), int64(2)\n",
      "memory usage: 705.9 KB\n",
      "None\n"
     ]
    },
    {
     "data": {
      "text/html": [
       "<div>\n",
       "<style scoped>\n",
       "    .dataframe tbody tr th:only-of-type {\n",
       "        vertical-align: middle;\n",
       "    }\n",
       "\n",
       "    .dataframe tbody tr th {\n",
       "        vertical-align: top;\n",
       "    }\n",
       "\n",
       "    .dataframe thead th {\n",
       "        text-align: right;\n",
       "    }\n",
       "</style>\n",
       "<table border=\"1\" class=\"dataframe\">\n",
       "  <thead>\n",
       "    <tr style=\"text-align: right;\">\n",
       "      <th></th>\n",
       "      <th>user_id</th>\n",
       "      <th>distance</th>\n",
       "      <th>duration</th>\n",
       "      <th>date</th>\n",
       "      <th>month</th>\n",
       "    </tr>\n",
       "  </thead>\n",
       "  <tbody>\n",
       "    <tr>\n",
       "      <th>0</th>\n",
       "      <td>1</td>\n",
       "      <td>4409.919140</td>\n",
       "      <td>25.599769</td>\n",
       "      <td>2021-01-01</td>\n",
       "      <td>1</td>\n",
       "    </tr>\n",
       "    <tr>\n",
       "      <th>1</th>\n",
       "      <td>1</td>\n",
       "      <td>2617.592153</td>\n",
       "      <td>15.816871</td>\n",
       "      <td>2021-01-18</td>\n",
       "      <td>1</td>\n",
       "    </tr>\n",
       "    <tr>\n",
       "      <th>2</th>\n",
       "      <td>1</td>\n",
       "      <td>754.159807</td>\n",
       "      <td>6.232113</td>\n",
       "      <td>2021-04-20</td>\n",
       "      <td>4</td>\n",
       "    </tr>\n",
       "    <tr>\n",
       "      <th>3</th>\n",
       "      <td>1</td>\n",
       "      <td>2694.783254</td>\n",
       "      <td>18.511000</td>\n",
       "      <td>2021-08-11</td>\n",
       "      <td>8</td>\n",
       "    </tr>\n",
       "    <tr>\n",
       "      <th>4</th>\n",
       "      <td>1</td>\n",
       "      <td>4028.687306</td>\n",
       "      <td>26.265803</td>\n",
       "      <td>2021-08-28</td>\n",
       "      <td>8</td>\n",
       "    </tr>\n",
       "  </tbody>\n",
       "</table>\n",
       "</div>"
      ],
      "text/plain": [
       "   user_id     distance   duration       date  month\n",
       "0        1  4409.919140  25.599769 2021-01-01      1\n",
       "1        1  2617.592153  15.816871 2021-01-18      1\n",
       "2        1   754.159807   6.232113 2021-04-20      4\n",
       "3        1  2694.783254  18.511000 2021-08-11      8\n",
       "4        1  4028.687306  26.265803 2021-08-28      8"
      ]
     },
     "metadata": {},
     "output_type": "display_data"
    }
   ],
   "source": [
    "# изменение типа данных в date(object) на datetime\n",
    "rides.date = pd.to_datetime(rides.date, format='%Y-%m-%d')\n",
    "\n",
    "# cоздание нового столбца с номером месяца на основе столбца date\n",
    "rides['month'] = rides.date.dt.month\n",
    "dataset_info(rides)"
   ]
  },
  {
   "cell_type": "markdown",
   "id": "58f9f202",
   "metadata": {},
   "source": [
    "**Датасет Подписки**\n",
    "\n",
    "subscription_type - тип подписки\n",
    "\n",
    "minute_price - стоимость одной минуты поездки по данной подписке\n",
    "\n",
    "start_ride_price - стоимость начала поездки\n",
    "\n",
    "subscription_fee - стоимость ежемесячного платежа"
   ]
  },
  {
   "cell_type": "code",
   "execution_count": 12,
   "id": "9e884865",
   "metadata": {},
   "outputs": [
    {
     "name": "stdout",
     "output_type": "stream",
     "text": [
      "Количество явных дубликатов в датасете: 0\n",
      "Количество пропусков в датасете:\n",
      "subscription_type    0\n",
      "minute_price         0\n",
      "start_ride_price     0\n",
      "subscription_fee     0\n",
      "dtype: int64\n"
     ]
    }
   ],
   "source": [
    "#Проверяем на дубликаты и пропуски\n",
    "dataset_dub_null(subscriptions)"
   ]
  },
  {
   "cell_type": "markdown",
   "id": "a45826e4",
   "metadata": {},
   "source": [
    "**Промежуточный вывод**\n",
    "\n",
    "-Обнаружили и убрали дубликаты в датасете Пользователи\n",
    "\n",
    "-Изменили тип данных в датасете Поездки стоблца \"date\" с object на datetime\n",
    "\n",
    "-Создали новый столбец в датасете Поездки с номером месяца на основе данных столбца \"date\""
   ]
  },
  {
   "cell_type": "markdown",
   "id": "212593c7",
   "metadata": {},
   "source": [
    "#### Шаг 3. Исследовательский анализ данных"
   ]
  },
  {
   "cell_type": "markdown",
   "id": "81ebf623",
   "metadata": {},
   "source": [
    "**Опишите и визуализируйте общую информацию о пользователях и поездках:**"
   ]
  },
  {
   "cell_type": "markdown",
   "id": "73f4d4f7",
   "metadata": {},
   "source": [
    "##### Частота встречаемости городов;"
   ]
  },
  {
   "cell_type": "code",
   "execution_count": 13,
   "id": "797e9cc0",
   "metadata": {},
   "outputs": [
    {
     "data": {
      "image/png": "[encoded data removed]",
      "text/plain": [
       "<Figure size 432x216 with 1 Axes>"
      ]
     },
     "metadata": {
      "needs_background": "light"
     },
     "output_type": "display_data"
    },
    {
     "data": {
      "text/html": [
       "<div>\n",
       "<style scoped>\n",
       "    .dataframe tbody tr th:only-of-type {\n",
       "        vertical-align: middle;\n",
       "    }\n",
       "\n",
       "    .dataframe tbody tr th {\n",
       "        vertical-align: top;\n",
       "    }\n",
       "\n",
       "    .dataframe thead th {\n",
       "        text-align: right;\n",
       "    }\n",
       "</style>\n",
       "<table border=\"1\" class=\"dataframe\">\n",
       "  <thead>\n",
       "    <tr style=\"text-align: right;\">\n",
       "      <th></th>\n",
       "      <th>user_id</th>\n",
       "    </tr>\n",
       "    <tr>\n",
       "      <th>city</th>\n",
       "      <th></th>\n",
       "    </tr>\n",
       "  </thead>\n",
       "  <tbody>\n",
       "    <tr>\n",
       "      <th>Пятигорск</th>\n",
       "      <td>219</td>\n",
       "    </tr>\n",
       "    <tr>\n",
       "      <th>Екатеринбург</th>\n",
       "      <td>204</td>\n",
       "    </tr>\n",
       "    <tr>\n",
       "      <th>Ростов-на-Дону</th>\n",
       "      <td>198</td>\n",
       "    </tr>\n",
       "    <tr>\n",
       "      <th>Краснодар</th>\n",
       "      <td>193</td>\n",
       "    </tr>\n",
       "    <tr>\n",
       "      <th>Сочи</th>\n",
       "      <td>189</td>\n",
       "    </tr>\n",
       "    <tr>\n",
       "      <th>Омск</th>\n",
       "      <td>183</td>\n",
       "    </tr>\n",
       "    <tr>\n",
       "      <th>Тюмень</th>\n",
       "      <td>180</td>\n",
       "    </tr>\n",
       "    <tr>\n",
       "      <th>Москва</th>\n",
       "      <td>168</td>\n",
       "    </tr>\n",
       "  </tbody>\n",
       "</table>\n",
       "</div>"
      ],
      "text/plain": [
       "                user_id\n",
       "city                   \n",
       "Пятигорск           219\n",
       "Екатеринбург        204\n",
       "Ростов-на-Дону      198\n",
       "Краснодар           193\n",
       "Сочи                189\n",
       "Омск                183\n",
       "Тюмень              180\n",
       "Москва              168"
      ]
     },
     "execution_count": 13,
     "metadata": {},
     "output_type": "execute_result"
    }
   ],
   "source": [
    "users_city = users.pivot_table(index = 'city', values = 'user_id', aggfunc = 'count').sort_values(by = 'user_id')\n",
    "users_city.plot.barh(figsize = (6,3), \n",
    "                     grid = True,\n",
    "                     title = 'Частота встречаемости городов')     \n",
    "plt.xlabel('Количество пользователей')\n",
    "plt.ylabel('Города')\n",
    "plt.show()\n",
    "users_city.sort_values(by = 'user_id', ascending = False)"
   ]
  },
  {
   "cell_type": "markdown",
   "id": "96fc5816",
   "metadata": {},
   "source": [
    "**Вывод:**\n",
    " \n",
    "Датасет содержит данные из 8 городов\n",
    "\n",
    "Больше всего пользователей в GoFast  в Пятигорске - 219 пользователей, меньше всего в Москве - 168 пользователей"
   ]
  },
  {
   "cell_type": "markdown",
   "id": "6713c363",
   "metadata": {},
   "source": [
    "##### Cоотношение пользователей с подпиской и без подписки;"
   ]
  },
  {
   "cell_type": "code",
   "execution_count": 14,
   "id": "023e3960",
   "metadata": {},
   "outputs": [
    {
     "data": {
      "image/png": "[encoded data removed]",
      "text/plain": [
       "<Figure size 432x216 with 1 Axes>"
      ]
     },
     "metadata": {},
     "output_type": "display_data"
    },
    {
     "data": {
      "text/html": [
       "<div>\n",
       "<style scoped>\n",
       "    .dataframe tbody tr th:only-of-type {\n",
       "        vertical-align: middle;\n",
       "    }\n",
       "\n",
       "    .dataframe tbody tr th {\n",
       "        vertical-align: top;\n",
       "    }\n",
       "\n",
       "    .dataframe thead th {\n",
       "        text-align: right;\n",
       "    }\n",
       "</style>\n",
       "<table border=\"1\" class=\"dataframe\">\n",
       "  <thead>\n",
       "    <tr style=\"text-align: right;\">\n",
       "      <th></th>\n",
       "      <th>user_id</th>\n",
       "    </tr>\n",
       "    <tr>\n",
       "      <th>subscription_type</th>\n",
       "      <th></th>\n",
       "    </tr>\n",
       "  </thead>\n",
       "  <tbody>\n",
       "    <tr>\n",
       "      <th>free</th>\n",
       "      <td>835</td>\n",
       "    </tr>\n",
       "    <tr>\n",
       "      <th>ultra</th>\n",
       "      <td>699</td>\n",
       "    </tr>\n",
       "  </tbody>\n",
       "</table>\n",
       "</div>"
      ],
      "text/plain": [
       "                   user_id\n",
       "subscription_type         \n",
       "free                   835\n",
       "ultra                  699"
      ]
     },
     "execution_count": 14,
     "metadata": {},
     "output_type": "execute_result"
    }
   ],
   "source": [
    "users_sub = users.pivot_table(index = 'subscription_type', values = 'user_id', aggfunc = 'count')\n",
    "users_sub.plot.pie(figsize = (6,3), \n",
    "                    subplots=True,\n",
    "                    autopct='%1.1f%%',\n",
    "                    title = 'Cоотношение пользователей с подпиской и без подписки;')\n",
    "\n",
    "plt.show()\n",
    "users_sub"
   ]
  },
  {
   "cell_type": "markdown",
   "id": "9ee02535",
   "metadata": {},
   "source": [
    "Пользователей без подписки больше, чем пользователей с подпиской ultra"
   ]
  },
  {
   "cell_type": "markdown",
   "id": "e35d0b0a",
   "metadata": {},
   "source": [
    "#####  Возраст пользователей;"
   ]
  },
  {
   "cell_type": "code",
   "execution_count": 15,
   "id": "76d78d9f",
   "metadata": {},
   "outputs": [
    {
     "data": {
      "image/png": "[encoded data removed]",
      "text/plain": [
       "<Figure size 360x360 with 1 Axes>"
      ]
     },
     "metadata": {
      "needs_background": "light"
     },
     "output_type": "display_data"
    },
    {
     "data": {
      "text/plain": [
       "count    1534.000000\n",
       "mean       24.903520\n",
       "std         4.572367\n",
       "min        12.000000\n",
       "25%        22.000000\n",
       "50%        25.000000\n",
       "75%        28.000000\n",
       "max        43.000000\n",
       "Name: age, dtype: float64"
      ]
     },
     "execution_count": 15,
     "metadata": {},
     "output_type": "execute_result"
    }
   ],
   "source": [
    "users['age'].hist(grid=True,\n",
    "                figsize=(5,5),\n",
    "                bins=30)\n",
    "plt.xlabel('Возвраст')\n",
    "plt.ylabel('Количество пользователей')\n",
    "plt.title('Возраст пользователей')\n",
    "plt.show()\n",
    "users['age'].describe()"
   ]
  },
  {
   "cell_type": "markdown",
   "id": "a1f8d88f",
   "metadata": {},
   "source": [
    "**Вывод**\n",
    "\n",
    "Данные имеют нормальное распределение, пик и преобладающий возвраст имеет 25 лет, средний возвраст 24,9 лет"
   ]
  },
  {
   "cell_type": "markdown",
   "id": "ba4aa51d",
   "metadata": {},
   "source": [
    "#####  Расстояние, которое пользователь преодолел за одну поездку;"
   ]
  },
  {
   "cell_type": "code",
   "execution_count": 16,
   "id": "398f2adf",
   "metadata": {},
   "outputs": [
    {
     "data": {
      "image/png": "[encoded data removed]",
      "text/plain": [
       "<Figure size 360x360 with 1 Axes>"
      ]
     },
     "metadata": {
      "needs_background": "light"
     },
     "output_type": "display_data"
    },
    {
     "data": {
      "text/plain": [
       "count    18068.000000\n",
       "mean      3070.659976\n",
       "std       1116.831209\n",
       "min          0.855683\n",
       "25%       2543.226360\n",
       "50%       3133.609994\n",
       "75%       3776.222735\n",
       "max       7211.007745\n",
       "Name: distance, dtype: float64"
      ]
     },
     "execution_count": 16,
     "metadata": {},
     "output_type": "execute_result"
    }
   ],
   "source": [
    "rides['distance'].hist(grid=True,\n",
    "                figsize=(5,5),\n",
    "                bins=30)\n",
    "plt.xlabel('Расстояние,м')\n",
    "plt.ylabel('Количество пользователей')\n",
    "plt.title('Расстояние одной поездки')\n",
    "plt.show()\n",
    "rides['distance'].describe()"
   ]
  },
  {
   "cell_type": "markdown",
   "id": "3a759ea6",
   "metadata": {},
   "source": [
    "**Вывод**\n",
    "\n",
    "Среднее расстоние за одну поездку большинсвта пользователей составляет 3070м. Также на 700м пройденнего расстояние есть всплеск, возможно это связано с тем, что пользователи хотят добраться до ближайшего метро, остановки. \n"
   ]
  },
  {
   "cell_type": "markdown",
   "id": "a0d6b5d9",
   "metadata": {},
   "source": [
    "##### Продолжительность поездок."
   ]
  },
  {
   "cell_type": "code",
   "execution_count": 17,
   "id": "70c75290",
   "metadata": {},
   "outputs": [
    {
     "data": {
      "image/png": "[encoded data removed]",
      "text/plain": [
       "<Figure size 360x360 with 1 Axes>"
      ]
     },
     "metadata": {
      "needs_background": "light"
     },
     "output_type": "display_data"
    },
    {
     "data": {
      "text/plain": [
       "count    18068.000000\n",
       "mean        17.805011\n",
       "std          6.091051\n",
       "min          0.500000\n",
       "25%         13.597563\n",
       "50%         17.678395\n",
       "75%         21.724800\n",
       "max         40.823963\n",
       "Name: duration, dtype: float64"
      ]
     },
     "execution_count": 17,
     "metadata": {},
     "output_type": "execute_result"
    }
   ],
   "source": [
    "rides['duration'].hist(grid=True,\n",
    "                figsize=(5,5),\n",
    "                bins=30)\n",
    "plt.xlabel('Время,мин')\n",
    "plt.ylabel('Количество пользователей')\n",
    "plt.title('Продолжительность поездок')\n",
    "plt.show()\n",
    "rides['duration'].describe()"
   ]
  },
  {
   "cell_type": "markdown",
   "id": "0e04d9a4",
   "metadata": {},
   "source": [
    "**Вывод**\n",
    "Данные распределяются нормальным распределением. Среднее время поездки - 17,8 минут."
   ]
  },
  {
   "cell_type": "markdown",
   "id": "4ef51331",
   "metadata": {},
   "source": [
    "#### Шаг 4. Объединение данных"
   ]
  },
  {
   "cell_type": "markdown",
   "id": "fa506f6c",
   "metadata": {},
   "source": [
    "##### Объедините данные о пользователях, поездках и подписках в один датафрейм. "
   ]
  },
  {
   "cell_type": "code",
   "execution_count": 18,
   "id": "11b45fea",
   "metadata": {},
   "outputs": [
    {
     "name": "stdout",
     "output_type": "stream",
     "text": [
      "Количество строк в датасете rides: 18068\n"
     ]
    }
   ],
   "source": [
    "print('Количество строк в датасете rides:',rides.shape[0])\n"
   ]
  },
  {
   "cell_type": "code",
   "execution_count": 19,
   "id": "b6cb40aa",
   "metadata": {},
   "outputs": [
    {
     "data": {
      "text/html": [
       "<div>\n",
       "<style scoped>\n",
       "    .dataframe tbody tr th:only-of-type {\n",
       "        vertical-align: middle;\n",
       "    }\n",
       "\n",
       "    .dataframe tbody tr th {\n",
       "        vertical-align: top;\n",
       "    }\n",
       "\n",
       "    .dataframe thead th {\n",
       "        text-align: right;\n",
       "    }\n",
       "</style>\n",
       "<table border=\"1\" class=\"dataframe\">\n",
       "  <thead>\n",
       "    <tr style=\"text-align: right;\">\n",
       "      <th></th>\n",
       "      <th>user_id</th>\n",
       "      <th>distance</th>\n",
       "      <th>duration</th>\n",
       "      <th>date</th>\n",
       "      <th>month</th>\n",
       "      <th>name</th>\n",
       "      <th>age</th>\n",
       "      <th>city</th>\n",
       "      <th>subscription_type</th>\n",
       "      <th>minute_price</th>\n",
       "      <th>start_ride_price</th>\n",
       "      <th>subscription_fee</th>\n",
       "    </tr>\n",
       "  </thead>\n",
       "  <tbody>\n",
       "    <tr>\n",
       "      <th>0</th>\n",
       "      <td>1</td>\n",
       "      <td>4409.919140</td>\n",
       "      <td>25.599769</td>\n",
       "      <td>2021-01-01</td>\n",
       "      <td>1</td>\n",
       "      <td>Кира</td>\n",
       "      <td>22</td>\n",
       "      <td>Тюмень</td>\n",
       "      <td>ultra</td>\n",
       "      <td>6</td>\n",
       "      <td>0</td>\n",
       "      <td>199</td>\n",
       "    </tr>\n",
       "    <tr>\n",
       "      <th>1</th>\n",
       "      <td>1</td>\n",
       "      <td>2617.592153</td>\n",
       "      <td>15.816871</td>\n",
       "      <td>2021-01-18</td>\n",
       "      <td>1</td>\n",
       "      <td>Кира</td>\n",
       "      <td>22</td>\n",
       "      <td>Тюмень</td>\n",
       "      <td>ultra</td>\n",
       "      <td>6</td>\n",
       "      <td>0</td>\n",
       "      <td>199</td>\n",
       "    </tr>\n",
       "    <tr>\n",
       "      <th>2</th>\n",
       "      <td>1</td>\n",
       "      <td>754.159807</td>\n",
       "      <td>6.232113</td>\n",
       "      <td>2021-04-20</td>\n",
       "      <td>4</td>\n",
       "      <td>Кира</td>\n",
       "      <td>22</td>\n",
       "      <td>Тюмень</td>\n",
       "      <td>ultra</td>\n",
       "      <td>6</td>\n",
       "      <td>0</td>\n",
       "      <td>199</td>\n",
       "    </tr>\n",
       "    <tr>\n",
       "      <th>3</th>\n",
       "      <td>1</td>\n",
       "      <td>2694.783254</td>\n",
       "      <td>18.511000</td>\n",
       "      <td>2021-08-11</td>\n",
       "      <td>8</td>\n",
       "      <td>Кира</td>\n",
       "      <td>22</td>\n",
       "      <td>Тюмень</td>\n",
       "      <td>ultra</td>\n",
       "      <td>6</td>\n",
       "      <td>0</td>\n",
       "      <td>199</td>\n",
       "    </tr>\n",
       "    <tr>\n",
       "      <th>4</th>\n",
       "      <td>1</td>\n",
       "      <td>4028.687306</td>\n",
       "      <td>26.265803</td>\n",
       "      <td>2021-08-28</td>\n",
       "      <td>8</td>\n",
       "      <td>Кира</td>\n",
       "      <td>22</td>\n",
       "      <td>Тюмень</td>\n",
       "      <td>ultra</td>\n",
       "      <td>6</td>\n",
       "      <td>0</td>\n",
       "      <td>199</td>\n",
       "    </tr>\n",
       "    <tr>\n",
       "      <th>...</th>\n",
       "      <td>...</td>\n",
       "      <td>...</td>\n",
       "      <td>...</td>\n",
       "      <td>...</td>\n",
       "      <td>...</td>\n",
       "      <td>...</td>\n",
       "      <td>...</td>\n",
       "      <td>...</td>\n",
       "      <td>...</td>\n",
       "      <td>...</td>\n",
       "      <td>...</td>\n",
       "      <td>...</td>\n",
       "    </tr>\n",
       "    <tr>\n",
       "      <th>18063</th>\n",
       "      <td>1534</td>\n",
       "      <td>3781.098080</td>\n",
       "      <td>19.822962</td>\n",
       "      <td>2021-11-04</td>\n",
       "      <td>11</td>\n",
       "      <td>Альберт</td>\n",
       "      <td>25</td>\n",
       "      <td>Краснодар</td>\n",
       "      <td>free</td>\n",
       "      <td>8</td>\n",
       "      <td>50</td>\n",
       "      <td>0</td>\n",
       "    </tr>\n",
       "    <tr>\n",
       "      <th>18064</th>\n",
       "      <td>1534</td>\n",
       "      <td>2840.423057</td>\n",
       "      <td>21.409799</td>\n",
       "      <td>2021-11-16</td>\n",
       "      <td>11</td>\n",
       "      <td>Альберт</td>\n",
       "      <td>25</td>\n",
       "      <td>Краснодар</td>\n",
       "      <td>free</td>\n",
       "      <td>8</td>\n",
       "      <td>50</td>\n",
       "      <td>0</td>\n",
       "    </tr>\n",
       "    <tr>\n",
       "      <th>18065</th>\n",
       "      <td>1534</td>\n",
       "      <td>3826.185507</td>\n",
       "      <td>18.435051</td>\n",
       "      <td>2021-11-18</td>\n",
       "      <td>11</td>\n",
       "      <td>Альберт</td>\n",
       "      <td>25</td>\n",
       "      <td>Краснодар</td>\n",
       "      <td>free</td>\n",
       "      <td>8</td>\n",
       "      <td>50</td>\n",
       "      <td>0</td>\n",
       "    </tr>\n",
       "    <tr>\n",
       "      <th>18066</th>\n",
       "      <td>1534</td>\n",
       "      <td>2902.308661</td>\n",
       "      <td>16.674362</td>\n",
       "      <td>2021-11-27</td>\n",
       "      <td>11</td>\n",
       "      <td>Альберт</td>\n",
       "      <td>25</td>\n",
       "      <td>Краснодар</td>\n",
       "      <td>free</td>\n",
       "      <td>8</td>\n",
       "      <td>50</td>\n",
       "      <td>0</td>\n",
       "    </tr>\n",
       "    <tr>\n",
       "      <th>18067</th>\n",
       "      <td>1534</td>\n",
       "      <td>2371.711192</td>\n",
       "      <td>15.893917</td>\n",
       "      <td>2021-12-29</td>\n",
       "      <td>12</td>\n",
       "      <td>Альберт</td>\n",
       "      <td>25</td>\n",
       "      <td>Краснодар</td>\n",
       "      <td>free</td>\n",
       "      <td>8</td>\n",
       "      <td>50</td>\n",
       "      <td>0</td>\n",
       "    </tr>\n",
       "  </tbody>\n",
       "</table>\n",
       "<p>18068 rows × 12 columns</p>\n",
       "</div>"
      ],
      "text/plain": [
       "       user_id     distance   duration       date  month     name  age  \\\n",
       "0            1  4409.919140  25.599769 2021-01-01      1     Кира   22   \n",
       "1            1  2617.592153  15.816871 2021-01-18      1     Кира   22   \n",
       "2            1   754.159807   6.232113 2021-04-20      4     Кира   22   \n",
       "3            1  2694.783254  18.511000 2021-08-11      8     Кира   22   \n",
       "4            1  4028.687306  26.265803 2021-08-28      8     Кира   22   \n",
       "...        ...          ...        ...        ...    ...      ...  ...   \n",
       "18063     1534  3781.098080  19.822962 2021-11-04     11  Альберт   25   \n",
       "18064     1534  2840.423057  21.409799 2021-11-16     11  Альберт   25   \n",
       "18065     1534  3826.185507  18.435051 2021-11-18     11  Альберт   25   \n",
       "18066     1534  2902.308661  16.674362 2021-11-27     11  Альберт   25   \n",
       "18067     1534  2371.711192  15.893917 2021-12-29     12  Альберт   25   \n",
       "\n",
       "            city subscription_type  minute_price  start_ride_price  \\\n",
       "0         Тюмень             ultra             6                 0   \n",
       "1         Тюмень             ultra             6                 0   \n",
       "2         Тюмень             ultra             6                 0   \n",
       "3         Тюмень             ultra             6                 0   \n",
       "4         Тюмень             ultra             6                 0   \n",
       "...          ...               ...           ...               ...   \n",
       "18063  Краснодар              free             8                50   \n",
       "18064  Краснодар              free             8                50   \n",
       "18065  Краснодар              free             8                50   \n",
       "18066  Краснодар              free             8                50   \n",
       "18067  Краснодар              free             8                50   \n",
       "\n",
       "       subscription_fee  \n",
       "0                   199  \n",
       "1                   199  \n",
       "2                   199  \n",
       "3                   199  \n",
       "4                   199  \n",
       "...                 ...  \n",
       "18063                 0  \n",
       "18064                 0  \n",
       "18065                 0  \n",
       "18066                 0  \n",
       "18067                 0  \n",
       "\n",
       "[18068 rows x 12 columns]"
      ]
     },
     "metadata": {},
     "output_type": "display_data"
    },
    {
     "name": "stdout",
     "output_type": "stream",
     "text": [
      "Количество строк в датасете df_mrg_free: 18068\n"
     ]
    }
   ],
   "source": [
    "merged_df = rides.copy()\n",
    "merged_df = merged_df.merge(users, how = 'left', on = 'user_id' )\n",
    "merged_df = merged_df.merge(subscriptions, how = 'left', on='subscription_type')\n",
    "display(merged_df)\n",
    "print('Количество строк в датасете df_mrg_free:', merged_df.shape[0])"
   ]
  },
  {
   "cell_type": "code",
   "execution_count": 20,
   "id": "a67f25c4",
   "metadata": {},
   "outputs": [
    {
     "name": "stdout",
     "output_type": "stream",
     "text": [
      "Количество явных дубликатов в датасете: 0\n",
      "Количество пропусков в датасете:\n",
      "user_id              0\n",
      "distance             0\n",
      "duration             0\n",
      "date                 0\n",
      "month                0\n",
      "name                 0\n",
      "age                  0\n",
      "city                 0\n",
      "subscription_type    0\n",
      "minute_price         0\n",
      "start_ride_price     0\n",
      "subscription_fee     0\n",
      "dtype: int64\n"
     ]
    }
   ],
   "source": [
    "dataset_dub_null(merged_df)"
   ]
  },
  {
   "cell_type": "markdown",
   "id": "b4495cd8",
   "metadata": {},
   "source": [
    "##### Создайте ещё два датафрейма из датафрейма, созданного на этапе 4.1:\n",
    "c данными о пользователях без подписки;\n",
    "\n",
    "с данными о пользователях с подпиской."
   ]
  },
  {
   "cell_type": "code",
   "execution_count": 21,
   "id": "a1a3d7de",
   "metadata": {
    "scrolled": true
   },
   "outputs": [
    {
     "data": {
      "text/html": [
       "<div>\n",
       "<style scoped>\n",
       "    .dataframe tbody tr th:only-of-type {\n",
       "        vertical-align: middle;\n",
       "    }\n",
       "\n",
       "    .dataframe tbody tr th {\n",
       "        vertical-align: top;\n",
       "    }\n",
       "\n",
       "    .dataframe thead th {\n",
       "        text-align: right;\n",
       "    }\n",
       "</style>\n",
       "<table border=\"1\" class=\"dataframe\">\n",
       "  <thead>\n",
       "    <tr style=\"text-align: right;\">\n",
       "      <th></th>\n",
       "      <th>user_id</th>\n",
       "      <th>distance</th>\n",
       "      <th>duration</th>\n",
       "      <th>date</th>\n",
       "      <th>month</th>\n",
       "      <th>name</th>\n",
       "      <th>age</th>\n",
       "      <th>city</th>\n",
       "      <th>subscription_type</th>\n",
       "      <th>minute_price</th>\n",
       "      <th>start_ride_price</th>\n",
       "      <th>subscription_fee</th>\n",
       "    </tr>\n",
       "  </thead>\n",
       "  <tbody>\n",
       "    <tr>\n",
       "      <th>6500</th>\n",
       "      <td>700</td>\n",
       "      <td>2515.690719</td>\n",
       "      <td>14.944286</td>\n",
       "      <td>2021-01-02</td>\n",
       "      <td>1</td>\n",
       "      <td>Айдар</td>\n",
       "      <td>22</td>\n",
       "      <td>Омск</td>\n",
       "      <td>free</td>\n",
       "      <td>8</td>\n",
       "      <td>50</td>\n",
       "      <td>0</td>\n",
       "    </tr>\n",
       "    <tr>\n",
       "      <th>6501</th>\n",
       "      <td>700</td>\n",
       "      <td>846.932642</td>\n",
       "      <td>16.234663</td>\n",
       "      <td>2021-02-01</td>\n",
       "      <td>2</td>\n",
       "      <td>Айдар</td>\n",
       "      <td>22</td>\n",
       "      <td>Омск</td>\n",
       "      <td>free</td>\n",
       "      <td>8</td>\n",
       "      <td>50</td>\n",
       "      <td>0</td>\n",
       "    </tr>\n",
       "    <tr>\n",
       "      <th>6502</th>\n",
       "      <td>700</td>\n",
       "      <td>4004.434142</td>\n",
       "      <td>20.016628</td>\n",
       "      <td>2021-02-04</td>\n",
       "      <td>2</td>\n",
       "      <td>Айдар</td>\n",
       "      <td>22</td>\n",
       "      <td>Омск</td>\n",
       "      <td>free</td>\n",
       "      <td>8</td>\n",
       "      <td>50</td>\n",
       "      <td>0</td>\n",
       "    </tr>\n",
       "    <tr>\n",
       "      <th>6503</th>\n",
       "      <td>700</td>\n",
       "      <td>1205.911290</td>\n",
       "      <td>9.782872</td>\n",
       "      <td>2021-02-10</td>\n",
       "      <td>2</td>\n",
       "      <td>Айдар</td>\n",
       "      <td>22</td>\n",
       "      <td>Омск</td>\n",
       "      <td>free</td>\n",
       "      <td>8</td>\n",
       "      <td>50</td>\n",
       "      <td>0</td>\n",
       "    </tr>\n",
       "    <tr>\n",
       "      <th>6504</th>\n",
       "      <td>700</td>\n",
       "      <td>3047.379435</td>\n",
       "      <td>17.427673</td>\n",
       "      <td>2021-02-14</td>\n",
       "      <td>2</td>\n",
       "      <td>Айдар</td>\n",
       "      <td>22</td>\n",
       "      <td>Омск</td>\n",
       "      <td>free</td>\n",
       "      <td>8</td>\n",
       "      <td>50</td>\n",
       "      <td>0</td>\n",
       "    </tr>\n",
       "  </tbody>\n",
       "</table>\n",
       "</div>"
      ],
      "text/plain": [
       "      user_id     distance   duration       date  month   name  age  city  \\\n",
       "6500      700  2515.690719  14.944286 2021-01-02      1  Айдар   22  Омск   \n",
       "6501      700   846.932642  16.234663 2021-02-01      2  Айдар   22  Омск   \n",
       "6502      700  4004.434142  20.016628 2021-02-04      2  Айдар   22  Омск   \n",
       "6503      700  1205.911290   9.782872 2021-02-10      2  Айдар   22  Омск   \n",
       "6504      700  3047.379435  17.427673 2021-02-14      2  Айдар   22  Омск   \n",
       "\n",
       "     subscription_type  minute_price  start_ride_price  subscription_fee  \n",
       "6500              free             8                50                 0  \n",
       "6501              free             8                50                 0  \n",
       "6502              free             8                50                 0  \n",
       "6503              free             8                50                 0  \n",
       "6504              free             8                50                 0  "
      ]
     },
     "metadata": {},
     "output_type": "display_data"
    },
    {
     "name": "stdout",
     "output_type": "stream",
     "text": [
      "Количество строк в датасете df_mrg_free: 11568\n"
     ]
    }
   ],
   "source": [
    "merged_df_free = merged_df[merged_df['subscription_type'] == 'free']\n",
    "display(merged_df_free.head())\n",
    "print('Количество строк в датасете df_mrg_free:', merged_df_free.shape[0])"
   ]
  },
  {
   "cell_type": "code",
   "execution_count": 22,
   "id": "b92fce09",
   "metadata": {},
   "outputs": [
    {
     "data": {
      "text/html": [
       "<div>\n",
       "<style scoped>\n",
       "    .dataframe tbody tr th:only-of-type {\n",
       "        vertical-align: middle;\n",
       "    }\n",
       "\n",
       "    .dataframe tbody tr th {\n",
       "        vertical-align: top;\n",
       "    }\n",
       "\n",
       "    .dataframe thead th {\n",
       "        text-align: right;\n",
       "    }\n",
       "</style>\n",
       "<table border=\"1\" class=\"dataframe\">\n",
       "  <thead>\n",
       "    <tr style=\"text-align: right;\">\n",
       "      <th></th>\n",
       "      <th>user_id</th>\n",
       "      <th>distance</th>\n",
       "      <th>duration</th>\n",
       "      <th>date</th>\n",
       "      <th>month</th>\n",
       "      <th>name</th>\n",
       "      <th>age</th>\n",
       "      <th>city</th>\n",
       "      <th>subscription_type</th>\n",
       "      <th>minute_price</th>\n",
       "      <th>start_ride_price</th>\n",
       "      <th>subscription_fee</th>\n",
       "    </tr>\n",
       "  </thead>\n",
       "  <tbody>\n",
       "    <tr>\n",
       "      <th>0</th>\n",
       "      <td>1</td>\n",
       "      <td>4409.919140</td>\n",
       "      <td>25.599769</td>\n",
       "      <td>2021-01-01</td>\n",
       "      <td>1</td>\n",
       "      <td>Кира</td>\n",
       "      <td>22</td>\n",
       "      <td>Тюмень</td>\n",
       "      <td>ultra</td>\n",
       "      <td>6</td>\n",
       "      <td>0</td>\n",
       "      <td>199</td>\n",
       "    </tr>\n",
       "    <tr>\n",
       "      <th>1</th>\n",
       "      <td>1</td>\n",
       "      <td>2617.592153</td>\n",
       "      <td>15.816871</td>\n",
       "      <td>2021-01-18</td>\n",
       "      <td>1</td>\n",
       "      <td>Кира</td>\n",
       "      <td>22</td>\n",
       "      <td>Тюмень</td>\n",
       "      <td>ultra</td>\n",
       "      <td>6</td>\n",
       "      <td>0</td>\n",
       "      <td>199</td>\n",
       "    </tr>\n",
       "    <tr>\n",
       "      <th>2</th>\n",
       "      <td>1</td>\n",
       "      <td>754.159807</td>\n",
       "      <td>6.232113</td>\n",
       "      <td>2021-04-20</td>\n",
       "      <td>4</td>\n",
       "      <td>Кира</td>\n",
       "      <td>22</td>\n",
       "      <td>Тюмень</td>\n",
       "      <td>ultra</td>\n",
       "      <td>6</td>\n",
       "      <td>0</td>\n",
       "      <td>199</td>\n",
       "    </tr>\n",
       "    <tr>\n",
       "      <th>3</th>\n",
       "      <td>1</td>\n",
       "      <td>2694.783254</td>\n",
       "      <td>18.511000</td>\n",
       "      <td>2021-08-11</td>\n",
       "      <td>8</td>\n",
       "      <td>Кира</td>\n",
       "      <td>22</td>\n",
       "      <td>Тюмень</td>\n",
       "      <td>ultra</td>\n",
       "      <td>6</td>\n",
       "      <td>0</td>\n",
       "      <td>199</td>\n",
       "    </tr>\n",
       "    <tr>\n",
       "      <th>4</th>\n",
       "      <td>1</td>\n",
       "      <td>4028.687306</td>\n",
       "      <td>26.265803</td>\n",
       "      <td>2021-08-28</td>\n",
       "      <td>8</td>\n",
       "      <td>Кира</td>\n",
       "      <td>22</td>\n",
       "      <td>Тюмень</td>\n",
       "      <td>ultra</td>\n",
       "      <td>6</td>\n",
       "      <td>0</td>\n",
       "      <td>199</td>\n",
       "    </tr>\n",
       "  </tbody>\n",
       "</table>\n",
       "</div>"
      ],
      "text/plain": [
       "   user_id     distance   duration       date  month  name  age    city  \\\n",
       "0        1  4409.919140  25.599769 2021-01-01      1  Кира   22  Тюмень   \n",
       "1        1  2617.592153  15.816871 2021-01-18      1  Кира   22  Тюмень   \n",
       "2        1   754.159807   6.232113 2021-04-20      4  Кира   22  Тюмень   \n",
       "3        1  2694.783254  18.511000 2021-08-11      8  Кира   22  Тюмень   \n",
       "4        1  4028.687306  26.265803 2021-08-28      8  Кира   22  Тюмень   \n",
       "\n",
       "  subscription_type  minute_price  start_ride_price  subscription_fee  \n",
       "0             ultra             6                 0               199  \n",
       "1             ultra             6                 0               199  \n",
       "2             ultra             6                 0               199  \n",
       "3             ultra             6                 0               199  \n",
       "4             ultra             6                 0               199  "
      ]
     },
     "metadata": {},
     "output_type": "display_data"
    },
    {
     "name": "stdout",
     "output_type": "stream",
     "text": [
      "Количество строк в датасете df_mrg_free: 6500\n"
     ]
    }
   ],
   "source": [
    "merged_df_ultra = merged_df[merged_df['subscription_type'] == 'ultra']\n",
    "display(merged_df_ultra.head())\n",
    "print('Количество строк в датасете df_mrg_free:', merged_df_ultra.shape[0])"
   ]
  },
  {
   "cell_type": "markdown",
   "id": "fa0aef25",
   "metadata": {},
   "source": [
    "##### Визуализируйте информацию о расстоянии и времени поездок для пользователей обеих категорий."
   ]
  },
  {
   "cell_type": "code",
   "execution_count": 23,
   "id": "fa282e32",
   "metadata": {
    "scrolled": false
   },
   "outputs": [
    {
     "data": {
      "image/png": "[encoded data removed]",
      "text/plain": [
       "<Figure size 504x216 with 1 Axes>"
      ]
     },
     "metadata": {
      "needs_background": "light"
     },
     "output_type": "display_data"
    }
   ],
   "source": [
    "merged_df_free['distance'].hist(grid=True, figsize = (7,3), bins=30, label='Подписка free')\n",
    "merged_df_ultra['distance'].hist(grid=True, figsize = (7,3), bins=30, label= 'Подписка Ultra')\n",
    "plt.title('Расстояние одной поездки для подписок free и ultra')\n",
    "plt.xlabel('Расстояние,м')\n",
    "plt.ylabel('Количество пользователей')\n",
    "plt.legend(loc='upper right')\n",
    "plt.show()"
   ]
  },
  {
   "cell_type": "markdown",
   "id": "b866eced",
   "metadata": {},
   "source": [
    "**Вывод**\n",
    "\n",
    "Графики имеют схожие всплески, однако пользователей с подпиской ультра меньше, чем с бесплатной подпиской. Также пользователи без подписки имеют минимальные и максмимальные дистанции одной поездки, чем пользователи с подпиской. Связано это тем с тем, что пользователей без подписок больше. "
   ]
  },
  {
   "cell_type": "code",
   "execution_count": 24,
   "id": "7d2b5337",
   "metadata": {
    "scrolled": true
   },
   "outputs": [
    {
     "data": {
      "image/png": "[encoded data removed]",
      "text/plain": [
       "<Figure size 504x216 with 1 Axes>"
      ]
     },
     "metadata": {
      "needs_background": "light"
     },
     "output_type": "display_data"
    }
   ],
   "source": [
    "merged_df_free['duration'].hist(grid=True, figsize = (7,3), bins=30, label='Подписка free')\n",
    "merged_df_ultra['duration'].hist(grid=True, figsize = (7,3), bins=30, label= 'Подписка Ultra')\n",
    "plt.xlabel('Время,мин')\n",
    "plt.ylabel('Количество пользователей')\n",
    "plt.title('Продолжительность поездок')\n",
    "plt.legend(loc='upper right')\n",
    "plt.show()"
   ]
  },
  {
   "cell_type": "markdown",
   "id": "dd117079",
   "metadata": {},
   "source": [
    "**Вывод**\n",
    "\n",
    "Графики похоже с друг другом и имеют нормальное распределение. Также пользователи без подписки имеют намного больше поездок с продолжительностью от 0 до 35 мин. однако, пользователей, которые имеют продолжительность поездки 35 мин и более имеют подписку, возможно это связано с тем, что оплата по минутно у них меньше. Однако таких пользователей мало. \n"
   ]
  },
  {
   "cell_type": "markdown",
   "id": "402d620f",
   "metadata": {},
   "source": [
    "#### Шаг 5. Подсчёт выручки"
   ]
  },
  {
   "cell_type": "markdown",
   "id": "baf8cb51",
   "metadata": {},
   "source": [
    "##### Создайте датафрейм с агрегированными данными о поездках на основе датафрейма с объединёнными данными из шага 4: найдите суммарное расстояние, количество поездок и суммарное время для каждого пользователя за каждый месяц."
   ]
  },
  {
   "cell_type": "code",
   "execution_count": 25,
   "id": "19a8e42c",
   "metadata": {
    "scrolled": false
   },
   "outputs": [
    {
     "data": {
      "text/html": [
       "<div>\n",
       "<style scoped>\n",
       "    .dataframe tbody tr th:only-of-type {\n",
       "        vertical-align: middle;\n",
       "    }\n",
       "\n",
       "    .dataframe tbody tr th {\n",
       "        vertical-align: top;\n",
       "    }\n",
       "\n",
       "    .dataframe thead th {\n",
       "        text-align: right;\n",
       "    }\n",
       "</style>\n",
       "<table border=\"1\" class=\"dataframe\">\n",
       "  <thead>\n",
       "    <tr style=\"text-align: right;\">\n",
       "      <th></th>\n",
       "      <th>user_id</th>\n",
       "      <th>month</th>\n",
       "      <th>count_distance</th>\n",
       "      <th>sum_distance</th>\n",
       "      <th>sum_duration</th>\n",
       "    </tr>\n",
       "  </thead>\n",
       "  <tbody>\n",
       "    <tr>\n",
       "      <th>0</th>\n",
       "      <td>1</td>\n",
       "      <td>1</td>\n",
       "      <td>2</td>\n",
       "      <td>7027.511294</td>\n",
       "      <td>42</td>\n",
       "    </tr>\n",
       "    <tr>\n",
       "      <th>1</th>\n",
       "      <td>1</td>\n",
       "      <td>4</td>\n",
       "      <td>1</td>\n",
       "      <td>754.159807</td>\n",
       "      <td>7</td>\n",
       "    </tr>\n",
       "    <tr>\n",
       "      <th>2</th>\n",
       "      <td>1</td>\n",
       "      <td>8</td>\n",
       "      <td>2</td>\n",
       "      <td>6723.470560</td>\n",
       "      <td>46</td>\n",
       "    </tr>\n",
       "    <tr>\n",
       "      <th>3</th>\n",
       "      <td>1</td>\n",
       "      <td>10</td>\n",
       "      <td>2</td>\n",
       "      <td>5809.911100</td>\n",
       "      <td>32</td>\n",
       "    </tr>\n",
       "    <tr>\n",
       "      <th>4</th>\n",
       "      <td>1</td>\n",
       "      <td>11</td>\n",
       "      <td>3</td>\n",
       "      <td>7003.499363</td>\n",
       "      <td>56</td>\n",
       "    </tr>\n",
       "    <tr>\n",
       "      <th>...</th>\n",
       "      <td>...</td>\n",
       "      <td>...</td>\n",
       "      <td>...</td>\n",
       "      <td>...</td>\n",
       "      <td>...</td>\n",
       "    </tr>\n",
       "    <tr>\n",
       "      <th>11326</th>\n",
       "      <td>1534</td>\n",
       "      <td>6</td>\n",
       "      <td>2</td>\n",
       "      <td>3409.468534</td>\n",
       "      <td>26</td>\n",
       "    </tr>\n",
       "    <tr>\n",
       "      <th>11327</th>\n",
       "      <td>1534</td>\n",
       "      <td>8</td>\n",
       "      <td>2</td>\n",
       "      <td>7622.453034</td>\n",
       "      <td>48</td>\n",
       "    </tr>\n",
       "    <tr>\n",
       "      <th>11328</th>\n",
       "      <td>1534</td>\n",
       "      <td>9</td>\n",
       "      <td>1</td>\n",
       "      <td>4928.173852</td>\n",
       "      <td>23</td>\n",
       "    </tr>\n",
       "    <tr>\n",
       "      <th>11329</th>\n",
       "      <td>1534</td>\n",
       "      <td>11</td>\n",
       "      <td>4</td>\n",
       "      <td>13350.015305</td>\n",
       "      <td>78</td>\n",
       "    </tr>\n",
       "    <tr>\n",
       "      <th>11330</th>\n",
       "      <td>1534</td>\n",
       "      <td>12</td>\n",
       "      <td>1</td>\n",
       "      <td>2371.711192</td>\n",
       "      <td>16</td>\n",
       "    </tr>\n",
       "  </tbody>\n",
       "</table>\n",
       "<p>11331 rows × 5 columns</p>\n",
       "</div>"
      ],
      "text/plain": [
       "       user_id  month  count_distance  sum_distance  sum_duration\n",
       "0            1      1               2   7027.511294            42\n",
       "1            1      4               1    754.159807             7\n",
       "2            1      8               2   6723.470560            46\n",
       "3            1     10               2   5809.911100            32\n",
       "4            1     11               3   7003.499363            56\n",
       "...        ...    ...             ...           ...           ...\n",
       "11326     1534      6               2   3409.468534            26\n",
       "11327     1534      8               2   7622.453034            48\n",
       "11328     1534      9               1   4928.173852            23\n",
       "11329     1534     11               4  13350.015305            78\n",
       "11330     1534     12               1   2371.711192            16\n",
       "\n",
       "[11331 rows x 5 columns]"
      ]
     },
     "execution_count": 25,
     "metadata": {},
     "output_type": "execute_result"
    }
   ],
   "source": [
    "#Округляем время поездки до след целого числа\n",
    "merged_df['duration'] = np.ceil(merged_df['duration'])\n",
    "merged_df['duration'] = merged_df['duration'].astype(int)\n",
    "#Агрегация данных \n",
    "merged_df_agg = merged_df.pivot_table(index = ['user_id','month'], values = ['duration','distance'], aggfunc = ['count','sum'])\n",
    "merged_df_agg.columns = ['_'.join(col) for col in merged_df_agg.columns.values]\n",
    "merged_df_agg = merged_df_agg.drop(columns='count_duration').reset_index()\n",
    "merged_df_agg"
   ]
  },
  {
   "cell_type": "markdown",
   "id": "9f38da1e",
   "metadata": {},
   "source": [
    "count_distance - количество поездок за месяц\n",
    "\n",
    "sum_distance - сумма пройденной дистанции за месяц\n",
    "\n",
    "sum_duration - сумма продолжительности поездок за месяц"
   ]
  },
  {
   "cell_type": "markdown",
   "id": "19e954a9",
   "metadata": {},
   "source": [
    "##### В этот же датафрейм добавьте столбец с помесячной выручкой, которую принёс каждый пользователь. "
   ]
  },
  {
   "cell_type": "code",
   "execution_count": 26,
   "id": "a0d61d1a",
   "metadata": {
    "scrolled": false
   },
   "outputs": [
    {
     "data": {
      "text/html": [
       "<div>\n",
       "<style scoped>\n",
       "    .dataframe tbody tr th:only-of-type {\n",
       "        vertical-align: middle;\n",
       "    }\n",
       "\n",
       "    .dataframe tbody tr th {\n",
       "        vertical-align: top;\n",
       "    }\n",
       "\n",
       "    .dataframe thead th {\n",
       "        text-align: right;\n",
       "    }\n",
       "</style>\n",
       "<table border=\"1\" class=\"dataframe\">\n",
       "  <thead>\n",
       "    <tr style=\"text-align: right;\">\n",
       "      <th></th>\n",
       "      <th>user_id</th>\n",
       "      <th>month</th>\n",
       "      <th>count_distance</th>\n",
       "      <th>sum_distance</th>\n",
       "      <th>sum_duration</th>\n",
       "      <th>name</th>\n",
       "      <th>age</th>\n",
       "      <th>city</th>\n",
       "      <th>subscription_type</th>\n",
       "      <th>minute_price</th>\n",
       "      <th>start_ride_price</th>\n",
       "      <th>subscription_fee</th>\n",
       "    </tr>\n",
       "  </thead>\n",
       "  <tbody>\n",
       "    <tr>\n",
       "      <th>0</th>\n",
       "      <td>700</td>\n",
       "      <td>1</td>\n",
       "      <td>1</td>\n",
       "      <td>2515.690719</td>\n",
       "      <td>15</td>\n",
       "      <td>Айдар</td>\n",
       "      <td>22</td>\n",
       "      <td>Омск</td>\n",
       "      <td>free</td>\n",
       "      <td>8</td>\n",
       "      <td>50</td>\n",
       "      <td>0</td>\n",
       "    </tr>\n",
       "    <tr>\n",
       "      <th>1</th>\n",
       "      <td>700</td>\n",
       "      <td>2</td>\n",
       "      <td>5</td>\n",
       "      <td>13446.659764</td>\n",
       "      <td>89</td>\n",
       "      <td>Айдар</td>\n",
       "      <td>22</td>\n",
       "      <td>Омск</td>\n",
       "      <td>free</td>\n",
       "      <td>8</td>\n",
       "      <td>50</td>\n",
       "      <td>0</td>\n",
       "    </tr>\n",
       "    <tr>\n",
       "      <th>2</th>\n",
       "      <td>700</td>\n",
       "      <td>3</td>\n",
       "      <td>1</td>\n",
       "      <td>3798.334905</td>\n",
       "      <td>19</td>\n",
       "      <td>Айдар</td>\n",
       "      <td>22</td>\n",
       "      <td>Омск</td>\n",
       "      <td>free</td>\n",
       "      <td>8</td>\n",
       "      <td>50</td>\n",
       "      <td>0</td>\n",
       "    </tr>\n",
       "    <tr>\n",
       "      <th>3</th>\n",
       "      <td>700</td>\n",
       "      <td>4</td>\n",
       "      <td>1</td>\n",
       "      <td>2984.551206</td>\n",
       "      <td>16</td>\n",
       "      <td>Айдар</td>\n",
       "      <td>22</td>\n",
       "      <td>Омск</td>\n",
       "      <td>free</td>\n",
       "      <td>8</td>\n",
       "      <td>50</td>\n",
       "      <td>0</td>\n",
       "    </tr>\n",
       "    <tr>\n",
       "      <th>4</th>\n",
       "      <td>700</td>\n",
       "      <td>6</td>\n",
       "      <td>2</td>\n",
       "      <td>5927.650988</td>\n",
       "      <td>29</td>\n",
       "      <td>Айдар</td>\n",
       "      <td>22</td>\n",
       "      <td>Омск</td>\n",
       "      <td>free</td>\n",
       "      <td>8</td>\n",
       "      <td>50</td>\n",
       "      <td>0</td>\n",
       "    </tr>\n",
       "    <tr>\n",
       "      <th>...</th>\n",
       "      <td>...</td>\n",
       "      <td>...</td>\n",
       "      <td>...</td>\n",
       "      <td>...</td>\n",
       "      <td>...</td>\n",
       "      <td>...</td>\n",
       "      <td>...</td>\n",
       "      <td>...</td>\n",
       "      <td>...</td>\n",
       "      <td>...</td>\n",
       "      <td>...</td>\n",
       "      <td>...</td>\n",
       "    </tr>\n",
       "    <tr>\n",
       "      <th>11326</th>\n",
       "      <td>699</td>\n",
       "      <td>6</td>\n",
       "      <td>1</td>\n",
       "      <td>4072.797406</td>\n",
       "      <td>17</td>\n",
       "      <td>Оксана</td>\n",
       "      <td>22</td>\n",
       "      <td>Москва</td>\n",
       "      <td>ultra</td>\n",
       "      <td>6</td>\n",
       "      <td>0</td>\n",
       "      <td>199</td>\n",
       "    </tr>\n",
       "    <tr>\n",
       "      <th>11327</th>\n",
       "      <td>699</td>\n",
       "      <td>8</td>\n",
       "      <td>2</td>\n",
       "      <td>7018.324143</td>\n",
       "      <td>45</td>\n",
       "      <td>Оксана</td>\n",
       "      <td>22</td>\n",
       "      <td>Москва</td>\n",
       "      <td>ultra</td>\n",
       "      <td>6</td>\n",
       "      <td>0</td>\n",
       "      <td>199</td>\n",
       "    </tr>\n",
       "    <tr>\n",
       "      <th>11328</th>\n",
       "      <td>699</td>\n",
       "      <td>9</td>\n",
       "      <td>2</td>\n",
       "      <td>6364.861911</td>\n",
       "      <td>31</td>\n",
       "      <td>Оксана</td>\n",
       "      <td>22</td>\n",
       "      <td>Москва</td>\n",
       "      <td>ultra</td>\n",
       "      <td>6</td>\n",
       "      <td>0</td>\n",
       "      <td>199</td>\n",
       "    </tr>\n",
       "    <tr>\n",
       "      <th>11329</th>\n",
       "      <td>699</td>\n",
       "      <td>10</td>\n",
       "      <td>1</td>\n",
       "      <td>4707.845501</td>\n",
       "      <td>16</td>\n",
       "      <td>Оксана</td>\n",
       "      <td>22</td>\n",
       "      <td>Москва</td>\n",
       "      <td>ultra</td>\n",
       "      <td>6</td>\n",
       "      <td>0</td>\n",
       "      <td>199</td>\n",
       "    </tr>\n",
       "    <tr>\n",
       "      <th>11330</th>\n",
       "      <td>699</td>\n",
       "      <td>12</td>\n",
       "      <td>1</td>\n",
       "      <td>3202.890770</td>\n",
       "      <td>26</td>\n",
       "      <td>Оксана</td>\n",
       "      <td>22</td>\n",
       "      <td>Москва</td>\n",
       "      <td>ultra</td>\n",
       "      <td>6</td>\n",
       "      <td>0</td>\n",
       "      <td>199</td>\n",
       "    </tr>\n",
       "  </tbody>\n",
       "</table>\n",
       "<p>11331 rows × 12 columns</p>\n",
       "</div>"
      ],
      "text/plain": [
       "       user_id  month  count_distance  sum_distance  sum_duration    name  \\\n",
       "0          700      1               1   2515.690719            15   Айдар   \n",
       "1          700      2               5  13446.659764            89   Айдар   \n",
       "2          700      3               1   3798.334905            19   Айдар   \n",
       "3          700      4               1   2984.551206            16   Айдар   \n",
       "4          700      6               2   5927.650988            29   Айдар   \n",
       "...        ...    ...             ...           ...           ...     ...   \n",
       "11326      699      6               1   4072.797406            17  Оксана   \n",
       "11327      699      8               2   7018.324143            45  Оксана   \n",
       "11328      699      9               2   6364.861911            31  Оксана   \n",
       "11329      699     10               1   4707.845501            16  Оксана   \n",
       "11330      699     12               1   3202.890770            26  Оксана   \n",
       "\n",
       "       age    city subscription_type  minute_price  start_ride_price  \\\n",
       "0       22    Омск              free             8                50   \n",
       "1       22    Омск              free             8                50   \n",
       "2       22    Омск              free             8                50   \n",
       "3       22    Омск              free             8                50   \n",
       "4       22    Омск              free             8                50   \n",
       "...    ...     ...               ...           ...               ...   \n",
       "11326   22  Москва             ultra             6                 0   \n",
       "11327   22  Москва             ultra             6                 0   \n",
       "11328   22  Москва             ultra             6                 0   \n",
       "11329   22  Москва             ultra             6                 0   \n",
       "11330   22  Москва             ultra             6                 0   \n",
       "\n",
       "       subscription_fee  \n",
       "0                     0  \n",
       "1                     0  \n",
       "2                     0  \n",
       "3                     0  \n",
       "4                     0  \n",
       "...                 ...  \n",
       "11326               199  \n",
       "11327               199  \n",
       "11328               199  \n",
       "11329               199  \n",
       "11330               199  \n",
       "\n",
       "[11331 rows x 12 columns]"
      ]
     },
     "execution_count": 26,
     "metadata": {},
     "output_type": "execute_result"
    }
   ],
   "source": [
    "merged_df_agg = merged_df_agg.merge(users, how='right', on='user_id')\n",
    "merged_df_agg = merged_df_agg.merge(subscriptions, how = 'right', on='subscription_type')\n",
    "merged_df_agg"
   ]
  },
  {
   "cell_type": "code",
   "execution_count": 27,
   "id": "56b2039f",
   "metadata": {
    "scrolled": false
   },
   "outputs": [
    {
     "data": {
      "text/html": [
       "<div>\n",
       "<style scoped>\n",
       "    .dataframe tbody tr th:only-of-type {\n",
       "        vertical-align: middle;\n",
       "    }\n",
       "\n",
       "    .dataframe tbody tr th {\n",
       "        vertical-align: top;\n",
       "    }\n",
       "\n",
       "    .dataframe thead th {\n",
       "        text-align: right;\n",
       "    }\n",
       "</style>\n",
       "<table border=\"1\" class=\"dataframe\">\n",
       "  <thead>\n",
       "    <tr style=\"text-align: right;\">\n",
       "      <th></th>\n",
       "      <th>user_id</th>\n",
       "      <th>name</th>\n",
       "      <th>month</th>\n",
       "      <th>earning_sum</th>\n",
       "    </tr>\n",
       "  </thead>\n",
       "  <tbody>\n",
       "    <tr>\n",
       "      <th>0</th>\n",
       "      <td>700</td>\n",
       "      <td>Айдар</td>\n",
       "      <td>1</td>\n",
       "      <td>170</td>\n",
       "    </tr>\n",
       "    <tr>\n",
       "      <th>1</th>\n",
       "      <td>700</td>\n",
       "      <td>Айдар</td>\n",
       "      <td>2</td>\n",
       "      <td>962</td>\n",
       "    </tr>\n",
       "    <tr>\n",
       "      <th>2</th>\n",
       "      <td>700</td>\n",
       "      <td>Айдар</td>\n",
       "      <td>3</td>\n",
       "      <td>202</td>\n",
       "    </tr>\n",
       "    <tr>\n",
       "      <th>3</th>\n",
       "      <td>700</td>\n",
       "      <td>Айдар</td>\n",
       "      <td>4</td>\n",
       "      <td>178</td>\n",
       "    </tr>\n",
       "    <tr>\n",
       "      <th>4</th>\n",
       "      <td>700</td>\n",
       "      <td>Айдар</td>\n",
       "      <td>6</td>\n",
       "      <td>332</td>\n",
       "    </tr>\n",
       "    <tr>\n",
       "      <th>...</th>\n",
       "      <td>...</td>\n",
       "      <td>...</td>\n",
       "      <td>...</td>\n",
       "      <td>...</td>\n",
       "    </tr>\n",
       "    <tr>\n",
       "      <th>11326</th>\n",
       "      <td>699</td>\n",
       "      <td>Оксана</td>\n",
       "      <td>6</td>\n",
       "      <td>301</td>\n",
       "    </tr>\n",
       "    <tr>\n",
       "      <th>11327</th>\n",
       "      <td>699</td>\n",
       "      <td>Оксана</td>\n",
       "      <td>8</td>\n",
       "      <td>469</td>\n",
       "    </tr>\n",
       "    <tr>\n",
       "      <th>11328</th>\n",
       "      <td>699</td>\n",
       "      <td>Оксана</td>\n",
       "      <td>9</td>\n",
       "      <td>385</td>\n",
       "    </tr>\n",
       "    <tr>\n",
       "      <th>11329</th>\n",
       "      <td>699</td>\n",
       "      <td>Оксана</td>\n",
       "      <td>10</td>\n",
       "      <td>295</td>\n",
       "    </tr>\n",
       "    <tr>\n",
       "      <th>11330</th>\n",
       "      <td>699</td>\n",
       "      <td>Оксана</td>\n",
       "      <td>12</td>\n",
       "      <td>355</td>\n",
       "    </tr>\n",
       "  </tbody>\n",
       "</table>\n",
       "<p>11331 rows × 4 columns</p>\n",
       "</div>"
      ],
      "text/plain": [
       "       user_id    name  month  earning_sum\n",
       "0          700   Айдар      1          170\n",
       "1          700   Айдар      2          962\n",
       "2          700   Айдар      3          202\n",
       "3          700   Айдар      4          178\n",
       "4          700   Айдар      6          332\n",
       "...        ...     ...    ...          ...\n",
       "11326      699  Оксана      6          301\n",
       "11327      699  Оксана      8          469\n",
       "11328      699  Оксана      9          385\n",
       "11329      699  Оксана     10          295\n",
       "11330      699  Оксана     12          355\n",
       "\n",
       "[11331 rows x 4 columns]"
      ]
     },
     "metadata": {},
     "output_type": "display_data"
    }
   ],
   "source": [
    "# Добавляем столбец с помесячной выручкой для каждого пользователя\n",
    "def earning(row):\n",
    "  earning_sum = 0\n",
    "  earning_sum = (row['start_ride_price'] * row['count_distance'] +\n",
    "              row['minute_price'] * row['sum_duration'] +\n",
    "              row['subscription_fee']\n",
    "              )\n",
    "  return earning_sum\n",
    "\n",
    "merged_df_agg['earning_sum'] = merged_df_agg.apply(earning, axis=1)\n",
    "display(merged_df_agg[['user_id', 'name', 'month', 'earning_sum']])"
   ]
  },
  {
   "cell_type": "code",
   "execution_count": 28,
   "id": "9ed374d3",
   "metadata": {},
   "outputs": [
    {
     "data": {
      "image/png": "[encoded data removed]",
      "text/plain": [
       "<Figure size 432x288 with 1 Axes>"
      ]
     },
     "metadata": {
      "needs_background": "light"
     },
     "output_type": "display_data"
    }
   ],
   "source": [
    "plt.bar(merged_df_agg['subscription_type'], merged_df_agg['earning_sum'], label='Тип подписки')\n",
    "plt.xlabel('Тип подписки')\n",
    "plt.ylabel('Выручка')\n",
    "plt.title(' Соотношения выручки по типу подписок')\n",
    "plt.legend(loc='upper right')\n",
    "plt.show()"
   ]
  },
  {
   "cell_type": "markdown",
   "id": "97d87e5d",
   "metadata": {},
   "source": [
    "**Вывод**\n",
    "\n",
    "Пользователи без подписки дают в сумме больше выручки, чем пользователи с подписки. Это может быть связано с тем, что пользователей без подписок больше. "
   ]
  },
  {
   "cell_type": "markdown",
   "id": "41545ac0",
   "metadata": {},
   "source": [
    "#### Шаг 6. Проверка гипотез"
   ]
  },
  {
   "cell_type": "markdown",
   "id": "4cc80f30",
   "metadata": {},
   "source": [
    "##### Тратят ли пользователи с подпиской больше времени на поездки? Если да, то пользователи с подпиской могут быть «выгоднее» для компании."
   ]
  },
  {
   "cell_type": "markdown",
   "id": "708c4595",
   "metadata": {},
   "source": [
    "Нулевая гипотеза: средние значения трат пользователей из двух групп равны.\n",
    "\n",
    "Альтернативная гипотеза: среднее значение трат пользователей с подпиской больше, чем среднее значение трат пользователей без подписки"
   ]
  },
  {
   "cell_type": "code",
   "execution_count": 29,
   "id": "aa6b824e",
   "metadata": {
    "scrolled": true
   },
   "outputs": [
    {
     "name": "stdout",
     "output_type": "stream",
     "text": [
      "p-значение: 1.2804098316645618e-34\n",
      "Отвергаем нулевую гипотезу\n"
     ]
    }
   ],
   "source": [
    "alpha = 0.05 # уровень статистической значимости\n",
    "\n",
    "\n",
    "results = st.ttest_ind(merged_df_ultra['duration'], merged_df_free['duration'], alternative='greater')\n",
    "\n",
    "print('p-значение:', results.pvalue)\n",
    "\n",
    "if results.pvalue < alpha:\n",
    "    print('Отвергаем нулевую гипотезу')\n",
    "else:\n",
    "    print('Не отвергаем нулевую гипотезу')"
   ]
  },
  {
   "cell_type": "markdown",
   "id": "ccf2186f",
   "metadata": {},
   "source": [
    "Гипотеза верна: среднее время поездок пользователей с подпиской больше время поездок пользователей без подписки"
   ]
  },
  {
   "cell_type": "code",
   "execution_count": 30,
   "id": "7faced72",
   "metadata": {},
   "outputs": [
    {
     "name": "stdout",
     "output_type": "stream",
     "text": [
      "Среднее время поездки пользователей c подпиской: 18.54\n",
      "Среднее время поездки пользователей без подписки: 17.39\n"
     ]
    }
   ],
   "source": [
    "#Проверка\n",
    "print('Среднее время поездки пользователей c подпиской:', round(merged_df_ultra['duration'].mean(),2))\n",
    "print('Среднее время поездки пользователей без подписки:', round(merged_df_free['duration'].mean(),2))"
   ]
  },
  {
   "cell_type": "markdown",
   "id": "5fa47159",
   "metadata": {},
   "source": [
    "##### Расстояние одной поездки в 3130 метров — оптимальное с точки зрения износа самоката. Можно ли сказать, что среднее расстояние, которое проезжают пользователи с подпиской за одну поездку, не превышает 3130 метров? "
   ]
  },
  {
   "cell_type": "markdown",
   "id": "1d5f27fa",
   "metadata": {},
   "source": [
    "Нулевая гипотеза: среднее расстояние поездки пользователи с подпиской равна 3130 метрам\n",
    "\n",
    "Альтернативная гипотеза: среднее расстояние поездки пользователи с подпиской больше 3130 метров"
   ]
  },
  {
   "cell_type": "code",
   "execution_count": 31,
   "id": "845ab4ab",
   "metadata": {},
   "outputs": [
    {
     "name": "stdout",
     "output_type": "stream",
     "text": [
      "p-значение: 0.9195368847849785\n",
      "Не получилось отвергнуть нулевую гипотезу\n"
     ]
    }
   ],
   "source": [
    "interested_value = 3130 \n",
    "\n",
    "alpha = 0.05 # уровень статистической значимости\n",
    "\n",
    "results = st.ttest_1samp(merged_df_ultra['distance'], interested_value, alternative='greater')\n",
    "\n",
    "print('p-значение:', results.pvalue)\n",
    "\n",
    "if results.pvalue < alpha:\n",
    "    print('Отвергаем нулевую гипотезу')\n",
    "else:\n",
    "    print('Не получилось отвергнуть нулевую гипотезу')"
   ]
  },
  {
   "cell_type": "markdown",
   "id": "605c7280",
   "metadata": {},
   "source": [
    "Среднее значение расстояние поездки равна 3130м"
   ]
  },
  {
   "cell_type": "code",
   "execution_count": 32,
   "id": "da0f143c",
   "metadata": {},
   "outputs": [
    {
     "name": "stdout",
     "output_type": "stream",
     "text": [
      "Среднее дистанция поездки пользователей c подпиской: 3115.0\n"
     ]
    }
   ],
   "source": [
    "#Проверка\n",
    "print('Среднее дистанция поездки пользователей c подпиской:', round(merged_df_ultra['distance'].mean(),0))"
   ]
  },
  {
   "cell_type": "markdown",
   "id": "af80e38a",
   "metadata": {},
   "source": [
    "##### Проверьте гипотезу о том, будет ли помесячная выручка от пользователей с подпиской по месяцам выше, чем выручка от пользователей без подписки. "
   ]
  },
  {
   "cell_type": "markdown",
   "id": "04daec64",
   "metadata": {},
   "source": [
    "Нулевая гипотеза: помесячная выручка от пользователей с подпиской и без равны.\n",
    "    \n",
    "Альтернативная гипотеза: помесячная выручка от пользователей с подпиской выше чем выручка от пользователей без подписки"
   ]
  },
  {
   "cell_type": "code",
   "execution_count": 33,
   "id": "cabbc463",
   "metadata": {},
   "outputs": [
    {
     "name": "stdout",
     "output_type": "stream",
     "text": [
      "p-значение: 1.8850394384715216e-31\n",
      "Отвергаем нулевую гипотезу\n"
     ]
    }
   ],
   "source": [
    "# создадим две выборки с посчитанной помесячной выручкой\n",
    "merged_df_agg_ultra = merged_df_agg[merged_df_agg['subscription_type'] == 'ultra']\n",
    "merged_df_agg_free = merged_df_agg[merged_df_agg['subscription_type'] == 'free']\n",
    "\n",
    "alpha = 0.05 # уровень статистической значимости\n",
    "\n",
    "results = st.ttest_ind(merged_df_agg_ultra['earning_sum'], merged_df_agg_free['earning_sum'], alternative='greater')\n",
    "\n",
    "print('p-значение:', results.pvalue)\n",
    "\n",
    "if results.pvalue < alpha:\n",
    "    print('Отвергаем нулевую гипотезу')\n",
    "else:\n",
    "    print('Нет оснований отвергнуть нулевую гипотезу')"
   ]
  },
  {
   "cell_type": "markdown",
   "id": "94d17d61",
   "metadata": {},
   "source": [
    "Полученное значение p-value меньше заданного уровня значимости, поэтому можно отвергнуть нулевую гипотезу. Есть основания говорить, что помесячная выручка от пользователи с подпиской больше."
   ]
  },
  {
   "cell_type": "code",
   "execution_count": 34,
   "id": "781bdacb",
   "metadata": {},
   "outputs": [
    {
     "name": "stdout",
     "output_type": "stream",
     "text": [
      "Средняя помесячная выручка от пользователи с подпиской: 362.79\n",
      "Средняя помесячная выручка от пользователи без подписки: 328.64\n"
     ]
    }
   ],
   "source": [
    "# проверка\n",
    "print('Средняя помесячная выручка от пользователи с подпиской:', round(merged_df_agg_ultra['earning_sum'].mean(),2))\n",
    "print('Средняя помесячная выручка от пользователи без подписки:', round(merged_df_agg_free['earning_sum'].mean(),2))"
   ]
  },
  {
   "cell_type": "markdown",
   "id": "f4cab260",
   "metadata": {},
   "source": [
    "##### Представьте такую ситуацию: техническая команда сервиса обновила сервера, с которыми взаимодействует мобильное приложение. Она надеется, что из-за этого количество обращений в техподдержку значимо снизилось. Некоторый файл содержит для каждого пользователя данные о количестве обращений до обновления и после него. Какой тест вам понадобился бы для проверки этой гипотезы?"
   ]
  },
  {
   "cell_type": "markdown",
   "id": "51289404",
   "metadata": {},
   "source": [
    "Для проверки данной гипотезе, стоит провести проверку метода по равенстве средних для зависимых парных выборок. st.ttest_rel(before, after) позволяет сравнить данные до и после обновления\n"
   ]
  },
  {
   "cell_type": "markdown",
   "id": "61213c5e",
   "metadata": {},
   "source": [
    "#### Шаг 7. Распределения"
   ]
  },
  {
   "cell_type": "markdown",
   "id": "34246ca1",
   "metadata": {},
   "source": [
    "##### Отделу маркетинга GoFast поставили задачу: нужно провести акцию с раздачей промокодов на один бесплатный месяц подписки, в рамках которой как минимум 100 существующих клиентов должны продлить эту подписку. То есть по завершении периода действия подписки пользователь может либо отказаться от неё, либо продлить, совершив соответствующий платёж. Эта акция уже проводилась ранее и по итогу выяснилось, что после бесплатного пробного периода подписку продлевают 10 % пользователей. Выясните, какое минимальное количество промокодов нужно разослать, чтобы вероятность не выполнить план была примерно 5 %. Подберите параметры распределения, описывающего эту ситуацию, постройте график распределения и сформулируйте ответ на вопрос о количестве промокодов."
   ]
  },
  {
   "cell_type": "code",
   "execution_count": 35,
   "id": "f4d5691c",
   "metadata": {},
   "outputs": [
    {
     "data": {
      "text/plain": [
       "<BarContainer object of 1001 artists>"
      ]
     },
     "execution_count": 35,
     "metadata": {},
     "output_type": "execute_result"
    },
    {
     "data": {
      "image/png": "[encoded data removed]",
      "text/plain": [
       "<Figure size 432x288 with 1 Axes>"
      ]
     },
     "metadata": {
      "needs_background": "light"
     },
     "output_type": "display_data"
    }
   ],
   "source": [
    "n = 1000\n",
    "p = 0.1\n",
    "distr = []\n",
    "\n",
    "for k in range(0, n + 1):\n",
    "    choose = factorial(n) / (factorial(k) * factorial(n - k))\n",
    "    prob = choose * p**k * (1 - p)**(n - k)\n",
    "    distr.append(prob)\n",
    "\n",
    "plt.bar(range(0, n + 1), distr)"
   ]
  },
  {
   "cell_type": "code",
   "execution_count": 36,
   "id": "d1ab7ecd",
   "metadata": {},
   "outputs": [
    {
     "name": "stdout",
     "output_type": "stream",
     "text": [
      "Минимальное число промокодов: 1161\n"
     ]
    }
   ],
   "source": [
    "for n in range (500,1500):\n",
    "    if binom.cdf(99, n, p) < 0.05:\n",
    "        print(\"Минимальное число промокодов:\", n)\n",
    "        break"
   ]
  },
  {
   "cell_type": "markdown",
   "id": "be538f15",
   "metadata": {},
   "source": [
    "Чтобы получить не менее 100 продленных подписок, где вероятность не выполнить план 5%, нужно разослать 1161 промокодов"
   ]
  },
  {
   "cell_type": "markdown",
   "id": "0cdb8e39",
   "metadata": {},
   "source": [
    "##### Отдел маркетинга рассылает клиентам push-уведомления в мобильном приложении. Клиенты могут открыть его или не открывать. Известно, что уведомления открывают около 40%получивших клиентов. Отдел планирует разослать 1 млн уведомлений. С помощью аппроксимации постройте примерный график распределения и оцените вероятность того, что уведомление откроют не более 399,5 тыс. пользователей."
   ]
  },
  {
   "cell_type": "code",
   "execution_count": 37,
   "id": "80402879",
   "metadata": {},
   "outputs": [
    {
     "name": "stdout",
     "output_type": "stream",
     "text": [
      "Вероятность что push-уведомления откроют не более 399,5 тыс. пользователей: 0.15\n"
     ]
    }
   ],
   "source": [
    "#параметры биномиального распределения\n",
    "n = 1000000\n",
    "p = 0.4\n",
    "\n",
    "mu = n * p\n",
    "sigma = sqrt(n * p * (1 - p))\n",
    "distr = st.norm(mu, sigma)\n",
    "\n",
    "x = 399500\n",
    "\n",
    "result = distr.cdf(x)\n",
    "\n",
    "print('Вероятность что push-уведомления откроют не более 399,5 тыс. пользователей:',\n",
    "      round(result, 2))\n"
   ]
  },
  {
   "cell_type": "markdown",
   "id": "8c5b2626",
   "metadata": {},
   "source": [
    "При рассылки 1 млн уведомлений, что откроют не более 399,5 тысяч пользователей равно 15%"
   ]
  },
  {
   "cell_type": "markdown",
   "id": "d2bb3e03",
   "metadata": {},
   "source": [
    "**Общий вывод**\n",
    "\n",
    "**Предобработка данных**\n",
    "- Обнаружены и убраны дубликаты в датасете Пользователи\n",
    "\n",
    "- Изменен тип данных в датасете Поездки стоблца \"date\" с object на datetime\n",
    "\n",
    "- Создан новый столбец в датасете Поездки с номером месяца на основе данных столбца \"date\"\n",
    "\n",
    "**Исследовательских анализ данных**\n",
    "\n",
    "- Датасет содержит данные из 8 городов\n",
    "\n",
    "- Больше всего пользователей в GoFast в Пятигорске - 219 пользователей, меньше всего в Москве - 168 пользователей\n",
    "\n",
    "- Данные по времени поездки распределяются нормальным распределением. Среднее время поездки составляет - 17,8 минут.\n",
    "\n",
    "- Среднее расстоние за одну поездку большинсвта пользователей составляет 3070м. Также на 700м пройденнего расстояние есть всплеск, возможно это связано с тем, что пользователи хотят добраться до ближайшего метро, остановки. \n",
    "\n",
    "- Данные по возврасту имеют нормальное распределение, пик и преобладающий возвраст имеет 25 лет, средний возвраст 24,9 лет. \n",
    "\n",
    "**Объединение данных**\n",
    "\n",
    "- Были объедены все датасеты в один датасет\n",
    "\n",
    "- Были созданы два датасета, которые хранят данные о пользователей с подпиской и без\n",
    "\n",
    "- Визуализация данных показала, что пользователи с подпиской и без, имеют одинаковые паттерны графиков и распределения. Однако пики расстояние за одну поездку и длительность поездки на графиках была выше у пользователей без подписок. \n",
    "\n",
    "**Подсчёт выручки**\n",
    "\n",
    "- Были округлены до целых числах данные в столбце длительность поездки\n",
    "- Была сделана агрегация данных\n",
    "- Также был добавлен новый столбец, который через формулу считал помесячную выручку от каждого пользователя\n",
    "- Также стало известно, что сумма выручки получаем больше от пользователей, которые не имеют подписки, однако на это влияет количество пользователей без подписок\n",
    "\n",
    "\n",
    "**Проверка гипотез**\n",
    "- 6.1 Мы подтвердили первую гипотезу, на самом деле пользователи с подпиской имеют больше времени поездок, чем пользователи без подписки\n",
    "\n",
    "- 6.2 Не получилось подтвердить вторую гипотезу, так как среднее растояние поездок меньше 3130 метров\n",
    "\n",
    "- 6.3 Мы подтвердили третью гипотезу, ведь отдельно пользователей с подпиской приносит больше выручки, чем пользователей без подписки\n",
    "\n",
    "**Распределения**\n",
    "\n",
    "- Для получения 100 продленных подписок и шансом 5% не выполнить план, нужно разослать 1161 промокодов \n",
    "\n",
    "- При расссылке 1 000 000 уведомлений, вероятность того, что его откроют не более 399,5 тысяч пользователей равна 15%\n",
    "\n",
    "\n",
    "**Рекомендации**\n",
    "\n",
    "Стоит больше продвигать Ultra подписку, так как индивидуально пользователей с подпиской приносит больше выгоды бизнесу. Более того, стоит внести какие то дополнительные функции в данную подписку, так как, только 1 пользователей из 11 его продлевает, при рассылки промокодов. Не стоит вносить изменения в бесплатную подписку, так как, суммарно такие пользователи приносят бизнесу на данный момент больше дохода, чем пользователи с подпиской, поэтому стоит их чем то привлекать. "
   ]
  }
 ],
 "metadata": {
  "ExecuteTimeLog": [
   {
    "duration": 82,
    "start_time": "2024-07-02T09:28:05.274Z"
   },
   {
    "duration": 58,
    "start_time": "2024-07-02T09:28:08.448Z"
   },
   {
    "duration": 403,
    "start_time": "2024-07-02T09:28:10.704Z"
   },
   {
    "duration": 42,
    "start_time": "2024-07-02T09:28:12.150Z"
   },
   {
    "duration": 100,
    "start_time": "2024-07-02T09:28:32.386Z"
   },
   {
    "duration": 2,
    "start_time": "2024-07-02T09:30:01.771Z"
   },
   {
    "duration": 29,
    "start_time": "2024-07-02T09:30:49.492Z"
   },
   {
    "duration": 7,
    "start_time": "2024-07-02T09:31:04.667Z"
   },
   {
    "duration": 59,
    "start_time": "2024-07-02T09:31:08.565Z"
   },
   {
    "duration": 2,
    "start_time": "2024-07-02T09:31:15.478Z"
   },
   {
    "duration": 3,
    "start_time": "2024-07-02T09:31:17.075Z"
   },
   {
    "duration": 58,
    "start_time": "2024-07-02T09:31:19.069Z"
   },
   {
    "duration": 249,
    "start_time": "2024-07-02T09:31:35.059Z"
   },
   {
    "duration": 15,
    "start_time": "2024-07-02T09:31:36.472Z"
   },
   {
    "duration": 17,
    "start_time": "2024-07-02T09:31:38.953Z"
   },
   {
    "duration": 14,
    "start_time": "2024-07-02T09:31:55.775Z"
   },
   {
    "duration": 66,
    "start_time": "2024-07-02T10:40:19.964Z"
   },
   {
    "duration": 3,
    "start_time": "2024-07-02T10:43:25.410Z"
   },
   {
    "duration": 2,
    "start_time": "2024-07-02T10:43:34.759Z"
   },
   {
    "duration": 8,
    "start_time": "2024-07-02T10:43:55.253Z"
   },
   {
    "duration": 10,
    "start_time": "2024-07-02T10:45:09.613Z"
   },
   {
    "duration": 8,
    "start_time": "2024-07-02T10:45:17.833Z"
   },
   {
    "duration": 9,
    "start_time": "2024-07-02T10:48:05.075Z"
   },
   {
    "duration": 15,
    "start_time": "2024-07-02T10:49:20.957Z"
   },
   {
    "duration": 51,
    "start_time": "2024-07-02T10:49:38.521Z"
   },
   {
    "duration": 5,
    "start_time": "2024-07-02T10:51:25.159Z"
   },
   {
    "duration": 11,
    "start_time": "2024-07-02T10:57:27.621Z"
   },
   {
    "duration": 8,
    "start_time": "2024-07-02T10:57:59.676Z"
   },
   {
    "duration": 12,
    "start_time": "2024-07-02T10:58:03.731Z"
   },
   {
    "duration": 10,
    "start_time": "2024-07-02T10:58:14.514Z"
   },
   {
    "duration": 613,
    "start_time": "2024-07-02T11:05:08.834Z"
   },
   {
    "duration": 160,
    "start_time": "2024-07-02T11:05:21.963Z"
   },
   {
    "duration": 141,
    "start_time": "2024-07-02T11:05:34.620Z"
   },
   {
    "duration": 195,
    "start_time": "2024-07-02T11:05:43.845Z"
   },
   {
    "duration": 141,
    "start_time": "2024-07-02T11:06:08.999Z"
   },
   {
    "duration": 155,
    "start_time": "2024-07-02T11:06:22.415Z"
   },
   {
    "duration": 3,
    "start_time": "2024-07-02T11:06:47.108Z"
   },
   {
    "duration": 151,
    "start_time": "2024-07-02T11:06:52.323Z"
   },
   {
    "duration": 151,
    "start_time": "2024-07-02T11:07:28.163Z"
   },
   {
    "duration": 162,
    "start_time": "2024-07-02T11:07:37.483Z"
   },
   {
    "duration": 170,
    "start_time": "2024-07-02T11:07:47.288Z"
   },
   {
    "duration": 158,
    "start_time": "2024-07-02T11:07:58.779Z"
   },
   {
    "duration": 158,
    "start_time": "2024-07-02T11:08:03.701Z"
   },
   {
    "duration": 158,
    "start_time": "2024-07-02T11:08:06.601Z"
   },
   {
    "duration": 163,
    "start_time": "2024-07-02T11:08:09.304Z"
   },
   {
    "duration": 225,
    "start_time": "2024-07-02T11:08:26.290Z"
   },
   {
    "duration": 154,
    "start_time": "2024-07-02T11:08:30.263Z"
   },
   {
    "duration": 156,
    "start_time": "2024-07-02T11:08:47.311Z"
   },
   {
    "duration": 151,
    "start_time": "2024-07-02T11:08:53.699Z"
   },
   {
    "duration": 164,
    "start_time": "2024-07-02T11:08:58.008Z"
   },
   {
    "duration": 13,
    "start_time": "2024-07-02T11:09:25.962Z"
   },
   {
    "duration": 168,
    "start_time": "2024-07-02T11:09:28.506Z"
   },
   {
    "duration": 175,
    "start_time": "2024-07-02T11:09:37.171Z"
   },
   {
    "duration": 182,
    "start_time": "2024-07-02T11:09:51.183Z"
   },
   {
    "duration": 177,
    "start_time": "2024-07-02T11:10:02.431Z"
   },
   {
    "duration": 163,
    "start_time": "2024-07-02T11:10:08.925Z"
   },
   {
    "duration": 13,
    "start_time": "2024-07-02T11:16:00.216Z"
   },
   {
    "duration": 8,
    "start_time": "2024-07-02T11:16:14.154Z"
   },
   {
    "duration": 13,
    "start_time": "2024-07-02T11:16:18.609Z"
   },
   {
    "duration": 161,
    "start_time": "2024-07-02T11:16:52.516Z"
   },
   {
    "duration": 223,
    "start_time": "2024-07-02T11:17:42.551Z"
   },
   {
    "duration": 171,
    "start_time": "2024-07-02T11:18:06.252Z"
   },
   {
    "duration": 160,
    "start_time": "2024-07-02T11:18:24.947Z"
   },
   {
    "duration": 194,
    "start_time": "2024-07-02T11:18:30.706Z"
   },
   {
    "duration": 160,
    "start_time": "2024-07-02T11:21:16.152Z"
   },
   {
    "duration": 169,
    "start_time": "2024-07-02T11:21:40.378Z"
   },
   {
    "duration": 148,
    "start_time": "2024-07-02T11:21:56.626Z"
   },
   {
    "duration": 164,
    "start_time": "2024-07-02T11:24:31.077Z"
   },
   {
    "duration": 8,
    "start_time": "2024-07-02T14:12:37.443Z"
   },
   {
    "duration": 12,
    "start_time": "2024-07-02T14:12:41.484Z"
   },
   {
    "duration": 13,
    "start_time": "2024-07-02T14:40:17.446Z"
   },
   {
    "duration": 123,
    "start_time": "2024-07-02T14:40:22.604Z"
   },
   {
    "duration": 12,
    "start_time": "2024-07-02T14:40:31.654Z"
   },
   {
    "duration": 52,
    "start_time": "2024-07-02T14:42:27.070Z"
   },
   {
    "duration": 7,
    "start_time": "2024-07-02T14:42:47.815Z"
   },
   {
    "duration": 129,
    "start_time": "2024-07-02T14:42:56.130Z"
   },
   {
    "duration": 130,
    "start_time": "2024-07-02T14:43:06.216Z"
   },
   {
    "duration": 202,
    "start_time": "2024-07-02T14:43:50.901Z"
   },
   {
    "duration": 171,
    "start_time": "2024-07-02T14:43:56.424Z"
   },
   {
    "duration": 124,
    "start_time": "2024-07-02T14:44:00.205Z"
   },
   {
    "duration": 137,
    "start_time": "2024-07-02T14:44:06.957Z"
   },
   {
    "duration": 164,
    "start_time": "2024-07-02T14:44:14.419Z"
   },
   {
    "duration": 158,
    "start_time": "2024-07-02T14:44:19.839Z"
   },
   {
    "duration": 152,
    "start_time": "2024-07-02T14:44:24.963Z"
   },
   {
    "duration": 153,
    "start_time": "2024-07-02T14:44:46.134Z"
   },
   {
    "duration": 152,
    "start_time": "2024-07-02T14:44:53.207Z"
   },
   {
    "duration": 3,
    "start_time": "2024-07-02T14:48:23.971Z"
   },
   {
    "duration": 164,
    "start_time": "2024-07-02T14:57:23.652Z"
   },
   {
    "duration": 148,
    "start_time": "2024-07-02T15:06:59.796Z"
   },
   {
    "duration": 239,
    "start_time": "2024-07-02T15:07:58.249Z"
   },
   {
    "duration": 164,
    "start_time": "2024-07-02T15:08:43.889Z"
   },
   {
    "duration": 171,
    "start_time": "2024-07-02T15:09:08.342Z"
   },
   {
    "duration": 30,
    "start_time": "2024-07-02T15:22:46.948Z"
   },
   {
    "duration": 16,
    "start_time": "2024-07-02T15:27:10.075Z"
   },
   {
    "duration": 14,
    "start_time": "2024-07-02T15:28:04.490Z"
   },
   {
    "duration": 9,
    "start_time": "2024-07-02T15:33:18.284Z"
   },
   {
    "duration": 168,
    "start_time": "2024-07-02T15:33:25.423Z"
   },
   {
    "duration": 179,
    "start_time": "2024-07-02T15:33:32.548Z"
   },
   {
    "duration": 187,
    "start_time": "2024-07-02T15:33:35.087Z"
   },
   {
    "duration": 203,
    "start_time": "2024-07-02T15:34:07.060Z"
   },
   {
    "duration": 287,
    "start_time": "2024-07-02T15:35:10.083Z"
   },
   {
    "duration": 210,
    "start_time": "2024-07-02T15:35:24.609Z"
   },
   {
    "duration": 226,
    "start_time": "2024-07-02T15:35:32.036Z"
   },
   {
    "duration": 208,
    "start_time": "2024-07-02T15:35:39.238Z"
   },
   {
    "duration": 198,
    "start_time": "2024-07-02T15:38:27.401Z"
   },
   {
    "duration": 293,
    "start_time": "2024-07-02T15:38:50.931Z"
   },
   {
    "duration": 44,
    "start_time": "2024-07-02T15:39:05.653Z"
   },
   {
    "duration": 6,
    "start_time": "2024-07-02T16:34:56.237Z"
   },
   {
    "duration": 2,
    "start_time": "2024-07-02T16:35:09.074Z"
   },
   {
    "duration": 4,
    "start_time": "2024-07-02T16:35:14.654Z"
   },
   {
    "duration": 6,
    "start_time": "2024-07-02T16:35:22.548Z"
   },
   {
    "duration": 4,
    "start_time": "2024-07-02T16:35:30.008Z"
   },
   {
    "duration": 12,
    "start_time": "2024-07-02T16:35:42.428Z"
   },
   {
    "duration": 3,
    "start_time": "2024-07-02T16:36:08.852Z"
   },
   {
    "duration": 16,
    "start_time": "2024-07-02T16:36:15.637Z"
   },
   {
    "duration": 10,
    "start_time": "2024-07-02T16:38:51.341Z"
   },
   {
    "duration": 35,
    "start_time": "2024-07-02T16:38:56.316Z"
   },
   {
    "duration": 32,
    "start_time": "2024-07-02T16:40:35.777Z"
   },
   {
    "duration": 26,
    "start_time": "2024-07-02T16:40:48.403Z"
   },
   {
    "duration": 34,
    "start_time": "2024-07-02T16:40:54.182Z"
   },
   {
    "duration": 33,
    "start_time": "2024-07-02T16:42:04.383Z"
   },
   {
    "duration": 48,
    "start_time": "2024-07-03T15:15:09.006Z"
   },
   {
    "duration": 8,
    "start_time": "2024-07-03T15:15:20.671Z"
   },
   {
    "duration": 810,
    "start_time": "2024-07-03T15:15:28.675Z"
   },
   {
    "duration": 3,
    "start_time": "2024-07-03T15:15:29.487Z"
   },
   {
    "duration": 357,
    "start_time": "2024-07-03T15:15:29.491Z"
   },
   {
    "duration": 19,
    "start_time": "2024-07-03T15:15:29.850Z"
   },
   {
    "duration": 18,
    "start_time": "2024-07-03T15:15:29.870Z"
   },
   {
    "duration": 12,
    "start_time": "2024-07-03T15:15:29.889Z"
   },
   {
    "duration": 3,
    "start_time": "2024-07-03T15:15:29.982Z"
   },
   {
    "duration": 6,
    "start_time": "2024-07-03T15:15:30.246Z"
   },
   {
    "duration": 7,
    "start_time": "2024-07-03T15:15:30.390Z"
   },
   {
    "duration": 11,
    "start_time": "2024-07-03T15:15:30.663Z"
   },
   {
    "duration": 21,
    "start_time": "2024-07-03T15:15:30.803Z"
   },
   {
    "duration": 6,
    "start_time": "2024-07-03T15:15:31.077Z"
   },
   {
    "duration": 179,
    "start_time": "2024-07-03T15:15:31.751Z"
   },
   {
    "duration": 139,
    "start_time": "2024-07-03T15:15:32.153Z"
   },
   {
    "duration": 165,
    "start_time": "2024-07-03T15:15:32.556Z"
   },
   {
    "duration": 198,
    "start_time": "2024-07-03T15:15:32.968Z"
   },
   {
    "duration": 230,
    "start_time": "2024-07-03T15:15:33.346Z"
   },
   {
    "duration": 28,
    "start_time": "2024-07-03T15:15:33.877Z"
   },
   {
    "duration": 16,
    "start_time": "2024-07-03T15:15:34.142Z"
   },
   {
    "duration": 14,
    "start_time": "2024-07-03T15:15:34.269Z"
   },
   {
    "duration": 212,
    "start_time": "2024-07-03T15:15:34.535Z"
   },
   {
    "duration": 210,
    "start_time": "2024-07-03T15:15:34.836Z"
   },
   {
    "duration": 35,
    "start_time": "2024-07-03T15:15:35.489Z"
   },
   {
    "duration": 38,
    "start_time": "2024-07-03T15:15:37.095Z"
   },
   {
    "duration": 15,
    "start_time": "2024-07-03T15:15:47.794Z"
   },
   {
    "duration": 17,
    "start_time": "2024-07-03T15:15:52.264Z"
   },
   {
    "duration": 22,
    "start_time": "2024-07-03T15:15:59.087Z"
   },
   {
    "duration": 73,
    "start_time": "2024-07-03T15:18:42.698Z"
   },
   {
    "duration": 929,
    "start_time": "2024-07-03T15:19:27.605Z"
   },
   {
    "duration": 1237,
    "start_time": "2024-07-03T15:23:30.085Z"
   },
   {
    "duration": 455,
    "start_time": "2024-07-03T15:23:42.282Z"
   },
   {
    "duration": 457,
    "start_time": "2024-07-03T15:26:21.054Z"
   },
   {
    "duration": 491,
    "start_time": "2024-07-03T15:30:18.879Z"
   },
   {
    "duration": 467,
    "start_time": "2024-07-03T15:30:28.886Z"
   },
   {
    "duration": 463,
    "start_time": "2024-07-03T15:30:39.755Z"
   },
   {
    "duration": 492,
    "start_time": "2024-07-03T15:30:44.763Z"
   },
   {
    "duration": 469,
    "start_time": "2024-07-03T15:30:51.972Z"
   },
   {
    "duration": 10,
    "start_time": "2024-07-03T16:03:53.834Z"
   },
   {
    "duration": 392,
    "start_time": "2024-07-03T16:04:18.920Z"
   },
   {
    "duration": 6,
    "start_time": "2024-07-03T16:04:49.860Z"
   },
   {
    "duration": 4,
    "start_time": "2024-07-03T16:05:30.261Z"
   },
   {
    "duration": 5,
    "start_time": "2024-07-03T16:06:09.107Z"
   },
   {
    "duration": 5,
    "start_time": "2024-07-03T16:06:16.053Z"
   },
   {
    "duration": 35,
    "start_time": "2024-07-03T17:09:39.610Z"
   },
   {
    "duration": 6,
    "start_time": "2024-07-03T17:09:51.322Z"
   },
   {
    "duration": 4,
    "start_time": "2024-07-03T17:10:36.529Z"
   },
   {
    "duration": 4,
    "start_time": "2024-07-03T17:15:40.871Z"
   },
   {
    "duration": 43,
    "start_time": "2024-07-03T17:21:50.977Z"
   },
   {
    "duration": 563,
    "start_time": "2024-07-03T17:21:58.771Z"
   },
   {
    "duration": 511,
    "start_time": "2024-07-03T17:22:59.264Z"
   },
   {
    "duration": 7,
    "start_time": "2024-07-03T17:23:19.011Z"
   },
   {
    "duration": 29,
    "start_time": "2024-07-03T17:23:26.948Z"
   },
   {
    "duration": 583,
    "start_time": "2024-07-03T17:23:41.852Z"
   },
   {
    "duration": 32,
    "start_time": "2024-07-03T17:24:13.260Z"
   },
   {
    "duration": 86,
    "start_time": "2024-07-03T17:24:19.536Z"
   },
   {
    "duration": 474,
    "start_time": "2024-07-03T17:24:33.144Z"
   },
   {
    "duration": 5,
    "start_time": "2024-07-03T17:24:37.193Z"
   },
   {
    "duration": 5,
    "start_time": "2024-07-03T17:24:39.599Z"
   },
   {
    "duration": 5,
    "start_time": "2024-07-03T17:24:41.253Z"
   },
   {
    "duration": 4,
    "start_time": "2024-07-03T17:24:46.283Z"
   },
   {
    "duration": 32,
    "start_time": "2024-07-03T17:24:48.473Z"
   },
   {
    "duration": 1446,
    "start_time": "2024-07-03T17:24:55.010Z"
   },
   {
    "duration": 8,
    "start_time": "2024-07-03T17:26:50.019Z"
   },
   {
    "duration": 5,
    "start_time": "2024-07-03T17:27:35.718Z"
   },
   {
    "duration": 1291,
    "start_time": "2024-07-03T17:27:38.935Z"
   },
   {
    "duration": 776,
    "start_time": "2024-07-03T17:58:56.451Z"
   },
   {
    "duration": 15,
    "start_time": "2024-07-03T18:00:07.961Z"
   },
   {
    "duration": 31,
    "start_time": "2024-07-03T18:00:17.796Z"
   },
   {
    "duration": 20,
    "start_time": "2024-07-03T18:00:38.742Z"
   },
   {
    "duration": 13,
    "start_time": "2024-07-03T18:00:51.391Z"
   },
   {
    "duration": 11,
    "start_time": "2024-07-03T18:01:42.418Z"
   },
   {
    "duration": 6,
    "start_time": "2024-07-03T18:01:56.680Z"
   },
   {
    "duration": 5,
    "start_time": "2024-07-03T18:02:22.283Z"
   },
   {
    "duration": 1450,
    "start_time": "2024-07-03T18:10:24.884Z"
   },
   {
    "duration": 96,
    "start_time": "2024-07-03T18:15:45.359Z"
   },
   {
    "duration": 82,
    "start_time": "2024-07-03T18:16:06.291Z"
   },
   {
    "duration": 1533,
    "start_time": "2024-07-03T18:16:09.713Z"
   },
   {
    "duration": 6,
    "start_time": "2024-07-03T18:17:15.193Z"
   },
   {
    "duration": 753,
    "start_time": "2024-07-03T21:21:21.907Z"
   },
   {
    "duration": 18,
    "start_time": "2024-07-03T21:21:35.415Z"
   },
   {
    "duration": 116,
    "start_time": "2024-07-03T21:26:16.778Z"
   },
   {
    "duration": 113,
    "start_time": "2024-07-03T21:26:25.523Z"
   },
   {
    "duration": 16033,
    "start_time": "2024-07-03T21:26:31.750Z"
   },
   {
    "duration": 18931,
    "start_time": "2024-07-03T21:27:47.256Z"
   },
   {
    "duration": 1054,
    "start_time": "2024-07-03T21:38:06.829Z"
   },
   {
    "duration": 3,
    "start_time": "2024-07-03T21:38:07.885Z"
   },
   {
    "duration": 97,
    "start_time": "2024-07-03T21:38:07.889Z"
   },
   {
    "duration": 19,
    "start_time": "2024-07-03T21:38:07.987Z"
   },
   {
    "duration": 16,
    "start_time": "2024-07-03T21:38:08.008Z"
   },
   {
    "duration": 14,
    "start_time": "2024-07-03T21:38:08.025Z"
   },
   {
    "duration": 3,
    "start_time": "2024-07-03T21:38:08.285Z"
   },
   {
    "duration": 7,
    "start_time": "2024-07-03T21:38:08.538Z"
   },
   {
    "duration": 7,
    "start_time": "2024-07-03T21:38:08.667Z"
   },
   {
    "duration": 11,
    "start_time": "2024-07-03T21:38:08.911Z"
   },
   {
    "duration": 23,
    "start_time": "2024-07-03T21:38:09.046Z"
   },
   {
    "duration": 7,
    "start_time": "2024-07-03T21:38:09.317Z"
   },
   {
    "duration": 178,
    "start_time": "2024-07-03T21:38:09.977Z"
   },
   {
    "duration": 149,
    "start_time": "2024-07-03T21:38:10.366Z"
   },
   {
    "duration": 172,
    "start_time": "2024-07-03T21:38:10.763Z"
   },
   {
    "duration": 181,
    "start_time": "2024-07-03T21:38:11.142Z"
   },
   {
    "duration": 187,
    "start_time": "2024-07-03T21:38:11.551Z"
   },
   {
    "duration": 31,
    "start_time": "2024-07-03T21:38:12.082Z"
   },
   {
    "duration": 20,
    "start_time": "2024-07-03T21:38:12.335Z"
   },
   {
    "duration": 17,
    "start_time": "2024-07-03T21:38:12.457Z"
   },
   {
    "duration": 218,
    "start_time": "2024-07-03T21:38:12.711Z"
   },
   {
    "duration": 223,
    "start_time": "2024-07-03T21:38:12.987Z"
   },
   {
    "duration": 104,
    "start_time": "2024-07-03T21:38:13.517Z"
   },
   {
    "duration": 25,
    "start_time": "2024-07-03T21:38:13.913Z"
   },
   {
    "duration": 811,
    "start_time": "2024-07-03T21:38:14.037Z"
   },
   {
    "duration": 0,
    "start_time": "2024-07-03T21:38:14.850Z"
   },
   {
    "duration": 0,
    "start_time": "2024-07-03T21:38:14.851Z"
   },
   {
    "duration": 6,
    "start_time": "2024-07-03T21:38:15.111Z"
   },
   {
    "duration": 5,
    "start_time": "2024-07-03T21:38:15.509Z"
   },
   {
    "duration": 4,
    "start_time": "2024-07-03T21:38:15.779Z"
   },
   {
    "duration": 1054,
    "start_time": "2024-07-03T21:38:16.174Z"
   },
   {
    "duration": 0,
    "start_time": "2024-07-03T21:38:17.229Z"
   },
   {
    "duration": 0,
    "start_time": "2024-07-03T21:38:17.231Z"
   },
   {
    "duration": 8,
    "start_time": "2024-07-03T21:38:17.238Z"
   },
   {
    "duration": 6,
    "start_time": "2024-07-03T21:38:17.630Z"
   },
   {
    "duration": 193,
    "start_time": "2024-07-03T21:39:09.018Z"
   },
   {
    "duration": 15590,
    "start_time": "2024-07-03T21:39:13.006Z"
   },
   {
    "duration": 5,
    "start_time": "2024-07-03T21:39:28.598Z"
   },
   {
    "duration": 11,
    "start_time": "2024-07-03T21:39:28.605Z"
   },
   {
    "duration": 53,
    "start_time": "2024-07-03T21:39:28.619Z"
   },
   {
    "duration": 4,
    "start_time": "2024-07-03T21:39:28.674Z"
   },
   {
    "duration": 10,
    "start_time": "2024-07-03T21:39:28.680Z"
   },
   {
    "duration": 5,
    "start_time": "2024-07-03T21:39:28.692Z"
   },
   {
    "duration": 2705,
    "start_time": "2024-07-03T21:39:28.698Z"
   },
   {
    "duration": 82,
    "start_time": "2024-07-03T21:39:31.405Z"
   },
   {
    "duration": 6,
    "start_time": "2024-07-03T21:39:31.501Z"
   },
   {
    "duration": 1122,
    "start_time": "2024-07-03T21:39:49.181Z"
   },
   {
    "duration": 3,
    "start_time": "2024-07-03T21:39:50.305Z"
   },
   {
    "duration": 78,
    "start_time": "2024-07-03T21:39:50.309Z"
   },
   {
    "duration": 24,
    "start_time": "2024-07-03T21:39:50.389Z"
   },
   {
    "duration": 15,
    "start_time": "2024-07-03T21:39:50.415Z"
   },
   {
    "duration": 36,
    "start_time": "2024-07-03T21:39:50.431Z"
   },
   {
    "duration": 4,
    "start_time": "2024-07-03T21:39:50.469Z"
   },
   {
    "duration": 6,
    "start_time": "2024-07-03T21:39:50.703Z"
   },
   {
    "duration": 8,
    "start_time": "2024-07-03T21:39:50.813Z"
   },
   {
    "duration": 10,
    "start_time": "2024-07-03T21:39:51.067Z"
   },
   {
    "duration": 22,
    "start_time": "2024-07-03T21:39:51.188Z"
   },
   {
    "duration": 6,
    "start_time": "2024-07-03T21:39:51.436Z"
   },
   {
    "duration": 180,
    "start_time": "2024-07-03T21:39:52.068Z"
   },
   {
    "duration": 144,
    "start_time": "2024-07-03T21:39:52.457Z"
   },
   {
    "duration": 174,
    "start_time": "2024-07-03T21:39:52.836Z"
   },
   {
    "duration": 182,
    "start_time": "2024-07-03T21:39:53.214Z"
   },
   {
    "duration": 191,
    "start_time": "2024-07-03T21:39:53.598Z"
   },
   {
    "duration": 33,
    "start_time": "2024-07-03T21:39:54.090Z"
   },
   {
    "duration": 17,
    "start_time": "2024-07-03T21:39:54.337Z"
   },
   {
    "duration": 18,
    "start_time": "2024-07-03T21:39:54.454Z"
   },
   {
    "duration": 231,
    "start_time": "2024-07-03T21:39:54.696Z"
   },
   {
    "duration": 222,
    "start_time": "2024-07-03T21:39:54.952Z"
   },
   {
    "duration": 103,
    "start_time": "2024-07-03T21:39:55.486Z"
   },
   {
    "duration": 34,
    "start_time": "2024-07-03T21:39:55.846Z"
   },
   {
    "duration": 205,
    "start_time": "2024-07-03T21:39:55.977Z"
   },
   {
    "duration": 16176,
    "start_time": "2024-07-03T21:39:56.184Z"
   },
   {
    "duration": 6,
    "start_time": "2024-07-03T21:40:12.361Z"
   },
   {
    "duration": 23,
    "start_time": "2024-07-03T21:40:12.368Z"
   },
   {
    "duration": 12,
    "start_time": "2024-07-03T21:40:12.393Z"
   },
   {
    "duration": 4,
    "start_time": "2024-07-03T21:40:12.407Z"
   },
   {
    "duration": 15,
    "start_time": "2024-07-03T21:40:12.412Z"
   },
   {
    "duration": 4,
    "start_time": "2024-07-03T21:40:12.429Z"
   },
   {
    "duration": 2831,
    "start_time": "2024-07-03T21:40:12.434Z"
   },
   {
    "duration": 97,
    "start_time": "2024-07-03T21:40:15.266Z"
   },
   {
    "duration": 5,
    "start_time": "2024-07-03T21:40:15.366Z"
   },
   {
    "duration": 1131,
    "start_time": "2024-07-04T05:30:41.709Z"
   },
   {
    "duration": 3,
    "start_time": "2024-07-04T05:30:42.842Z"
   },
   {
    "duration": 240,
    "start_time": "2024-07-04T05:30:42.847Z"
   },
   {
    "duration": 20,
    "start_time": "2024-07-04T05:30:43.089Z"
   },
   {
    "duration": 22,
    "start_time": "2024-07-04T05:30:43.111Z"
   },
   {
    "duration": 29,
    "start_time": "2024-07-04T05:30:43.134Z"
   },
   {
    "duration": 8,
    "start_time": "2024-07-04T05:30:43.165Z"
   },
   {
    "duration": 38,
    "start_time": "2024-07-04T05:30:43.175Z"
   },
   {
    "duration": 52,
    "start_time": "2024-07-04T05:30:43.215Z"
   },
   {
    "duration": 49,
    "start_time": "2024-07-04T05:30:43.269Z"
   },
   {
    "duration": 55,
    "start_time": "2024-07-04T05:30:43.319Z"
   },
   {
    "duration": 47,
    "start_time": "2024-07-04T05:30:43.376Z"
   },
   {
    "duration": 225,
    "start_time": "2024-07-04T05:30:43.424Z"
   },
   {
    "duration": 169,
    "start_time": "2024-07-04T05:30:43.652Z"
   },
   {
    "duration": 186,
    "start_time": "2024-07-04T05:30:43.823Z"
   },
   {
    "duration": 204,
    "start_time": "2024-07-04T05:30:44.010Z"
   },
   {
    "duration": 209,
    "start_time": "2024-07-04T05:30:44.215Z"
   },
   {
    "duration": 40,
    "start_time": "2024-07-04T05:30:44.426Z"
   },
   {
    "duration": 16,
    "start_time": "2024-07-04T05:30:44.468Z"
   },
   {
    "duration": 31,
    "start_time": "2024-07-04T05:30:44.486Z"
   },
   {
    "duration": 259,
    "start_time": "2024-07-04T05:30:44.518Z"
   },
   {
    "duration": 263,
    "start_time": "2024-07-04T05:30:44.779Z"
   },
   {
    "duration": 140,
    "start_time": "2024-07-04T05:30:45.043Z"
   },
   {
    "duration": 28,
    "start_time": "2024-07-04T05:30:45.184Z"
   },
   {
    "duration": 242,
    "start_time": "2024-07-04T05:30:45.214Z"
   },
   {
    "duration": 16089,
    "start_time": "2024-07-04T05:30:45.458Z"
   },
   {
    "duration": 5,
    "start_time": "2024-07-04T05:31:01.549Z"
   },
   {
    "duration": 31,
    "start_time": "2024-07-04T05:31:01.564Z"
   },
   {
    "duration": 26,
    "start_time": "2024-07-04T05:31:01.597Z"
   },
   {
    "duration": 47,
    "start_time": "2024-07-04T05:31:01.625Z"
   },
   {
    "duration": 54,
    "start_time": "2024-07-04T05:31:01.674Z"
   },
   {
    "duration": 27,
    "start_time": "2024-07-04T05:31:01.730Z"
   },
   {
    "duration": 2944,
    "start_time": "2024-07-04T05:31:01.759Z"
   },
   {
    "duration": 85,
    "start_time": "2024-07-04T05:31:04.705Z"
   },
   {
    "duration": 5,
    "start_time": "2024-07-04T05:31:04.792Z"
   },
   {
    "duration": 25,
    "start_time": "2024-07-04T05:37:32.059Z"
   },
   {
    "duration": 63,
    "start_time": "2024-07-04T13:13:16.899Z"
   },
   {
    "duration": 1506,
    "start_time": "2024-07-04T13:13:27.541Z"
   },
   {
    "duration": 3,
    "start_time": "2024-07-04T13:13:29.049Z"
   },
   {
    "duration": 328,
    "start_time": "2024-07-04T13:13:29.053Z"
   },
   {
    "duration": 36,
    "start_time": "2024-07-04T13:13:29.383Z"
   },
   {
    "duration": 18,
    "start_time": "2024-07-04T13:13:29.421Z"
   },
   {
    "duration": 18,
    "start_time": "2024-07-04T13:13:29.440Z"
   },
   {
    "duration": 12,
    "start_time": "2024-07-04T13:13:29.460Z"
   },
   {
    "duration": 28,
    "start_time": "2024-07-04T13:13:29.473Z"
   },
   {
    "duration": 16,
    "start_time": "2024-07-04T13:13:29.506Z"
   },
   {
    "duration": 65,
    "start_time": "2024-07-04T13:13:29.540Z"
   },
   {
    "duration": 30,
    "start_time": "2024-07-04T13:13:29.671Z"
   },
   {
    "duration": 7,
    "start_time": "2024-07-04T13:13:30.061Z"
   },
   {
    "duration": 241,
    "start_time": "2024-07-04T13:13:30.975Z"
   },
   {
    "duration": 113,
    "start_time": "2024-07-04T13:13:31.509Z"
   },
   {
    "duration": 202,
    "start_time": "2024-07-04T13:13:32.039Z"
   },
   {
    "duration": 208,
    "start_time": "2024-07-04T13:13:32.553Z"
   },
   {
    "duration": 234,
    "start_time": "2024-07-04T13:13:32.979Z"
   },
   {
    "duration": 37,
    "start_time": "2024-07-04T13:13:33.649Z"
   },
   {
    "duration": 26,
    "start_time": "2024-07-04T13:13:34.179Z"
   },
   {
    "duration": 16,
    "start_time": "2024-07-04T13:13:34.323Z"
   },
   {
    "duration": 274,
    "start_time": "2024-07-04T13:13:34.576Z"
   },
   {
    "duration": 280,
    "start_time": "2024-07-04T13:13:34.854Z"
   },
   {
    "duration": 51,
    "start_time": "2024-07-04T13:13:35.769Z"
   },
   {
    "duration": 29,
    "start_time": "2024-07-04T13:13:36.155Z"
   },
   {
    "duration": 247,
    "start_time": "2024-07-04T13:13:36.303Z"
   },
   {
    "duration": 18530,
    "start_time": "2024-07-04T13:13:36.552Z"
   },
   {
    "duration": 16,
    "start_time": "2024-07-04T13:13:55.084Z"
   },
   {
    "duration": 28,
    "start_time": "2024-07-04T13:13:55.102Z"
   },
   {
    "duration": 21,
    "start_time": "2024-07-04T13:13:55.132Z"
   },
   {
    "duration": 9,
    "start_time": "2024-07-04T13:13:55.154Z"
   },
   {
    "duration": 11,
    "start_time": "2024-07-04T13:13:55.165Z"
   },
   {
    "duration": 13,
    "start_time": "2024-07-04T13:13:55.177Z"
   },
   {
    "duration": 2858,
    "start_time": "2024-07-04T13:13:55.194Z"
   },
   {
    "duration": 129,
    "start_time": "2024-07-04T13:13:58.054Z"
   },
   {
    "duration": 12,
    "start_time": "2024-07-04T13:13:58.186Z"
   },
   {
    "duration": 57,
    "start_time": "2024-07-04T13:30:15.110Z"
   },
   {
    "duration": 25,
    "start_time": "2024-07-04T13:30:37.914Z"
   },
   {
    "duration": 49,
    "start_time": "2024-07-04T13:30:54.254Z"
   },
   {
    "duration": 159,
    "start_time": "2024-07-04T13:30:56.990Z"
   },
   {
    "duration": 157,
    "start_time": "2024-07-04T13:31:05.447Z"
   },
   {
    "duration": 153,
    "start_time": "2024-07-04T13:31:32.785Z"
   },
   {
    "duration": 64,
    "start_time": "2024-07-04T13:45:27.011Z"
   },
   {
    "duration": 9,
    "start_time": "2024-07-04T13:45:55.071Z"
   },
   {
    "duration": 8,
    "start_time": "2024-07-04T13:45:57.841Z"
   },
   {
    "duration": 5,
    "start_time": "2024-07-04T13:47:17.994Z"
   },
   {
    "duration": 3,
    "start_time": "2024-07-04T13:47:28.369Z"
   },
   {
    "duration": 4,
    "start_time": "2024-07-04T13:47:33.512Z"
   },
   {
    "duration": 40,
    "start_time": "2024-07-04T13:48:00.385Z"
   },
   {
    "duration": 35,
    "start_time": "2024-07-04T13:48:15.784Z"
   },
   {
    "duration": 44,
    "start_time": "2024-07-04T13:48:36.703Z"
   },
   {
    "duration": 4,
    "start_time": "2024-07-04T13:48:40.547Z"
   },
   {
    "duration": 44,
    "start_time": "2024-07-04T13:49:16.891Z"
   },
   {
    "duration": 3,
    "start_time": "2024-07-04T13:49:22.749Z"
   },
   {
    "duration": 23,
    "start_time": "2024-07-04T13:49:51.252Z"
   },
   {
    "duration": 50,
    "start_time": "2024-07-04T13:57:34.650Z"
   },
   {
    "duration": 6,
    "start_time": "2024-07-04T13:57:48.238Z"
   },
   {
    "duration": 58,
    "start_time": "2024-07-04T13:59:19.113Z"
   },
   {
    "duration": 47,
    "start_time": "2024-07-04T14:02:29.140Z"
   },
   {
    "duration": 59,
    "start_time": "2024-07-04T14:36:19.114Z"
   },
   {
    "duration": 1247,
    "start_time": "2024-07-04T14:36:39.836Z"
   },
   {
    "duration": 3,
    "start_time": "2024-07-04T14:36:41.087Z"
   },
   {
    "duration": 85,
    "start_time": "2024-07-04T14:36:41.093Z"
   },
   {
    "duration": 26,
    "start_time": "2024-07-04T14:36:41.182Z"
   },
   {
    "duration": 25,
    "start_time": "2024-07-04T14:36:41.211Z"
   },
   {
    "duration": 19,
    "start_time": "2024-07-04T14:36:41.238Z"
   },
   {
    "duration": 33,
    "start_time": "2024-07-04T14:36:41.259Z"
   },
   {
    "duration": 36,
    "start_time": "2024-07-04T14:36:41.294Z"
   },
   {
    "duration": 33,
    "start_time": "2024-07-04T14:36:41.331Z"
   },
   {
    "duration": 84,
    "start_time": "2024-07-04T14:36:41.367Z"
   },
   {
    "duration": 23,
    "start_time": "2024-07-04T14:36:41.453Z"
   },
   {
    "duration": 6,
    "start_time": "2024-07-04T14:36:41.478Z"
   },
   {
    "duration": 202,
    "start_time": "2024-07-04T14:36:41.486Z"
   },
   {
    "duration": 161,
    "start_time": "2024-07-04T14:36:41.690Z"
   },
   {
    "duration": 201,
    "start_time": "2024-07-04T14:36:41.853Z"
   },
   {
    "duration": 228,
    "start_time": "2024-07-04T14:36:42.055Z"
   },
   {
    "duration": 249,
    "start_time": "2024-07-04T14:36:42.291Z"
   },
   {
    "duration": 4,
    "start_time": "2024-07-04T14:36:42.543Z"
   },
   {
    "duration": 69,
    "start_time": "2024-07-04T14:36:42.550Z"
   },
   {
    "duration": 23,
    "start_time": "2024-07-04T14:36:42.622Z"
   },
   {
    "duration": 22,
    "start_time": "2024-07-04T14:36:42.648Z"
   },
   {
    "duration": 24,
    "start_time": "2024-07-04T14:36:42.692Z"
   },
   {
    "duration": 314,
    "start_time": "2024-07-04T14:36:42.719Z"
   },
   {
    "duration": 257,
    "start_time": "2024-07-04T14:36:43.034Z"
   },
   {
    "duration": 130,
    "start_time": "2024-07-04T14:36:43.293Z"
   },
   {
    "duration": 28,
    "start_time": "2024-07-04T14:36:43.425Z"
   },
   {
    "duration": 225,
    "start_time": "2024-07-04T14:36:43.455Z"
   },
   {
    "duration": 17752,
    "start_time": "2024-07-04T14:36:43.683Z"
   },
   {
    "duration": 6,
    "start_time": "2024-07-04T14:37:01.437Z"
   },
   {
    "duration": 225,
    "start_time": "2024-07-04T14:37:01.446Z"
   },
   {
    "duration": 162,
    "start_time": "2024-07-04T14:37:01.673Z"
   },
   {
    "duration": 157,
    "start_time": "2024-07-04T14:37:01.837Z"
   },
   {
    "duration": 126,
    "start_time": "2024-07-04T14:37:01.996Z"
   },
   {
    "duration": 99,
    "start_time": "2024-07-04T14:37:02.124Z"
   },
   {
    "duration": 3272,
    "start_time": "2024-07-04T14:37:02.225Z"
   },
   {
    "duration": 116,
    "start_time": "2024-07-04T14:37:05.499Z"
   },
   {
    "duration": 5,
    "start_time": "2024-07-04T14:37:05.617Z"
   },
   {
    "duration": 1221,
    "start_time": "2024-07-05T04:57:14.734Z"
   },
   {
    "duration": 8,
    "start_time": "2024-07-05T04:57:15.957Z"
   },
   {
    "duration": 74,
    "start_time": "2024-07-05T04:57:15.967Z"
   },
   {
    "duration": 20,
    "start_time": "2024-07-05T04:57:16.042Z"
   },
   {
    "duration": 16,
    "start_time": "2024-07-05T04:57:16.065Z"
   },
   {
    "duration": 13,
    "start_time": "2024-07-05T04:57:16.083Z"
   },
   {
    "duration": 4,
    "start_time": "2024-07-05T04:57:16.098Z"
   },
   {
    "duration": 9,
    "start_time": "2024-07-05T04:57:16.104Z"
   },
   {
    "duration": 8,
    "start_time": "2024-07-05T04:57:16.115Z"
   },
   {
    "duration": 45,
    "start_time": "2024-07-05T04:57:16.124Z"
   },
   {
    "duration": 22,
    "start_time": "2024-07-05T04:57:16.171Z"
   },
   {
    "duration": 6,
    "start_time": "2024-07-05T04:57:16.195Z"
   },
   {
    "duration": 197,
    "start_time": "2024-07-05T04:57:16.203Z"
   },
   {
    "duration": 132,
    "start_time": "2024-07-05T04:57:16.402Z"
   },
   {
    "duration": 171,
    "start_time": "2024-07-05T04:57:16.535Z"
   },
   {
    "duration": 187,
    "start_time": "2024-07-05T04:57:16.707Z"
   },
   {
    "duration": 207,
    "start_time": "2024-07-05T04:57:16.895Z"
   },
   {
    "duration": 4,
    "start_time": "2024-07-05T04:57:17.104Z"
   },
   {
    "duration": 61,
    "start_time": "2024-07-05T04:57:17.109Z"
   },
   {
    "duration": 17,
    "start_time": "2024-07-05T04:57:17.172Z"
   },
   {
    "duration": 15,
    "start_time": "2024-07-05T04:57:17.190Z"
   },
   {
    "duration": 25,
    "start_time": "2024-07-05T04:57:17.206Z"
   },
   {
    "duration": 250,
    "start_time": "2024-07-05T04:57:17.233Z"
   },
   {
    "duration": 234,
    "start_time": "2024-07-05T04:57:17.485Z"
   },
   {
    "duration": 129,
    "start_time": "2024-07-05T04:57:17.721Z"
   },
   {
    "duration": 30,
    "start_time": "2024-07-05T04:57:17.852Z"
   },
   {
    "duration": 206,
    "start_time": "2024-07-05T04:57:17.884Z"
   },
   {
    "duration": 16041,
    "start_time": "2024-07-05T04:57:18.092Z"
   },
   {
    "duration": 6,
    "start_time": "2024-07-05T04:57:34.134Z"
   },
   {
    "duration": 5,
    "start_time": "2024-07-05T04:57:34.142Z"
   },
   {
    "duration": 5,
    "start_time": "2024-07-05T04:57:34.166Z"
   },
   {
    "duration": 4,
    "start_time": "2024-07-05T04:57:34.173Z"
   },
   {
    "duration": 11,
    "start_time": "2024-07-05T04:57:34.178Z"
   },
   {
    "duration": 6,
    "start_time": "2024-07-05T04:57:34.190Z"
   },
   {
    "duration": 2824,
    "start_time": "2024-07-05T04:57:34.198Z"
   },
   {
    "duration": 100,
    "start_time": "2024-07-05T04:57:37.024Z"
   },
   {
    "duration": 6,
    "start_time": "2024-07-05T04:57:37.125Z"
   },
   {
    "duration": 1257,
    "start_time": "2024-07-05T10:14:47.522Z"
   },
   {
    "duration": 2,
    "start_time": "2024-07-05T10:14:48.781Z"
   },
   {
    "duration": 207,
    "start_time": "2024-07-05T10:14:48.784Z"
   },
   {
    "duration": 19,
    "start_time": "2024-07-05T10:14:48.993Z"
   },
   {
    "duration": 14,
    "start_time": "2024-07-05T10:14:49.013Z"
   },
   {
    "duration": 12,
    "start_time": "2024-07-05T10:14:49.029Z"
   },
   {
    "duration": 4,
    "start_time": "2024-07-05T10:14:49.042Z"
   },
   {
    "duration": 12,
    "start_time": "2024-07-05T10:14:49.047Z"
   },
   {
    "duration": 10,
    "start_time": "2024-07-05T10:14:49.060Z"
   },
   {
    "duration": 8,
    "start_time": "2024-07-05T10:14:49.073Z"
   },
   {
    "duration": 36,
    "start_time": "2024-07-05T10:14:49.082Z"
   },
   {
    "duration": 4,
    "start_time": "2024-07-05T10:14:49.120Z"
   },
   {
    "duration": 196,
    "start_time": "2024-07-05T10:14:49.126Z"
   },
   {
    "duration": 129,
    "start_time": "2024-07-05T10:14:49.323Z"
   },
   {
    "duration": 184,
    "start_time": "2024-07-05T10:14:49.454Z"
   },
   {
    "duration": 194,
    "start_time": "2024-07-05T10:14:49.639Z"
   },
   {
    "duration": 177,
    "start_time": "2024-07-05T10:14:49.837Z"
   },
   {
    "duration": 3,
    "start_time": "2024-07-05T10:14:50.016Z"
   },
   {
    "duration": 60,
    "start_time": "2024-07-05T10:14:50.021Z"
   },
   {
    "duration": 17,
    "start_time": "2024-07-05T10:14:50.083Z"
   },
   {
    "duration": 16,
    "start_time": "2024-07-05T10:14:50.101Z"
   },
   {
    "duration": 42,
    "start_time": "2024-07-05T10:14:50.118Z"
   },
   {
    "duration": 213,
    "start_time": "2024-07-05T10:14:50.161Z"
   },
   {
    "duration": 215,
    "start_time": "2024-07-05T10:14:50.376Z"
   },
   {
    "duration": 106,
    "start_time": "2024-07-05T10:14:50.593Z"
   },
   {
    "duration": 36,
    "start_time": "2024-07-05T10:14:50.701Z"
   },
   {
    "duration": 200,
    "start_time": "2024-07-05T10:14:50.739Z"
   },
   {
    "duration": 15105,
    "start_time": "2024-07-05T10:14:50.942Z"
   },
   {
    "duration": 6,
    "start_time": "2024-07-05T10:15:06.048Z"
   },
   {
    "duration": 29,
    "start_time": "2024-07-05T10:15:06.056Z"
   },
   {
    "duration": 15,
    "start_time": "2024-07-05T10:15:06.087Z"
   },
   {
    "duration": 19,
    "start_time": "2024-07-05T10:15:06.103Z"
   },
   {
    "duration": 38,
    "start_time": "2024-07-05T10:15:06.123Z"
   },
   {
    "duration": 12,
    "start_time": "2024-07-05T10:15:06.163Z"
   },
   {
    "duration": 2680,
    "start_time": "2024-07-05T10:15:06.177Z"
   },
   {
    "duration": 82,
    "start_time": "2024-07-05T10:15:08.859Z"
   },
   {
    "duration": 5,
    "start_time": "2024-07-05T10:15:08.942Z"
   },
   {
    "duration": 64,
    "start_time": "2024-07-05T10:15:18.603Z"
   },
   {
    "duration": 62,
    "start_time": "2024-07-05T10:15:25.381Z"
   },
   {
    "duration": 62,
    "start_time": "2024-07-05T10:15:39.383Z"
   },
   {
    "duration": 97,
    "start_time": "2024-07-05T10:18:01.935Z"
   },
   {
    "duration": 147,
    "start_time": "2024-07-05T10:18:14.830Z"
   },
   {
    "duration": 63,
    "start_time": "2024-07-05T10:19:26.682Z"
   },
   {
    "duration": 70,
    "start_time": "2024-07-05T10:19:48.143Z"
   },
   {
    "duration": 175,
    "start_time": "2024-07-05T10:19:54.383Z"
   },
   {
    "duration": 65,
    "start_time": "2024-07-05T10:19:59.170Z"
   },
   {
    "duration": 129,
    "start_time": "2024-07-05T10:20:10.382Z"
   },
   {
    "duration": 137,
    "start_time": "2024-07-05T10:20:15.524Z"
   },
   {
    "duration": 139,
    "start_time": "2024-07-05T10:20:28.149Z"
   },
   {
    "duration": 1091,
    "start_time": "2024-07-05T10:20:45.499Z"
   },
   {
    "duration": 3,
    "start_time": "2024-07-05T10:20:46.592Z"
   },
   {
    "duration": 80,
    "start_time": "2024-07-05T10:20:46.597Z"
   },
   {
    "duration": 25,
    "start_time": "2024-07-05T10:20:46.679Z"
   },
   {
    "duration": 22,
    "start_time": "2024-07-05T10:20:46.706Z"
   },
   {
    "duration": 21,
    "start_time": "2024-07-05T10:20:46.730Z"
   },
   {
    "duration": 3,
    "start_time": "2024-07-05T10:20:46.753Z"
   },
   {
    "duration": 26,
    "start_time": "2024-07-05T10:20:46.758Z"
   },
   {
    "duration": 8,
    "start_time": "2024-07-05T10:20:46.786Z"
   },
   {
    "duration": 21,
    "start_time": "2024-07-05T10:20:46.796Z"
   },
   {
    "duration": 40,
    "start_time": "2024-07-05T10:20:46.819Z"
   },
   {
    "duration": 7,
    "start_time": "2024-07-05T10:20:46.860Z"
   },
   {
    "duration": 223,
    "start_time": "2024-07-05T10:20:46.869Z"
   },
   {
    "duration": 169,
    "start_time": "2024-07-05T10:20:47.094Z"
   },
   {
    "duration": 177,
    "start_time": "2024-07-05T10:20:47.265Z"
   },
   {
    "duration": 200,
    "start_time": "2024-07-05T10:20:47.443Z"
   },
   {
    "duration": 196,
    "start_time": "2024-07-05T10:20:47.644Z"
   },
   {
    "duration": 3,
    "start_time": "2024-07-05T10:20:47.842Z"
   },
   {
    "duration": 33,
    "start_time": "2024-07-05T10:20:47.847Z"
   },
   {
    "duration": 17,
    "start_time": "2024-07-05T10:20:47.882Z"
   },
   {
    "duration": 47,
    "start_time": "2024-07-05T10:20:47.901Z"
   },
   {
    "duration": 58,
    "start_time": "2024-07-05T10:20:47.949Z"
   },
   {
    "duration": 222,
    "start_time": "2024-07-05T10:20:48.009Z"
   },
   {
    "duration": 241,
    "start_time": "2024-07-05T10:20:48.237Z"
   },
   {
    "duration": 115,
    "start_time": "2024-07-05T10:20:48.480Z"
   },
   {
    "duration": 41,
    "start_time": "2024-07-05T10:20:48.597Z"
   },
   {
    "duration": 208,
    "start_time": "2024-07-05T10:20:48.640Z"
   },
   {
    "duration": 15326,
    "start_time": "2024-07-05T10:20:48.851Z"
   },
   {
    "duration": 6,
    "start_time": "2024-07-05T10:21:04.179Z"
   },
   {
    "duration": 12,
    "start_time": "2024-07-05T10:21:04.187Z"
   },
   {
    "duration": 6,
    "start_time": "2024-07-05T10:21:04.201Z"
   },
   {
    "duration": 5,
    "start_time": "2024-07-05T10:21:04.209Z"
   },
   {
    "duration": 35,
    "start_time": "2024-07-05T10:21:04.216Z"
   },
   {
    "duration": 5,
    "start_time": "2024-07-05T10:21:04.254Z"
   },
   {
    "duration": 2796,
    "start_time": "2024-07-05T10:21:04.261Z"
   },
   {
    "duration": 87,
    "start_time": "2024-07-05T10:21:07.059Z"
   },
   {
    "duration": 5,
    "start_time": "2024-07-05T10:21:07.148Z"
   },
   {
    "duration": 1176,
    "start_time": "2024-07-05T17:01:00.405Z"
   },
   {
    "duration": 2,
    "start_time": "2024-07-05T17:01:01.583Z"
   },
   {
    "duration": 356,
    "start_time": "2024-07-05T17:01:01.587Z"
   },
   {
    "duration": 18,
    "start_time": "2024-07-05T17:01:01.945Z"
   },
   {
    "duration": 66,
    "start_time": "2024-07-05T17:01:01.965Z"
   },
   {
    "duration": 53,
    "start_time": "2024-07-05T17:01:02.032Z"
   },
   {
    "duration": 22,
    "start_time": "2024-07-05T17:01:02.087Z"
   },
   {
    "duration": 26,
    "start_time": "2024-07-05T17:01:02.111Z"
   },
   {
    "duration": 30,
    "start_time": "2024-07-05T17:01:02.138Z"
   },
   {
    "duration": 8,
    "start_time": "2024-07-05T17:01:02.169Z"
   },
   {
    "duration": 24,
    "start_time": "2024-07-05T17:01:02.178Z"
   },
   {
    "duration": 5,
    "start_time": "2024-07-05T17:01:02.203Z"
   },
   {
    "duration": 156,
    "start_time": "2024-07-05T17:01:02.209Z"
   },
   {
    "duration": 122,
    "start_time": "2024-07-05T17:01:02.371Z"
   },
   {
    "duration": 150,
    "start_time": "2024-07-05T17:01:02.495Z"
   },
   {
    "duration": 165,
    "start_time": "2024-07-05T17:01:02.647Z"
   },
   {
    "duration": 165,
    "start_time": "2024-07-05T17:01:02.813Z"
   },
   {
    "duration": 3,
    "start_time": "2024-07-05T17:01:02.979Z"
   },
   {
    "duration": 32,
    "start_time": "2024-07-05T17:01:02.984Z"
   },
   {
    "duration": 15,
    "start_time": "2024-07-05T17:01:03.018Z"
   },
   {
    "duration": 14,
    "start_time": "2024-07-05T17:01:03.035Z"
   },
   {
    "duration": 15,
    "start_time": "2024-07-05T17:01:03.070Z"
   },
   {
    "duration": 206,
    "start_time": "2024-07-05T17:01:03.087Z"
   },
   {
    "duration": 201,
    "start_time": "2024-07-05T17:01:03.295Z"
   },
   {
    "duration": 86,
    "start_time": "2024-07-05T17:01:03.497Z"
   },
   {
    "duration": 21,
    "start_time": "2024-07-05T17:01:03.584Z"
   },
   {
    "duration": 193,
    "start_time": "2024-07-05T17:01:03.607Z"
   },
   {
    "duration": 12175,
    "start_time": "2024-07-05T17:01:03.801Z"
   },
   {
    "duration": 5,
    "start_time": "2024-07-05T17:01:15.978Z"
   },
   {
    "duration": 9,
    "start_time": "2024-07-05T17:01:15.985Z"
   },
   {
    "duration": 10,
    "start_time": "2024-07-05T17:01:15.996Z"
   },
   {
    "duration": 3,
    "start_time": "2024-07-05T17:01:16.007Z"
   },
   {
    "duration": 9,
    "start_time": "2024-07-05T17:01:16.012Z"
   },
   {
    "duration": 4,
    "start_time": "2024-07-05T17:01:16.022Z"
   },
   {
    "duration": 2315,
    "start_time": "2024-07-05T17:01:16.028Z"
   },
   {
    "duration": 76,
    "start_time": "2024-07-05T17:01:18.344Z"
   },
   {
    "duration": 5,
    "start_time": "2024-07-05T17:01:18.422Z"
   }
  ],
  "kernelspec": {
   "display_name": "Python 3 (ipykernel)",
   "language": "python",
   "name": "python3"
  },
  "language_info": {
   "codemirror_mode": {
    "name": "ipython",
    "version": 3
   },
   "file_extension": ".py",
   "mimetype": "text/x-python",
   "name": "python",
   "nbconvert_exporter": "python",
   "pygments_lexer": "ipython3",
   "version": "3.11.4"
  },
  "toc": {
   "base_numbering": 1,
   "nav_menu": {},
   "number_sections": true,
   "sideBar": true,
   "skip_h1_title": true,
   "title_cell": "Table of Contents",
   "title_sidebar": "Contents",
   "toc_cell": false,
   "toc_position": {},
   "toc_section_display": true,
   "toc_window_display": false
  }
 },
 "nbformat": 4,
 "nbformat_minor": 5
}
