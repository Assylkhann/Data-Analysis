{
 "cells": [
  {
   "cell_type": "markdown",
   "id": "386f2ae7",
   "metadata": {
    "deletable": false,
    "editable": false,
    "id": "386f2ae7"
   },
   "source": [
    "# Исследование надежности заемщиков\n"
   ]
  },
  {
   "cell_type": "markdown",
   "id": "8524aeaf",
   "metadata": {},
   "source": [
    "**Цель исследования:** Нужно разобраться, влияет ли семейное положение и количество детей клиента на факт погашения кредита в срок.\n"
   ]
  },
  {
   "cell_type": "markdown",
   "id": "ffe86f65",
   "metadata": {
    "deletable": false,
    "editable": false,
    "id": "ffe86f65"
   },
   "source": [
    "Во второй части проекта вы выполните шаги 3 и 4. Их вручную проверит ревьюер.\n",
    "Чтобы вам не пришлось писать код заново для шагов 1 и 2, мы добавили авторские решения в ячейки с кодом. \n",
    "\n"
   ]
  },
  {
   "cell_type": "markdown",
   "id": "26613308",
   "metadata": {
    "deletable": false,
    "editable": false,
    "id": "26613308"
   },
   "source": [
    "## Откройте таблицу и изучите общую информацию о данных"
   ]
  },
  {
   "cell_type": "markdown",
   "id": "3c9f838e",
   "metadata": {
    "deletable": false,
    "editable": false,
    "id": "3c9f838e"
   },
   "source": [
    "**Задание 1. Импортируйте библиотеку pandas. Считайте данные из csv-файла в датафрейм и сохраните в переменную `data`. Путь к файлу:**\n",
    "\n",
    "`/datasets/data.csv`"
   ]
  },
  {
   "cell_type": "code",
   "execution_count": 1,
   "id": "77a68a90",
   "metadata": {
    "deletable": false,
    "id": "77a68a90"
   },
   "outputs": [],
   "source": [
    "#Импортирование библеотеки и чтение файла с данными\n",
    "import pandas as pd\n",
    "\n",
    "try:\n",
    "    data = pd.read_csv('/datasets/data.csv')\n",
    "except:\n",
    "    data = pd.read_csv('https://code.s3.yandex.net/datasets/data.csv')"
   ]
  },
  {
   "cell_type": "markdown",
   "id": "45365635",
   "metadata": {
    "deletable": false,
    "editable": false,
    "id": "45365635"
   },
   "source": [
    "**Задание 2. Выведите первые 20 строчек датафрейма `data` на экран.**"
   ]
  },
  {
   "cell_type": "code",
   "execution_count": 2,
   "id": "b0451a9a",
   "metadata": {
    "deletable": false,
    "id": "b0451a9a",
    "outputId": "1a8f3ef2-d323-4ec2-ddf7-89670b5944c4"
   },
   "outputs": [
    {
     "data": {
      "text/html": [
       "<div>\n",
       "<style scoped>\n",
       "    .dataframe tbody tr th:only-of-type {\n",
       "        vertical-align: middle;\n",
       "    }\n",
       "\n",
       "    .dataframe tbody tr th {\n",
       "        vertical-align: top;\n",
       "    }\n",
       "\n",
       "    .dataframe thead th {\n",
       "        text-align: right;\n",
       "    }\n",
       "</style>\n",
       "<table border=\"1\" class=\"dataframe\">\n",
       "  <thead>\n",
       "    <tr style=\"text-align: right;\">\n",
       "      <th></th>\n",
       "      <th>children</th>\n",
       "      <th>days_employed</th>\n",
       "      <th>dob_years</th>\n",
       "      <th>education</th>\n",
       "      <th>education_id</th>\n",
       "      <th>family_status</th>\n",
       "      <th>family_status_id</th>\n",
       "      <th>gender</th>\n",
       "      <th>income_type</th>\n",
       "      <th>debt</th>\n",
       "      <th>total_income</th>\n",
       "      <th>purpose</th>\n",
       "    </tr>\n",
       "  </thead>\n",
       "  <tbody>\n",
       "    <tr>\n",
       "      <th>0</th>\n",
       "      <td>1</td>\n",
       "      <td>-8437.673028</td>\n",
       "      <td>42</td>\n",
       "      <td>высшее</td>\n",
       "      <td>0</td>\n",
       "      <td>женат / замужем</td>\n",
       "      <td>0</td>\n",
       "      <td>F</td>\n",
       "      <td>сотрудник</td>\n",
       "      <td>0</td>\n",
       "      <td>253875.639453</td>\n",
       "      <td>покупка жилья</td>\n",
       "    </tr>\n",
       "    <tr>\n",
       "      <th>1</th>\n",
       "      <td>1</td>\n",
       "      <td>-4024.803754</td>\n",
       "      <td>36</td>\n",
       "      <td>среднее</td>\n",
       "      <td>1</td>\n",
       "      <td>женат / замужем</td>\n",
       "      <td>0</td>\n",
       "      <td>F</td>\n",
       "      <td>сотрудник</td>\n",
       "      <td>0</td>\n",
       "      <td>112080.014102</td>\n",
       "      <td>приобретение автомобиля</td>\n",
       "    </tr>\n",
       "    <tr>\n",
       "      <th>2</th>\n",
       "      <td>0</td>\n",
       "      <td>-5623.422610</td>\n",
       "      <td>33</td>\n",
       "      <td>Среднее</td>\n",
       "      <td>1</td>\n",
       "      <td>женат / замужем</td>\n",
       "      <td>0</td>\n",
       "      <td>M</td>\n",
       "      <td>сотрудник</td>\n",
       "      <td>0</td>\n",
       "      <td>145885.952297</td>\n",
       "      <td>покупка жилья</td>\n",
       "    </tr>\n",
       "    <tr>\n",
       "      <th>3</th>\n",
       "      <td>3</td>\n",
       "      <td>-4124.747207</td>\n",
       "      <td>32</td>\n",
       "      <td>среднее</td>\n",
       "      <td>1</td>\n",
       "      <td>женат / замужем</td>\n",
       "      <td>0</td>\n",
       "      <td>M</td>\n",
       "      <td>сотрудник</td>\n",
       "      <td>0</td>\n",
       "      <td>267628.550329</td>\n",
       "      <td>дополнительное образование</td>\n",
       "    </tr>\n",
       "    <tr>\n",
       "      <th>4</th>\n",
       "      <td>0</td>\n",
       "      <td>340266.072047</td>\n",
       "      <td>53</td>\n",
       "      <td>среднее</td>\n",
       "      <td>1</td>\n",
       "      <td>гражданский брак</td>\n",
       "      <td>1</td>\n",
       "      <td>F</td>\n",
       "      <td>пенсионер</td>\n",
       "      <td>0</td>\n",
       "      <td>158616.077870</td>\n",
       "      <td>сыграть свадьбу</td>\n",
       "    </tr>\n",
       "    <tr>\n",
       "      <th>5</th>\n",
       "      <td>0</td>\n",
       "      <td>-926.185831</td>\n",
       "      <td>27</td>\n",
       "      <td>высшее</td>\n",
       "      <td>0</td>\n",
       "      <td>гражданский брак</td>\n",
       "      <td>1</td>\n",
       "      <td>M</td>\n",
       "      <td>компаньон</td>\n",
       "      <td>0</td>\n",
       "      <td>255763.565419</td>\n",
       "      <td>покупка жилья</td>\n",
       "    </tr>\n",
       "    <tr>\n",
       "      <th>6</th>\n",
       "      <td>0</td>\n",
       "      <td>-2879.202052</td>\n",
       "      <td>43</td>\n",
       "      <td>высшее</td>\n",
       "      <td>0</td>\n",
       "      <td>женат / замужем</td>\n",
       "      <td>0</td>\n",
       "      <td>F</td>\n",
       "      <td>компаньон</td>\n",
       "      <td>0</td>\n",
       "      <td>240525.971920</td>\n",
       "      <td>операции с жильем</td>\n",
       "    </tr>\n",
       "    <tr>\n",
       "      <th>7</th>\n",
       "      <td>0</td>\n",
       "      <td>-152.779569</td>\n",
       "      <td>50</td>\n",
       "      <td>СРЕДНЕЕ</td>\n",
       "      <td>1</td>\n",
       "      <td>женат / замужем</td>\n",
       "      <td>0</td>\n",
       "      <td>M</td>\n",
       "      <td>сотрудник</td>\n",
       "      <td>0</td>\n",
       "      <td>135823.934197</td>\n",
       "      <td>образование</td>\n",
       "    </tr>\n",
       "    <tr>\n",
       "      <th>8</th>\n",
       "      <td>2</td>\n",
       "      <td>-6929.865299</td>\n",
       "      <td>35</td>\n",
       "      <td>ВЫСШЕЕ</td>\n",
       "      <td>0</td>\n",
       "      <td>гражданский брак</td>\n",
       "      <td>1</td>\n",
       "      <td>F</td>\n",
       "      <td>сотрудник</td>\n",
       "      <td>0</td>\n",
       "      <td>95856.832424</td>\n",
       "      <td>на проведение свадьбы</td>\n",
       "    </tr>\n",
       "    <tr>\n",
       "      <th>9</th>\n",
       "      <td>0</td>\n",
       "      <td>-2188.756445</td>\n",
       "      <td>41</td>\n",
       "      <td>среднее</td>\n",
       "      <td>1</td>\n",
       "      <td>женат / замужем</td>\n",
       "      <td>0</td>\n",
       "      <td>M</td>\n",
       "      <td>сотрудник</td>\n",
       "      <td>0</td>\n",
       "      <td>144425.938277</td>\n",
       "      <td>покупка жилья для семьи</td>\n",
       "    </tr>\n",
       "    <tr>\n",
       "      <th>10</th>\n",
       "      <td>2</td>\n",
       "      <td>-4171.483647</td>\n",
       "      <td>36</td>\n",
       "      <td>высшее</td>\n",
       "      <td>0</td>\n",
       "      <td>женат / замужем</td>\n",
       "      <td>0</td>\n",
       "      <td>M</td>\n",
       "      <td>компаньон</td>\n",
       "      <td>0</td>\n",
       "      <td>113943.491460</td>\n",
       "      <td>покупка недвижимости</td>\n",
       "    </tr>\n",
       "    <tr>\n",
       "      <th>11</th>\n",
       "      <td>0</td>\n",
       "      <td>-792.701887</td>\n",
       "      <td>40</td>\n",
       "      <td>среднее</td>\n",
       "      <td>1</td>\n",
       "      <td>женат / замужем</td>\n",
       "      <td>0</td>\n",
       "      <td>F</td>\n",
       "      <td>сотрудник</td>\n",
       "      <td>0</td>\n",
       "      <td>77069.234271</td>\n",
       "      <td>покупка коммерческой недвижимости</td>\n",
       "    </tr>\n",
       "    <tr>\n",
       "      <th>12</th>\n",
       "      <td>0</td>\n",
       "      <td>NaN</td>\n",
       "      <td>65</td>\n",
       "      <td>среднее</td>\n",
       "      <td>1</td>\n",
       "      <td>гражданский брак</td>\n",
       "      <td>1</td>\n",
       "      <td>M</td>\n",
       "      <td>пенсионер</td>\n",
       "      <td>0</td>\n",
       "      <td>NaN</td>\n",
       "      <td>сыграть свадьбу</td>\n",
       "    </tr>\n",
       "    <tr>\n",
       "      <th>13</th>\n",
       "      <td>0</td>\n",
       "      <td>-1846.641941</td>\n",
       "      <td>54</td>\n",
       "      <td>неоконченное высшее</td>\n",
       "      <td>2</td>\n",
       "      <td>женат / замужем</td>\n",
       "      <td>0</td>\n",
       "      <td>F</td>\n",
       "      <td>сотрудник</td>\n",
       "      <td>0</td>\n",
       "      <td>130458.228857</td>\n",
       "      <td>приобретение автомобиля</td>\n",
       "    </tr>\n",
       "    <tr>\n",
       "      <th>14</th>\n",
       "      <td>0</td>\n",
       "      <td>-1844.956182</td>\n",
       "      <td>56</td>\n",
       "      <td>высшее</td>\n",
       "      <td>0</td>\n",
       "      <td>гражданский брак</td>\n",
       "      <td>1</td>\n",
       "      <td>F</td>\n",
       "      <td>компаньон</td>\n",
       "      <td>1</td>\n",
       "      <td>165127.911772</td>\n",
       "      <td>покупка жилой недвижимости</td>\n",
       "    </tr>\n",
       "    <tr>\n",
       "      <th>15</th>\n",
       "      <td>1</td>\n",
       "      <td>-972.364419</td>\n",
       "      <td>26</td>\n",
       "      <td>среднее</td>\n",
       "      <td>1</td>\n",
       "      <td>женат / замужем</td>\n",
       "      <td>0</td>\n",
       "      <td>F</td>\n",
       "      <td>сотрудник</td>\n",
       "      <td>0</td>\n",
       "      <td>116820.904450</td>\n",
       "      <td>строительство собственной недвижимости</td>\n",
       "    </tr>\n",
       "    <tr>\n",
       "      <th>16</th>\n",
       "      <td>0</td>\n",
       "      <td>-1719.934226</td>\n",
       "      <td>35</td>\n",
       "      <td>среднее</td>\n",
       "      <td>1</td>\n",
       "      <td>женат / замужем</td>\n",
       "      <td>0</td>\n",
       "      <td>F</td>\n",
       "      <td>сотрудник</td>\n",
       "      <td>0</td>\n",
       "      <td>289202.704229</td>\n",
       "      <td>недвижимость</td>\n",
       "    </tr>\n",
       "    <tr>\n",
       "      <th>17</th>\n",
       "      <td>0</td>\n",
       "      <td>-2369.999720</td>\n",
       "      <td>33</td>\n",
       "      <td>высшее</td>\n",
       "      <td>0</td>\n",
       "      <td>гражданский брак</td>\n",
       "      <td>1</td>\n",
       "      <td>M</td>\n",
       "      <td>сотрудник</td>\n",
       "      <td>0</td>\n",
       "      <td>90410.586745</td>\n",
       "      <td>строительство недвижимости</td>\n",
       "    </tr>\n",
       "    <tr>\n",
       "      <th>18</th>\n",
       "      <td>0</td>\n",
       "      <td>400281.136913</td>\n",
       "      <td>53</td>\n",
       "      <td>среднее</td>\n",
       "      <td>1</td>\n",
       "      <td>вдовец / вдова</td>\n",
       "      <td>2</td>\n",
       "      <td>F</td>\n",
       "      <td>пенсионер</td>\n",
       "      <td>0</td>\n",
       "      <td>56823.777243</td>\n",
       "      <td>на покупку подержанного автомобиля</td>\n",
       "    </tr>\n",
       "    <tr>\n",
       "      <th>19</th>\n",
       "      <td>0</td>\n",
       "      <td>-10038.818549</td>\n",
       "      <td>48</td>\n",
       "      <td>СРЕДНЕЕ</td>\n",
       "      <td>1</td>\n",
       "      <td>в разводе</td>\n",
       "      <td>3</td>\n",
       "      <td>F</td>\n",
       "      <td>сотрудник</td>\n",
       "      <td>0</td>\n",
       "      <td>242831.107982</td>\n",
       "      <td>на покупку своего автомобиля</td>\n",
       "    </tr>\n",
       "  </tbody>\n",
       "</table>\n",
       "</div>"
      ],
      "text/plain": [
       "    children  days_employed  dob_years            education  education_id  \\\n",
       "0          1   -8437.673028         42               высшее             0   \n",
       "1          1   -4024.803754         36              среднее             1   \n",
       "2          0   -5623.422610         33              Среднее             1   \n",
       "3          3   -4124.747207         32              среднее             1   \n",
       "4          0  340266.072047         53              среднее             1   \n",
       "5          0    -926.185831         27               высшее             0   \n",
       "6          0   -2879.202052         43               высшее             0   \n",
       "7          0    -152.779569         50              СРЕДНЕЕ             1   \n",
       "8          2   -6929.865299         35               ВЫСШЕЕ             0   \n",
       "9          0   -2188.756445         41              среднее             1   \n",
       "10         2   -4171.483647         36               высшее             0   \n",
       "11         0    -792.701887         40              среднее             1   \n",
       "12         0            NaN         65              среднее             1   \n",
       "13         0   -1846.641941         54  неоконченное высшее             2   \n",
       "14         0   -1844.956182         56               высшее             0   \n",
       "15         1    -972.364419         26              среднее             1   \n",
       "16         0   -1719.934226         35              среднее             1   \n",
       "17         0   -2369.999720         33               высшее             0   \n",
       "18         0  400281.136913         53              среднее             1   \n",
       "19         0  -10038.818549         48              СРЕДНЕЕ             1   \n",
       "\n",
       "       family_status  family_status_id gender income_type  debt  \\\n",
       "0    женат / замужем                 0      F   сотрудник     0   \n",
       "1    женат / замужем                 0      F   сотрудник     0   \n",
       "2    женат / замужем                 0      M   сотрудник     0   \n",
       "3    женат / замужем                 0      M   сотрудник     0   \n",
       "4   гражданский брак                 1      F   пенсионер     0   \n",
       "5   гражданский брак                 1      M   компаньон     0   \n",
       "6    женат / замужем                 0      F   компаньон     0   \n",
       "7    женат / замужем                 0      M   сотрудник     0   \n",
       "8   гражданский брак                 1      F   сотрудник     0   \n",
       "9    женат / замужем                 0      M   сотрудник     0   \n",
       "10   женат / замужем                 0      M   компаньон     0   \n",
       "11   женат / замужем                 0      F   сотрудник     0   \n",
       "12  гражданский брак                 1      M   пенсионер     0   \n",
       "13   женат / замужем                 0      F   сотрудник     0   \n",
       "14  гражданский брак                 1      F   компаньон     1   \n",
       "15   женат / замужем                 0      F   сотрудник     0   \n",
       "16   женат / замужем                 0      F   сотрудник     0   \n",
       "17  гражданский брак                 1      M   сотрудник     0   \n",
       "18    вдовец / вдова                 2      F   пенсионер     0   \n",
       "19         в разводе                 3      F   сотрудник     0   \n",
       "\n",
       "     total_income                                 purpose  \n",
       "0   253875.639453                           покупка жилья  \n",
       "1   112080.014102                 приобретение автомобиля  \n",
       "2   145885.952297                           покупка жилья  \n",
       "3   267628.550329              дополнительное образование  \n",
       "4   158616.077870                         сыграть свадьбу  \n",
       "5   255763.565419                           покупка жилья  \n",
       "6   240525.971920                       операции с жильем  \n",
       "7   135823.934197                             образование  \n",
       "8    95856.832424                   на проведение свадьбы  \n",
       "9   144425.938277                 покупка жилья для семьи  \n",
       "10  113943.491460                    покупка недвижимости  \n",
       "11   77069.234271       покупка коммерческой недвижимости  \n",
       "12            NaN                         сыграть свадьбу  \n",
       "13  130458.228857                 приобретение автомобиля  \n",
       "14  165127.911772              покупка жилой недвижимости  \n",
       "15  116820.904450  строительство собственной недвижимости  \n",
       "16  289202.704229                            недвижимость  \n",
       "17   90410.586745              строительство недвижимости  \n",
       "18   56823.777243      на покупку подержанного автомобиля  \n",
       "19  242831.107982            на покупку своего автомобиля  "
      ]
     },
     "execution_count": 2,
     "metadata": {},
     "output_type": "execute_result"
    }
   ],
   "source": [
    "# получение первых 20 строк таблицы head\n",
    "data.head(20)"
   ]
  },
  {
   "cell_type": "markdown",
   "id": "0ed8f27f",
   "metadata": {
    "deletable": false,
    "editable": false,
    "id": "0ed8f27f"
   },
   "source": [
    "**Задание 3. Выведите основную информацию о датафрейме с помощью метода `info()`.**"
   ]
  },
  {
   "cell_type": "code",
   "execution_count": 3,
   "id": "ab3f863b",
   "metadata": {
    "deletable": false,
    "id": "ab3f863b",
    "outputId": "15376089-8dad-46c9-b520-c05248d43158"
   },
   "outputs": [
    {
     "name": "stdout",
     "output_type": "stream",
     "text": [
      "<class 'pandas.core.frame.DataFrame'>\n",
      "RangeIndex: 21525 entries, 0 to 21524\n",
      "Data columns (total 12 columns):\n",
      " #   Column            Non-Null Count  Dtype  \n",
      "---  ------            --------------  -----  \n",
      " 0   children          21525 non-null  int64  \n",
      " 1   days_employed     19351 non-null  float64\n",
      " 2   dob_years         21525 non-null  int64  \n",
      " 3   education         21525 non-null  object \n",
      " 4   education_id      21525 non-null  int64  \n",
      " 5   family_status     21525 non-null  object \n",
      " 6   family_status_id  21525 non-null  int64  \n",
      " 7   gender            21525 non-null  object \n",
      " 8   income_type       21525 non-null  object \n",
      " 9   debt              21525 non-null  int64  \n",
      " 10  total_income      19351 non-null  float64\n",
      " 11  purpose           21525 non-null  object \n",
      "dtypes: float64(2), int64(5), object(5)\n",
      "memory usage: 2.0+ MB\n"
     ]
    }
   ],
   "source": [
    "# получение общей информации о данных в таблице data\n",
    "data.info()"
   ]
  },
  {
   "cell_type": "markdown",
   "id": "fa9bd466",
   "metadata": {},
   "source": [
    "**Вывод:**\n",
    "\n",
    "В каждой строке таблицы — данные клиенте банка. Часть колонок описывает клиента: дети, общий трудовой стаж, возвраст клиента, уровень образования,семейное положение, пол клиента, тип занятости, ежемесячных доход. Часть данных помогают для классификации данных:идентификатор уровня образования,идентификатор семейного положения. Последняя часть данных рассказывают о кредите клиента:имел ли задолженность по возврату кредитов,цель получения кредита.\n",
    "\n",
    "Предварительно можно утверждать, что данных достаточно для проверки цели исследования. Но встречаются пропуски в данных, также несоотвествие типов данных и нехватки категоризации данных.\n",
    "\n",
    "Чтобы двигаться дальше, нужно устранить проблемы в данных."
   ]
  },
  {
   "cell_type": "markdown",
   "id": "60e3e22d",
   "metadata": {
    "deletable": false,
    "editable": false,
    "id": "60e3e22d"
   },
   "source": [
    "## Предобработка данных"
   ]
  },
  {
   "cell_type": "markdown",
   "id": "03dc170c",
   "metadata": {
    "deletable": false,
    "editable": false,
    "id": "03dc170c"
   },
   "source": [
    "### Удаление пропусков"
   ]
  },
  {
   "cell_type": "markdown",
   "id": "a4f54eef",
   "metadata": {
    "deletable": false,
    "editable": false,
    "id": "a4f54eef"
   },
   "source": [
    "**Задание 4. Выведите количество пропущенных значений для каждого столбца. Используйте комбинацию двух методов.**"
   ]
  },
  {
   "cell_type": "code",
   "execution_count": 4,
   "id": "2dc372b2",
   "metadata": {
    "deletable": false,
    "id": "2dc372b2",
    "outputId": "81f4d817-781c-465c-ed15-91ce4446810d"
   },
   "outputs": [
    {
     "data": {
      "text/plain": [
       "children               0\n",
       "days_employed       2174\n",
       "dob_years              0\n",
       "education              0\n",
       "education_id           0\n",
       "family_status          0\n",
       "family_status_id       0\n",
       "gender                 0\n",
       "income_type            0\n",
       "debt                   0\n",
       "total_income        2174\n",
       "purpose                0\n",
       "dtype: int64"
      ]
     },
     "execution_count": 4,
     "metadata": {},
     "output_type": "execute_result"
    }
   ],
   "source": [
    "# подсчёт пропусков\n",
    "data.isna().sum()"
   ]
  },
  {
   "cell_type": "markdown",
   "id": "14f011b1",
   "metadata": {
    "deletable": false,
    "editable": false,
    "id": "14f011b1"
   },
   "source": [
    "**Задание 5. В двух столбцах есть пропущенные значения. Один из них — `days_employed`. Пропуски в этом столбце вы обработаете на следующем этапе. Другой столбец с пропущенными значениями — `total_income` — хранит данные о доходах. На сумму дохода сильнее всего влияет тип занятости, поэтому заполнить пропуски в этом столбце нужно медианным значением по каждому типу из столбца `income_type`. Например, у человека с типом занятости `сотрудник` пропуск в столбце `total_income` должен быть заполнен медианным доходом среди всех записей с тем же типом.**"
   ]
  },
  {
   "cell_type": "code",
   "execution_count": 5,
   "id": "bdabfb6e",
   "metadata": {
    "deletable": false,
    "id": "bdabfb6e"
   },
   "outputs": [],
   "source": [
    "# заполнение пропусков медианными значениям в столбце total_income\n",
    "for t in data['income_type'].unique():\n",
    "    data.loc[(data['income_type'] == t) & (data['total_income'].isna()), 'total_income'] = \\\n",
    "    data.loc[(data['income_type'] == t), 'total_income'].median()"
   ]
  },
  {
   "cell_type": "markdown",
   "id": "5be34059",
   "metadata": {
    "deletable": false,
    "editable": false,
    "id": "5be34059"
   },
   "source": [
    "### Обработка аномальных значений"
   ]
  },
  {
   "cell_type": "markdown",
   "id": "a87606cb",
   "metadata": {
    "deletable": false,
    "editable": false,
    "id": "a87606cb"
   },
   "source": [
    "**Задание 6. В данных могут встречаться артефакты (аномалии) — значения, которые не отражают действительность и появились по какой-то ошибке. таким артефактом будет отрицательное количество дней трудового стажа в столбце `days_employed`. Для реальных данных это нормально. Обработайте значения в этом столбце: замените все отрицательные значения положительными с помощью метода `abs()`.**"
   ]
  },
  {
   "cell_type": "code",
   "execution_count": 6,
   "id": "020c46cc",
   "metadata": {
    "deletable": false,
    "id": "020c46cc"
   },
   "outputs": [],
   "source": [
    "# Замена отрицательных данных на положительные в столбце days_employed\n",
    "data['days_employed'] = data['days_employed'].abs()"
   ]
  },
  {
   "cell_type": "markdown",
   "id": "45538a3a",
   "metadata": {
    "deletable": false,
    "editable": false,
    "id": "45538a3a"
   },
   "source": [
    "**Задание 7. Для каждого типа занятости выведите медианное значение трудового стажа `days_employed` в днях.**"
   ]
  },
  {
   "cell_type": "code",
   "execution_count": 7,
   "id": "cd3e6328",
   "metadata": {
    "deletable": false,
    "id": "cd3e6328",
    "outputId": "801ef80e-522b-4668-f34e-565af7432bcf"
   },
   "outputs": [
    {
     "data": {
      "text/plain": [
       "income_type\n",
       "безработный        366413.652744\n",
       "в декрете            3296.759962\n",
       "госслужащий          2689.368353\n",
       "компаньон            1547.382223\n",
       "пенсионер          365213.306266\n",
       "предприниматель       520.848083\n",
       "сотрудник            1574.202821\n",
       "студент               578.751554\n",
       "Name: days_employed, dtype: float64"
      ]
     },
     "execution_count": 7,
     "metadata": {},
     "output_type": "execute_result"
    }
   ],
   "source": [
    "# Медианное значение трудового стажа для каждого типа занятости\n",
    "data.groupby('income_type')['days_employed'].agg('median')"
   ]
  },
  {
   "cell_type": "markdown",
   "id": "90c5f058",
   "metadata": {
    "deletable": false,
    "editable": false,
    "id": "90c5f058"
   },
   "source": [
    "У двух типов (безработные и пенсионеры) получатся аномально большие значения. Исправить такие значения сложно, поэтому оставьте их как есть."
   ]
  },
  {
   "cell_type": "markdown",
   "id": "9652e50d",
   "metadata": {
    "deletable": false,
    "editable": false,
    "id": "9652e50d"
   },
   "source": [
    "**Задание 8. Выведите перечень уникальных значений столбца `children`.**"
   ]
  },
  {
   "cell_type": "code",
   "execution_count": 8,
   "id": "dbb37b8e",
   "metadata": {
    "deletable": false,
    "id": "dbb37b8e",
    "outputId": "6975b15c-7f95-4697-d16d-a0c79b657b03"
   },
   "outputs": [
    {
     "data": {
      "text/plain": [
       "array([ 1,  0,  3,  2, -1,  4, 20,  5])"
      ]
     },
     "execution_count": 8,
     "metadata": {},
     "output_type": "execute_result"
    }
   ],
   "source": [
    "# просмотр уникальных значений столбца children\n",
    "data['children'].unique()"
   ]
  },
  {
   "cell_type": "markdown",
   "id": "2b8b0715",
   "metadata": {
    "deletable": false,
    "editable": false,
    "id": "2b8b0715"
   },
   "source": [
    "**Задание 9. В столбце `children` есть два аномальных значения. Удалите строки, в которых встречаются такие аномальные значения из датафрейма `data`.**"
   ]
  },
  {
   "cell_type": "code",
   "execution_count": 9,
   "id": "20009df8",
   "metadata": {
    "deletable": false,
    "id": "20009df8"
   },
   "outputs": [],
   "source": [
    "# Удаление аномальных значений в стоблце children\n",
    "data = data[(data['children'] != -1) & (data['children'] != 20)]"
   ]
  },
  {
   "cell_type": "markdown",
   "id": "8c6ac9f1",
   "metadata": {
    "deletable": false,
    "editable": false,
    "id": "8c6ac9f1"
   },
   "source": [
    "**Задание 10. Ещё раз выведите перечень уникальных значений столбца `children`, чтобы убедиться, что артефакты удалены.**"
   ]
  },
  {
   "cell_type": "code",
   "execution_count": 10,
   "id": "07337b81",
   "metadata": {
    "deletable": false,
    "id": "07337b81",
    "outputId": "b2097101-d49d-44d9-901b-32a65c9463d1"
   },
   "outputs": [
    {
     "data": {
      "text/plain": [
       "array([1, 0, 3, 2, 4, 5])"
      ]
     },
     "execution_count": 10,
     "metadata": {},
     "output_type": "execute_result"
    }
   ],
   "source": [
    "# проверка на отсутствие аномальных значений\n",
    "data['children'].unique()"
   ]
  },
  {
   "cell_type": "markdown",
   "id": "ee3f52d4",
   "metadata": {
    "deletable": false,
    "editable": false,
    "id": "ee3f52d4"
   },
   "source": [
    "### Удаление пропусков (продолжение)"
   ]
  },
  {
   "cell_type": "markdown",
   "id": "a700b0e4",
   "metadata": {
    "deletable": false,
    "editable": false,
    "id": "a700b0e4"
   },
   "source": [
    "**Задание 11. Заполните пропуски в столбце `days_employed` медианными значениями по каждого типа занятости `income_type`.**"
   ]
  },
  {
   "cell_type": "code",
   "execution_count": 11,
   "id": "61946b83",
   "metadata": {
    "deletable": false,
    "id": "61946b83"
   },
   "outputs": [],
   "source": [
    "# заполнение пропусков медианными значениям в столбце days_employed\n",
    "for t in data['income_type'].unique():\n",
    "    data.loc[(data['income_type'] == t) & (data['days_employed'].isna()), 'days_employed'] = \\\n",
    "    data.loc[(data['income_type'] == t), 'days_employed'].median()"
   ]
  },
  {
   "cell_type": "markdown",
   "id": "550dcd9b",
   "metadata": {
    "deletable": false,
    "editable": false,
    "id": "550dcd9b"
   },
   "source": [
    "**Задание 12. Убедитесь, что все пропуски заполнены. Проверьте себя и ещё раз выведите количество пропущенных значений для каждого столбца с помощью двух методов.**"
   ]
  },
  {
   "cell_type": "code",
   "execution_count": 12,
   "id": "937c7014",
   "metadata": {
    "deletable": false,
    "id": "937c7014",
    "outputId": "8da1e4e1-358e-4e87-98c9-f261bce0a7b2"
   },
   "outputs": [
    {
     "data": {
      "text/plain": [
       "children            0\n",
       "days_employed       0\n",
       "dob_years           0\n",
       "education           0\n",
       "education_id        0\n",
       "family_status       0\n",
       "family_status_id    0\n",
       "gender              0\n",
       "income_type         0\n",
       "debt                0\n",
       "total_income        0\n",
       "purpose             0\n",
       "dtype: int64"
      ]
     },
     "execution_count": 12,
     "metadata": {},
     "output_type": "execute_result"
    }
   ],
   "source": [
    "# проверка на отсутствие пропусков\n",
    "data.isna().sum()"
   ]
  },
  {
   "cell_type": "markdown",
   "id": "d522e295",
   "metadata": {
    "deletable": false,
    "editable": false,
    "id": "d522e295"
   },
   "source": [
    "### Изменение типов данных"
   ]
  },
  {
   "cell_type": "markdown",
   "id": "c229c581",
   "metadata": {
    "deletable": false,
    "editable": false,
    "id": "c229c581"
   },
   "source": [
    "**Задание 13. Замените вещественный тип данных в столбце `total_income` на целочисленный с помощью метода `astype()`.**"
   ]
  },
  {
   "cell_type": "code",
   "execution_count": 13,
   "id": "31036462",
   "metadata": {
    "deletable": false,
    "id": "31036462"
   },
   "outputs": [],
   "source": [
    "# Изменение типа данных в столбце total_income\n",
    "data['total_income'] = data['total_income'].astype(int)"
   ]
  },
  {
   "cell_type": "markdown",
   "id": "b8e3d1d9",
   "metadata": {
    "deletable": false,
    "editable": false,
    "id": "b8e3d1d9"
   },
   "source": [
    "### Обработка дубликатов"
   ]
  },
  {
   "cell_type": "markdown",
   "id": "9be53c49",
   "metadata": {
    "deletable": false,
    "editable": false,
    "id": "9be53c49"
   },
   "source": [
    "**Задание 14. Обработайте неявные дубликаты в столбце `education`. В этом столбце есть одни и те же значения, но записанные по-разному: с использованием заглавных и строчных букв. Приведите их к нижнему регистру.**"
   ]
  },
  {
   "cell_type": "code",
   "execution_count": 14,
   "id": "d89e73e1",
   "metadata": {
    "deletable": false,
    "id": "d89e73e1"
   },
   "outputs": [],
   "source": [
    "# обработка неявных дубликатов, приведение данных в нижний регистр в стоблце education\n",
    "data['education'] = data['education'].str.lower()"
   ]
  },
  {
   "cell_type": "markdown",
   "id": "01d4500e",
   "metadata": {
    "deletable": false,
    "editable": false,
    "id": "01d4500e"
   },
   "source": [
    "**Задание 15. Выведите на экран количество строк-дубликатов в данных. Если такие строки присутствуют, удалите их.**"
   ]
  },
  {
   "cell_type": "code",
   "execution_count": 15,
   "id": "e10efb23",
   "metadata": {
    "deletable": false,
    "id": "e10efb23",
    "outputId": "9684deba-1934-42d1-99e1-cda61740f822"
   },
   "outputs": [
    {
     "data": {
      "text/plain": [
       "71"
      ]
     },
     "execution_count": 15,
     "metadata": {},
     "output_type": "execute_result"
    }
   ],
   "source": [
    "# подсчет дубликатов\n",
    "data.duplicated().sum()"
   ]
  },
  {
   "cell_type": "code",
   "execution_count": 16,
   "id": "df853f20",
   "metadata": {
    "deletable": false,
    "id": "df853f20"
   },
   "outputs": [],
   "source": [
    "# удаление дубликатов\n",
    "data = data.drop_duplicates()"
   ]
  },
  {
   "cell_type": "markdown",
   "id": "627be38f",
   "metadata": {
    "deletable": false,
    "editable": false,
    "id": "627be38f"
   },
   "source": [
    "### Категоризация данных"
   ]
  },
  {
   "cell_type": "markdown",
   "id": "4684c3e0",
   "metadata": {
    "deletable": false,
    "editable": false,
    "id": "4684c3e0"
   },
   "source": [
    "**Задание 16. На основании диапазонов, указанных ниже, создайте в датафрейме `data` столбец `total_income_category` с категориями:**\n",
    "\n",
    "- 0–30000 — `'E'`;\n",
    "- 30001–50000 — `'D'`;\n",
    "- 50001–200000 — `'C'`;\n",
    "- 200001–1000000 — `'B'`;\n",
    "- 1000001 и выше — `'A'`.\n",
    "\n",
    "\n",
    "**Например, кредитополучателю с доходом 25000 нужно назначить категорию `'E'`, а клиенту, получающему 235000, — `'B'`. Используйте собственную функцию с именем `categorize_income()` и метод `apply()`.**"
   ]
  },
  {
   "cell_type": "code",
   "execution_count": 17,
   "id": "78965238",
   "metadata": {
    "deletable": false,
    "id": "78965238"
   },
   "outputs": [],
   "source": [
    "# создание фукнции для категоризации клиентов по доходности\n",
    "def categorize_income(income):\n",
    "    try:\n",
    "        if 0 <= income <= 30000:\n",
    "            return 'E'\n",
    "        elif 30001 <= income <= 50000:\n",
    "            return 'D'\n",
    "        elif 50001 <= income <= 200000:\n",
    "            return 'C'\n",
    "        elif 200001 <= income <= 1000000:\n",
    "            return 'B'\n",
    "        elif income >= 1000001:\n",
    "            return 'A'\n",
    "    except:\n",
    "        pass"
   ]
  },
  {
   "cell_type": "code",
   "execution_count": 18,
   "id": "0980ada1",
   "metadata": {
    "deletable": false,
    "id": "0980ada1"
   },
   "outputs": [],
   "source": [
    "#применение функции к таблице \n",
    "data['total_income_category'] = data['total_income'].apply(categorize_income)"
   ]
  },
  {
   "cell_type": "markdown",
   "id": "9917bba0",
   "metadata": {
    "deletable": false,
    "editable": false,
    "id": "9917bba0"
   },
   "source": [
    "**Задание 17. Выведите на экран перечень уникальных целей взятия кредита из столбца `purpose`.**"
   ]
  },
  {
   "cell_type": "code",
   "execution_count": 19,
   "id": "ee07b65e",
   "metadata": {
    "deletable": false,
    "id": "ee07b65e",
    "outputId": "673c12d9-7d7e-4ae0-9812-c622c89dd244"
   },
   "outputs": [
    {
     "data": {
      "text/plain": [
       "array(['покупка жилья', 'приобретение автомобиля',\n",
       "       'дополнительное образование', 'сыграть свадьбу',\n",
       "       'операции с жильем', 'образование', 'на проведение свадьбы',\n",
       "       'покупка жилья для семьи', 'покупка недвижимости',\n",
       "       'покупка коммерческой недвижимости', 'покупка жилой недвижимости',\n",
       "       'строительство собственной недвижимости', 'недвижимость',\n",
       "       'строительство недвижимости', 'на покупку подержанного автомобиля',\n",
       "       'на покупку своего автомобиля',\n",
       "       'операции с коммерческой недвижимостью',\n",
       "       'строительство жилой недвижимости', 'жилье',\n",
       "       'операции со своей недвижимостью', 'автомобили',\n",
       "       'заняться образованием', 'сделка с подержанным автомобилем',\n",
       "       'получение образования', 'автомобиль', 'свадьба',\n",
       "       'получение дополнительного образования', 'покупка своего жилья',\n",
       "       'операции с недвижимостью', 'получение высшего образования',\n",
       "       'свой автомобиль', 'сделка с автомобилем',\n",
       "       'профильное образование', 'высшее образование',\n",
       "       'покупка жилья для сдачи', 'на покупку автомобиля', 'ремонт жилью',\n",
       "       'заняться высшим образованием'], dtype=object)"
      ]
     },
     "execution_count": 19,
     "metadata": {},
     "output_type": "execute_result"
    }
   ],
   "source": [
    "# вывод уникальных значений в столбце purpose\n",
    "data['purpose'].unique()"
   ]
  },
  {
   "cell_type": "markdown",
   "id": "52b79d56",
   "metadata": {
    "deletable": false,
    "editable": false,
    "id": "52b79d56"
   },
   "source": [
    "**Задание 18. Создайте функцию, которая на основании данных из столбца `purpose` сформирует новый столбец `purpose_category`, в который войдут следующие категории:**\n",
    "\n",
    "- `'операции с автомобилем'`,\n",
    "- `'операции с недвижимостью'`,\n",
    "- `'проведение свадьбы'`,\n",
    "- `'получение образования'`.\n",
    "\n",
    "**Например, если в столбце `purpose` находится подстрока `'на покупку автомобиля'`, то в столбце `purpose_category` должна появиться строка `'операции с автомобилем'`.**\n",
    "\n",
    "**Используйте собственную функцию с именем `categorize_purpose()` и метод `apply()`. Изучите данные в столбце `purpose` и определите, какие подстроки помогут вам правильно определить категорию.**"
   ]
  },
  {
   "cell_type": "code",
   "execution_count": 20,
   "id": "be41da5d",
   "metadata": {
    "deletable": false,
    "id": "be41da5d"
   },
   "outputs": [],
   "source": [
    "# создание функции для категоризация данных по столбцу purpose\n",
    "def categorize_purpose(row):\n",
    "    try:\n",
    "        if 'автом' in row:\n",
    "            return 'операции с автомобилем'\n",
    "        elif 'жил' in row or 'недвиж' in row:\n",
    "            return 'операции с недвижимостью'\n",
    "        elif 'свад' in row:\n",
    "            return 'проведение свадьбы'\n",
    "        elif 'образов' in row:\n",
    "            return 'получение образования'\n",
    "    except:\n",
    "        return 'нет категории'"
   ]
  },
  {
   "cell_type": "code",
   "execution_count": 21,
   "id": "94c4a19a",
   "metadata": {
    "deletable": false,
    "id": "94c4a19a"
   },
   "outputs": [],
   "source": [
    "#применение функции к таблице \n",
    "data['purpose_category'] = data['purpose'].apply(categorize_purpose)"
   ]
  },
  {
   "cell_type": "markdown",
   "id": "3d596c34",
   "metadata": {
    "deletable": false,
    "editable": false,
    "id": "3d596c34"
   },
   "source": [
    "### Шаг 3. Исследуйте данные и ответьте на вопросы"
   ]
  },
  {
   "cell_type": "markdown",
   "id": "648db036",
   "metadata": {
    "deletable": false,
    "editable": false,
    "id": "648db036"
   },
   "source": [
    "#### 3.1 Есть ли зависимость между количеством детей и возвратом кредита в срок?"
   ]
  },
  {
   "cell_type": "code",
   "execution_count": 22,
   "id": "7fcff25e",
   "metadata": {
    "deletable": false,
    "id": "7fcff25e"
   },
   "outputs": [],
   "source": [
    "# создание функции для группировки данных\n",
    "\n",
    "def rate(row,parametr):\n",
    "    data = row.groupby(parametr).agg({'debt':'sum'})\n",
    "    data['count'] = row.groupby(parametr)['debt'].count()\n",
    "    data['rate'] = data['debt'] / data['count'] * 100\n",
    "    return data"
   ]
  },
  {
   "cell_type": "code",
   "execution_count": 24,
   "id": "70652198",
   "metadata": {
    "scrolled": true
   },
   "outputs": [
    {
     "data": {
      "text/html": [
       "<div>\n",
       "<style scoped>\n",
       "    .dataframe tbody tr th:only-of-type {\n",
       "        vertical-align: middle;\n",
       "    }\n",
       "\n",
       "    .dataframe tbody tr th {\n",
       "        vertical-align: top;\n",
       "    }\n",
       "\n",
       "    .dataframe thead th {\n",
       "        text-align: right;\n",
       "    }\n",
       "</style>\n",
       "<table border=\"1\" class=\"dataframe\">\n",
       "  <thead>\n",
       "    <tr style=\"text-align: right;\">\n",
       "      <th></th>\n",
       "      <th>debt</th>\n",
       "      <th>count</th>\n",
       "      <th>rate</th>\n",
       "    </tr>\n",
       "    <tr>\n",
       "      <th>children</th>\n",
       "      <th></th>\n",
       "      <th></th>\n",
       "      <th></th>\n",
       "    </tr>\n",
       "  </thead>\n",
       "  <tbody>\n",
       "    <tr>\n",
       "      <th>5</th>\n",
       "      <td>0</td>\n",
       "      <td>9</td>\n",
       "      <td>0.000000</td>\n",
       "    </tr>\n",
       "    <tr>\n",
       "      <th>0</th>\n",
       "      <td>1063</td>\n",
       "      <td>14091</td>\n",
       "      <td>7.543822</td>\n",
       "    </tr>\n",
       "    <tr>\n",
       "      <th>3</th>\n",
       "      <td>27</td>\n",
       "      <td>330</td>\n",
       "      <td>8.181818</td>\n",
       "    </tr>\n",
       "    <tr>\n",
       "      <th>1</th>\n",
       "      <td>444</td>\n",
       "      <td>4808</td>\n",
       "      <td>9.234609</td>\n",
       "    </tr>\n",
       "    <tr>\n",
       "      <th>2</th>\n",
       "      <td>194</td>\n",
       "      <td>2052</td>\n",
       "      <td>9.454191</td>\n",
       "    </tr>\n",
       "    <tr>\n",
       "      <th>4</th>\n",
       "      <td>4</td>\n",
       "      <td>41</td>\n",
       "      <td>9.756098</td>\n",
       "    </tr>\n",
       "  </tbody>\n",
       "</table>\n",
       "</div>"
      ],
      "text/plain": [
       "          debt  count      rate\n",
       "children                       \n",
       "5            0      9  0.000000\n",
       "0         1063  14091  7.543822\n",
       "3           27    330  8.181818\n",
       "1          444   4808  9.234609\n",
       "2          194   2052  9.454191\n",
       "4            4     41  9.756098"
      ]
     },
     "execution_count": 24,
     "metadata": {},
     "output_type": "execute_result"
    }
   ],
   "source": [
    "#применение функции и создание таблицы data_children_dependence\n",
    "data_children_dependence = rate(data,'children')\n",
    "data_children_dependence.sort_values(by='rate')"
   ]
  },
  {
   "cell_type": "markdown",
   "id": "f4aed45d",
   "metadata": {},
   "source": [
    "**Вывод:** Семьи с количеством детей  5,4 и 3 анализировать доставляет трудности, так как мало данных для их анализа. Более того семьи без детей берут кредит намного больше, также задолженность составляет наименьший процент. Чем больше детей появляется в семье, тем кредитов берется меньше и процент задолженности растет. Тем самым разница количество кредитов между 0 и 2 детьми в семье составляет 12 039, а разница в задолженности 1,91 процент."
   ]
  },
  {
   "cell_type": "markdown",
   "id": "74c9b3a7",
   "metadata": {
    "deletable": false,
    "editable": false,
    "id": "74c9b3a7"
   },
   "source": [
    "#### 3.2 Есть ли зависимость между семейным положением и возвратом кредита в срок?"
   ]
  },
  {
   "cell_type": "markdown",
   "id": "df700d3e",
   "metadata": {},
   "source": [
    "<a id=\"title2\"></a>"
   ]
  },
  {
   "cell_type": "code",
   "execution_count": 25,
   "id": "8098ab3b",
   "metadata": {
    "deletable": false,
    "id": "8098ab3b"
   },
   "outputs": [
    {
     "data": {
      "text/html": [
       "<div>\n",
       "<style scoped>\n",
       "    .dataframe tbody tr th:only-of-type {\n",
       "        vertical-align: middle;\n",
       "    }\n",
       "\n",
       "    .dataframe tbody tr th {\n",
       "        vertical-align: top;\n",
       "    }\n",
       "\n",
       "    .dataframe thead th {\n",
       "        text-align: right;\n",
       "    }\n",
       "</style>\n",
       "<table border=\"1\" class=\"dataframe\">\n",
       "  <thead>\n",
       "    <tr style=\"text-align: right;\">\n",
       "      <th></th>\n",
       "      <th>debt</th>\n",
       "      <th>count</th>\n",
       "      <th>rate</th>\n",
       "    </tr>\n",
       "    <tr>\n",
       "      <th>family_status</th>\n",
       "      <th></th>\n",
       "      <th></th>\n",
       "      <th></th>\n",
       "    </tr>\n",
       "  </thead>\n",
       "  <tbody>\n",
       "    <tr>\n",
       "      <th>вдовец / вдова</th>\n",
       "      <td>63</td>\n",
       "      <td>951</td>\n",
       "      <td>6.624606</td>\n",
       "    </tr>\n",
       "    <tr>\n",
       "      <th>в разводе</th>\n",
       "      <td>84</td>\n",
       "      <td>1189</td>\n",
       "      <td>7.064760</td>\n",
       "    </tr>\n",
       "    <tr>\n",
       "      <th>женат / замужем</th>\n",
       "      <td>927</td>\n",
       "      <td>12261</td>\n",
       "      <td>7.560558</td>\n",
       "    </tr>\n",
       "    <tr>\n",
       "      <th>гражданский брак</th>\n",
       "      <td>385</td>\n",
       "      <td>4134</td>\n",
       "      <td>9.313014</td>\n",
       "    </tr>\n",
       "    <tr>\n",
       "      <th>Не женат / не замужем</th>\n",
       "      <td>273</td>\n",
       "      <td>2796</td>\n",
       "      <td>9.763948</td>\n",
       "    </tr>\n",
       "  </tbody>\n",
       "</table>\n",
       "</div>"
      ],
      "text/plain": [
       "                       debt  count      rate\n",
       "family_status                               \n",
       "вдовец / вдова           63    951  6.624606\n",
       "в разводе                84   1189  7.064760\n",
       "женат / замужем         927  12261  7.560558\n",
       "гражданский брак        385   4134  9.313014\n",
       "Не женат / не замужем   273   2796  9.763948"
      ]
     },
     "execution_count": 25,
     "metadata": {},
     "output_type": "execute_result"
    }
   ],
   "source": [
    "# применение функции и создание таблицы data_family_dependence\n",
    "data_family_dependence = rate(data,'family_status')\n",
    "data_family_dependence.sort_values(by='rate')"
   ]
  },
  {
   "cell_type": "markdown",
   "id": "c389ca63",
   "metadata": {
    "deletable": false,
    "id": "c389ca63"
   },
   "source": [
    "**Вывод:** В данной выборке все группы имеют достаточно данных для анализа. Группа вдовец/вдова,в разводе,женат/замужем выплачивают кредиты исправно, нежели группы, которые находятся в гражданском браке или без отношений. Возможно отношения или прошлые отношения влияют на дисциплированность людей."
   ]
  },
  {
   "cell_type": "markdown",
   "id": "9529de68",
   "metadata": {
    "deletable": false,
    "editable": false,
    "id": "9529de68"
   },
   "source": [
    "#### 3.3 Есть ли зависимость между уровнем дохода и возвратом кредита в срок?"
   ]
  },
  {
   "cell_type": "markdown",
   "id": "cd55be03",
   "metadata": {},
   "source": [
    "<a id=\"title3\"></a>"
   ]
  },
  {
   "cell_type": "code",
   "execution_count": 26,
   "id": "8787f44a",
   "metadata": {
    "deletable": false,
    "id": "8787f44a",
    "scrolled": true
   },
   "outputs": [
    {
     "data": {
      "text/html": [
       "<div>\n",
       "<style scoped>\n",
       "    .dataframe tbody tr th:only-of-type {\n",
       "        vertical-align: middle;\n",
       "    }\n",
       "\n",
       "    .dataframe tbody tr th {\n",
       "        vertical-align: top;\n",
       "    }\n",
       "\n",
       "    .dataframe thead th {\n",
       "        text-align: right;\n",
       "    }\n",
       "</style>\n",
       "<table border=\"1\" class=\"dataframe\">\n",
       "  <thead>\n",
       "    <tr style=\"text-align: right;\">\n",
       "      <th></th>\n",
       "      <th>debt</th>\n",
       "      <th>count</th>\n",
       "      <th>rate</th>\n",
       "    </tr>\n",
       "    <tr>\n",
       "      <th>total_income_category</th>\n",
       "      <th></th>\n",
       "      <th></th>\n",
       "      <th></th>\n",
       "    </tr>\n",
       "  </thead>\n",
       "  <tbody>\n",
       "    <tr>\n",
       "      <th>D</th>\n",
       "      <td>21</td>\n",
       "      <td>349</td>\n",
       "      <td>6.017192</td>\n",
       "    </tr>\n",
       "    <tr>\n",
       "      <th>B</th>\n",
       "      <td>354</td>\n",
       "      <td>5014</td>\n",
       "      <td>7.060231</td>\n",
       "    </tr>\n",
       "    <tr>\n",
       "      <th>A</th>\n",
       "      <td>2</td>\n",
       "      <td>25</td>\n",
       "      <td>8.000000</td>\n",
       "    </tr>\n",
       "    <tr>\n",
       "      <th>C</th>\n",
       "      <td>1353</td>\n",
       "      <td>15921</td>\n",
       "      <td>8.498210</td>\n",
       "    </tr>\n",
       "    <tr>\n",
       "      <th>E</th>\n",
       "      <td>2</td>\n",
       "      <td>22</td>\n",
       "      <td>9.090909</td>\n",
       "    </tr>\n",
       "  </tbody>\n",
       "</table>\n",
       "</div>"
      ],
      "text/plain": [
       "                       debt  count      rate\n",
       "total_income_category                       \n",
       "D                        21    349  6.017192\n",
       "B                       354   5014  7.060231\n",
       "A                         2     25  8.000000\n",
       "C                      1353  15921  8.498210\n",
       "E                         2     22  9.090909"
      ]
     },
     "execution_count": 26,
     "metadata": {},
     "output_type": "execute_result"
    }
   ],
   "source": [
    "# применение функции и создание таблицы data_income_dependence\n",
    "data_income_dependence = rate(data,'total_income_category')\n",
    "data_income_dependence.sort_values(by = 'rate')"
   ]
  },
  {
   "cell_type": "markdown",
   "id": "2955fe30",
   "metadata": {},
   "source": [
    "**Вывод:** В выборке группа D,А,Е имеют мало данных для анализа. Чем меньше у тебя дохода, тем больше кредитов ты берешь, также это влияет на процент задолженности. Это видно при сравнении группы B и С, где группа В имея больший доход, берет на 10907 меньше кредитов и платит исправнее на 1,43 процента."
   ]
  },
  {
   "cell_type": "markdown",
   "id": "1dcc9b12",
   "metadata": {
    "deletable": false,
    "editable": false,
    "id": "1dcc9b12"
   },
   "source": [
    "#### 3.4 Как разные цели кредита влияют на его возврат в срок?"
   ]
  },
  {
   "cell_type": "markdown",
   "id": "ae6ddfd7",
   "metadata": {},
   "source": [
    "<a id=\"title4\"></a>"
   ]
  },
  {
   "cell_type": "code",
   "execution_count": 27,
   "id": "c602bc8b",
   "metadata": {
    "deletable": false,
    "id": "c602bc8b"
   },
   "outputs": [
    {
     "data": {
      "text/html": [
       "<div>\n",
       "<style scoped>\n",
       "    .dataframe tbody tr th:only-of-type {\n",
       "        vertical-align: middle;\n",
       "    }\n",
       "\n",
       "    .dataframe tbody tr th {\n",
       "        vertical-align: top;\n",
       "    }\n",
       "\n",
       "    .dataframe thead th {\n",
       "        text-align: right;\n",
       "    }\n",
       "</style>\n",
       "<table border=\"1\" class=\"dataframe\">\n",
       "  <thead>\n",
       "    <tr style=\"text-align: right;\">\n",
       "      <th></th>\n",
       "      <th>debt</th>\n",
       "      <th>count</th>\n",
       "      <th>rate</th>\n",
       "    </tr>\n",
       "    <tr>\n",
       "      <th>purpose_category</th>\n",
       "      <th></th>\n",
       "      <th></th>\n",
       "      <th></th>\n",
       "    </tr>\n",
       "  </thead>\n",
       "  <tbody>\n",
       "    <tr>\n",
       "      <th>операции с недвижимостью</th>\n",
       "      <td>780</td>\n",
       "      <td>10751</td>\n",
       "      <td>7.255139</td>\n",
       "    </tr>\n",
       "    <tr>\n",
       "      <th>проведение свадьбы</th>\n",
       "      <td>183</td>\n",
       "      <td>2313</td>\n",
       "      <td>7.911803</td>\n",
       "    </tr>\n",
       "    <tr>\n",
       "      <th>получение образования</th>\n",
       "      <td>369</td>\n",
       "      <td>3988</td>\n",
       "      <td>9.252758</td>\n",
       "    </tr>\n",
       "    <tr>\n",
       "      <th>операции с автомобилем</th>\n",
       "      <td>400</td>\n",
       "      <td>4279</td>\n",
       "      <td>9.347978</td>\n",
       "    </tr>\n",
       "  </tbody>\n",
       "</table>\n",
       "</div>"
      ],
      "text/plain": [
       "                          debt  count      rate\n",
       "purpose_category                               \n",
       "операции с недвижимостью   780  10751  7.255139\n",
       "проведение свадьбы         183   2313  7.911803\n",
       "получение образования      369   3988  9.252758\n",
       "операции с автомобилем     400   4279  9.347978"
      ]
     },
     "execution_count": 27,
     "metadata": {},
     "output_type": "execute_result"
    }
   ],
   "source": [
    "# применение функции и создание таблицы data_purpose\n",
    "data_purpose = rate(data,'purpose_category')\n",
    "data_purpose.sort_values(by = 'rate')"
   ]
  },
  {
   "cell_type": "markdown",
   "id": "cf05ed63",
   "metadata": {
    "deletable": false,
    "id": "cf05ed63"
   },
   "source": [
    "**Вывод:** 50% кредитов приходится на операции с недвижимостью, также такие кредиты выплачиваются исправно. Самые ненадежные кредиты являются операции с автомобилем. "
   ]
  },
  {
   "cell_type": "markdown",
   "id": "46c1f10b",
   "metadata": {
    "deletable": false,
    "editable": false,
    "id": "46c1f10b"
   },
   "source": [
    "#### 3.5 Приведите возможные причины появления пропусков в исходных данных."
   ]
  },
  {
   "cell_type": "markdown",
   "id": "3697d2a9",
   "metadata": {
    "deletable": false,
    "id": "3697d2a9"
   },
   "source": [
    "*Ответ:* Причина пропусков может быть как и человеческим фактором, так и технологической. Так как количество пропусков одинакова(2174), сотрудник мог их не заполнить или же где то система не собирает какие то данные. Более того, возможно при переносе данных из таблиц, сбой системы, обновления могли повлиять на пропуски.\n"
   ]
  },
  {
   "cell_type": "markdown",
   "id": "3137d257",
   "metadata": {
    "deletable": false,
    "editable": false,
    "id": "3137d257"
   },
   "source": [
    "#### 3.6 Объясните, почему заполнить пропуски медианным значением — лучшее решение для количественных переменных."
   ]
  },
  {
   "cell_type": "markdown",
   "id": "cf40012a",
   "metadata": {
    "deletable": false,
    "id": "cf40012a"
   },
   "source": [
    "*Ответ:* Так как удаление  пропусков может повлиять на общий анализ данных, нельзя их просто удалить, так как можно подставить данные, ибо мы имеем примерные схожие данные. Более того, мы не можем оставить пропуски, так как это повлияет на дальнейший анализ, возможны ошибки. Среднеарифметическое может сильно подвергаться к изменениям из за экстремальных максимальных и минимальных значений. Тем самым медианные значение не будет сильно зависеть от экстремальных данных. Таким образом, данный метод является оптимальным, так как помогает заполнить данные схожими данными по категориям и не дает большую разницу с вероятно реальными данными. "
   ]
  },
  {
   "cell_type": "markdown",
   "id": "57bc304e",
   "metadata": {
    "deletable": false,
    "editable": false,
    "id": "57bc304e"
   },
   "source": [
    "### Шаг 4: общий вывод."
   ]
  },
  {
   "cell_type": "markdown",
   "id": "648525f5",
   "metadata": {},
   "source": [
    "Были исследованы данные о клиентах банка и их задолженности. \n",
    "\n",
    "**Что было сделано?**\n",
    "Были заполнены пустые данные медианными значениями каждой группы в столбцах total_income(доход) и days_employed(стаж работы). Также в столбце days_employed(стаж работы) отрицательные значения были заменены на положительные, так как скорее всего это ошибка перевода, прочтение файла или человеческий фактор. Были удалены явные и неявные дубликаты в таблице. Также были созданы два новых столбца для категоризации данных: 1 - категоризация доходов клиентов, 2 - категоризация по целям взятие кредита. \n",
    "\n",
    "**Выявленные зависимости**\n",
    "1.Чем больше детей, тем больше кредитов семьи берут кредиты. Также исправность платежа по кредиту также снижается.\n",
    "Подробнее ознакомится с таблицей и выводом можете [тут](#title1).\n",
    "\n",
    "2.Группа вдовец/вдова имеет меньше все задержек по платежу кредита, процент задержки составляет 6.62%. Группа которая имеет больше всего процентых задержек это Не женат / не замужем их процент составляет 9.76%. На группу женат / замужем приходится наибольшее количество кредитов - 12261\n",
    "Подробнее ознакомится с таблицей и выводом можете [тут](#title2)\n",
    "\n",
    "3.Чем меньше у тебя дохода, тем больше кредитов ты берешь, также это влияет на процент задолженности.Так у группы С количество кредитов 15 921, а процент неисправного платежа 8,49, а группы В количество кредитов 5014, а процент неисправного платежа составляет 7,04. Однако, это не окончательный вывод, стоит больше получить данные, так как этот вывод строился из анализа только двух групп.\n",
    "Подробнее ознакомится с таблицей и выводом можете [тут](#title3)\n",
    "\n",
    "4.Меньше всего просрочек имеет группа с целью на недвижимость(7.25%), больше всего просрочек имеет группа с целью на автомобиль(9.34%). Наибольшая выборка данных имеет группа с целью на недвижимость - 10751. \n",
    "Подробнее ознакомится с таблицей и выводом можете [тут](#title4)\n",
    "\n",
    "**Портрет надежного заемщика**\n",
    "Это заемщик с доходом уровня B, также данный заемщик не имеет детей, находился или находится в браке. Также цель его кредита желательно должна иметь цель недвижимость или для проведение свадьбы.\n",
    "\n",
    "**Портрет рискового заемщика**\n",
    "Это заемщик с доходом уровня С, также данный заемщик имеет более 1 ребенка, не находится в отношениях или в гражданском браке. Также их цель кредита является операции с автомобилем или образования. \n",
    "\n",
    "**Рекомендации**\n",
    "Стоит больше собрать данных по другим группах по уровню дохода клиентов. Так как данный вывод может быть ошибочным, ибо были проанализированы только две группы из 5. \n"
   ]
  },
  {
   "cell_type": "code",
   "execution_count": null,
   "id": "c29b3735",
   "metadata": {
    "deletable": false,
    "id": "6dd14b57"
   },
   "outputs": [],
   "source": []
  },
  {
   "cell_type": "code",
   "execution_count": null,
   "id": "c13ffd8f",
   "metadata": {
    "deletable": false,
    "id": "1ab75d1c"
   },
   "outputs": [],
   "source": []
  },
  {
   "cell_type": "code",
   "execution_count": null,
   "id": "95c80ef9",
   "metadata": {
    "deletable": false,
    "id": "2eb9088e"
   },
   "outputs": [],
   "source": []
  }
 ],
 "metadata": {
  "ExecuteTimeLog": [
   {
    "duration": 502,
    "start_time": "2024-04-09T14:20:06.153Z"
   },
   {
    "duration": 20,
    "start_time": "2024-04-09T14:20:07.070Z"
   },
   {
    "duration": 15,
    "start_time": "2024-04-09T14:20:07.416Z"
   },
   {
    "duration": 10,
    "start_time": "2024-04-09T14:20:08.124Z"
   },
   {
    "duration": 33,
    "start_time": "2024-04-09T14:20:08.490Z"
   },
   {
    "duration": 3,
    "start_time": "2024-04-09T14:20:09.027Z"
   },
   {
    "duration": 7,
    "start_time": "2024-04-09T14:20:09.400Z"
   },
   {
    "duration": 4,
    "start_time": "2024-04-09T14:20:09.968Z"
   },
   {
    "duration": 6,
    "start_time": "2024-04-09T14:20:10.889Z"
   },
   {
    "duration": 4,
    "start_time": "2024-04-09T14:20:11.303Z"
   },
   {
    "duration": 33,
    "start_time": "2024-04-09T14:20:11.872Z"
   },
   {
    "duration": 10,
    "start_time": "2024-04-09T14:20:12.265Z"
   },
   {
    "duration": 3,
    "start_time": "2024-04-09T14:20:12.856Z"
   },
   {
    "duration": 13,
    "start_time": "2024-04-09T14:20:13.459Z"
   },
   {
    "duration": 19,
    "start_time": "2024-04-09T14:20:13.921Z"
   },
   {
    "duration": 15,
    "start_time": "2024-04-09T14:20:14.134Z"
   },
   {
    "duration": 3,
    "start_time": "2024-04-09T14:20:15.206Z"
   },
   {
    "duration": 10,
    "start_time": "2024-04-09T14:20:15.784Z"
   },
   {
    "duration": 6,
    "start_time": "2024-04-09T14:20:16.861Z"
   },
   {
    "duration": 3,
    "start_time": "2024-04-09T14:20:17.786Z"
   },
   {
    "duration": 9,
    "start_time": "2024-04-09T14:20:18.228Z"
   },
   {
    "duration": 2,
    "start_time": "2024-04-09T14:20:19.712Z"
   },
   {
    "duration": 550,
    "start_time": "2024-04-11T09:21:51.033Z"
   },
   {
    "duration": 17,
    "start_time": "2024-04-11T09:21:51.584Z"
   },
   {
    "duration": 11,
    "start_time": "2024-04-11T09:21:51.770Z"
   },
   {
    "duration": 7,
    "start_time": "2024-04-11T09:21:52.395Z"
   },
   {
    "duration": 32,
    "start_time": "2024-04-11T09:21:52.731Z"
   },
   {
    "duration": 3,
    "start_time": "2024-04-11T09:21:53.223Z"
   },
   {
    "duration": 6,
    "start_time": "2024-04-11T09:21:53.558Z"
   },
   {
    "duration": 4,
    "start_time": "2024-04-11T09:21:54.068Z"
   },
   {
    "duration": 6,
    "start_time": "2024-04-11T09:21:54.395Z"
   },
   {
    "duration": 4,
    "start_time": "2024-04-11T09:21:54.772Z"
   },
   {
    "duration": 27,
    "start_time": "2024-04-11T09:21:55.268Z"
   },
   {
    "duration": 9,
    "start_time": "2024-04-11T09:21:55.557Z"
   },
   {
    "duration": 3,
    "start_time": "2024-04-11T09:21:56.089Z"
   },
   {
    "duration": 9,
    "start_time": "2024-04-11T09:21:56.539Z"
   },
   {
    "duration": 16,
    "start_time": "2024-04-11T09:21:56.977Z"
   },
   {
    "duration": 13,
    "start_time": "2024-04-11T09:21:57.045Z"
   },
   {
    "duration": 3,
    "start_time": "2024-04-11T09:21:57.564Z"
   },
   {
    "duration": 8,
    "start_time": "2024-04-11T09:21:57.811Z"
   },
   {
    "duration": 4,
    "start_time": "2024-04-11T09:21:58.098Z"
   },
   {
    "duration": 2,
    "start_time": "2024-04-11T09:21:58.440Z"
   },
   {
    "duration": 6,
    "start_time": "2024-04-11T09:21:58.607Z"
   },
   {
    "duration": 53,
    "start_time": "2024-04-11T09:21:59.080Z"
   },
   {
    "duration": 3,
    "start_time": "2024-04-11T09:21:59.576Z"
   },
   {
    "duration": 6,
    "start_time": "2024-04-11T09:23:12.877Z"
   },
   {
    "duration": 15,
    "start_time": "2024-04-11T09:23:33.638Z"
   },
   {
    "duration": 4,
    "start_time": "2024-04-11T09:24:42.724Z"
   },
   {
    "duration": 11,
    "start_time": "2024-04-11T09:25:08.949Z"
   },
   {
    "duration": 12,
    "start_time": "2024-04-11T09:49:53.763Z"
   },
   {
    "duration": 13,
    "start_time": "2024-04-11T09:58:07.319Z"
   },
   {
    "duration": 13,
    "start_time": "2024-04-11T09:58:45.677Z"
   },
   {
    "duration": 10,
    "start_time": "2024-04-11T09:58:50.312Z"
   },
   {
    "duration": 19,
    "start_time": "2024-04-11T09:58:55.666Z"
   },
   {
    "duration": 11,
    "start_time": "2024-04-11T10:00:28.027Z"
   },
   {
    "duration": 13,
    "start_time": "2024-04-11T10:08:31.605Z"
   },
   {
    "duration": 18,
    "start_time": "2024-04-11T10:08:42.251Z"
   },
   {
    "duration": 15,
    "start_time": "2024-04-11T10:09:39.844Z"
   },
   {
    "duration": 10,
    "start_time": "2024-04-11T10:58:43.913Z"
   },
   {
    "duration": 81,
    "start_time": "2024-04-11T10:59:43.899Z"
   },
   {
    "duration": 10,
    "start_time": "2024-04-11T10:59:51.128Z"
   },
   {
    "duration": 84,
    "start_time": "2024-04-11T11:06:56.478Z"
   },
   {
    "duration": 79,
    "start_time": "2024-04-11T11:19:24.301Z"
   },
   {
    "duration": 417,
    "start_time": "2024-04-11T11:24:40.419Z"
   },
   {
    "duration": 19,
    "start_time": "2024-04-11T11:24:40.838Z"
   },
   {
    "duration": 12,
    "start_time": "2024-04-11T11:24:40.858Z"
   },
   {
    "duration": 10,
    "start_time": "2024-04-11T11:24:40.871Z"
   },
   {
    "duration": 27,
    "start_time": "2024-04-11T11:24:40.885Z"
   },
   {
    "duration": 3,
    "start_time": "2024-04-11T11:24:40.913Z"
   },
   {
    "duration": 8,
    "start_time": "2024-04-11T11:24:40.918Z"
   },
   {
    "duration": 4,
    "start_time": "2024-04-11T11:24:40.927Z"
   },
   {
    "duration": 7,
    "start_time": "2024-04-11T11:24:40.932Z"
   },
   {
    "duration": 3,
    "start_time": "2024-04-11T11:24:40.941Z"
   },
   {
    "duration": 57,
    "start_time": "2024-04-11T11:24:40.945Z"
   },
   {
    "duration": 8,
    "start_time": "2024-04-11T11:24:41.003Z"
   },
   {
    "duration": 4,
    "start_time": "2024-04-11T11:24:41.012Z"
   },
   {
    "duration": 13,
    "start_time": "2024-04-11T11:24:41.018Z"
   },
   {
    "duration": 22,
    "start_time": "2024-04-11T11:24:41.033Z"
   },
   {
    "duration": 14,
    "start_time": "2024-04-11T11:24:41.057Z"
   },
   {
    "duration": 3,
    "start_time": "2024-04-11T11:24:41.084Z"
   },
   {
    "duration": 16,
    "start_time": "2024-04-11T11:24:41.089Z"
   },
   {
    "duration": 5,
    "start_time": "2024-04-11T11:24:41.106Z"
   },
   {
    "duration": 5,
    "start_time": "2024-04-11T11:24:41.112Z"
   },
   {
    "duration": 20,
    "start_time": "2024-04-11T11:24:41.118Z"
   },
   {
    "duration": 12,
    "start_time": "2024-04-11T11:24:41.139Z"
   },
   {
    "duration": 33,
    "start_time": "2024-04-11T11:24:41.152Z"
   },
   {
    "duration": 12,
    "start_time": "2024-04-11T11:24:41.187Z"
   },
   {
    "duration": 23,
    "start_time": "2024-04-11T11:24:41.200Z"
   },
   {
    "duration": 20,
    "start_time": "2024-04-11T11:24:41.224Z"
   },
   {
    "duration": 525,
    "start_time": "2024-04-11T11:40:06.890Z"
   },
   {
    "duration": 28,
    "start_time": "2024-04-11T11:40:07.418Z"
   },
   {
    "duration": 25,
    "start_time": "2024-04-11T11:40:07.448Z"
   },
   {
    "duration": 20,
    "start_time": "2024-04-11T11:40:07.475Z"
   },
   {
    "duration": 41,
    "start_time": "2024-04-11T11:40:07.497Z"
   },
   {
    "duration": 3,
    "start_time": "2024-04-11T11:40:07.540Z"
   },
   {
    "duration": 29,
    "start_time": "2024-04-11T11:40:07.545Z"
   },
   {
    "duration": 5,
    "start_time": "2024-04-11T11:40:07.576Z"
   },
   {
    "duration": 11,
    "start_time": "2024-04-11T11:40:07.583Z"
   },
   {
    "duration": 5,
    "start_time": "2024-04-11T11:40:07.599Z"
   },
   {
    "duration": 73,
    "start_time": "2024-04-11T11:40:07.606Z"
   },
   {
    "duration": 11,
    "start_time": "2024-04-11T11:40:07.681Z"
   },
   {
    "duration": 33,
    "start_time": "2024-04-11T11:40:07.694Z"
   },
   {
    "duration": 43,
    "start_time": "2024-04-11T11:40:07.729Z"
   },
   {
    "duration": 30,
    "start_time": "2024-04-11T11:40:07.774Z"
   },
   {
    "duration": 27,
    "start_time": "2024-04-11T11:40:07.806Z"
   },
   {
    "duration": 4,
    "start_time": "2024-04-11T11:40:07.835Z"
   },
   {
    "duration": 26,
    "start_time": "2024-04-11T11:40:07.840Z"
   },
   {
    "duration": 18,
    "start_time": "2024-04-11T11:40:07.868Z"
   },
   {
    "duration": 9,
    "start_time": "2024-04-11T11:40:07.887Z"
   },
   {
    "duration": 12,
    "start_time": "2024-04-11T11:40:07.898Z"
   },
   {
    "duration": 20,
    "start_time": "2024-04-11T11:40:07.911Z"
   },
   {
    "duration": 26,
    "start_time": "2024-04-11T11:40:07.933Z"
   },
   {
    "duration": 17,
    "start_time": "2024-04-11T11:40:07.961Z"
   },
   {
    "duration": 16,
    "start_time": "2024-04-11T11:40:07.980Z"
   },
   {
    "duration": 22,
    "start_time": "2024-04-11T11:40:07.998Z"
   },
   {
    "duration": 80,
    "start_time": "2024-04-18T13:00:23.235Z"
   },
   {
    "duration": 15,
    "start_time": "2024-04-18T13:00:23.769Z"
   },
   {
    "duration": 15,
    "start_time": "2024-04-18T13:00:23.846Z"
   },
   {
    "duration": 10,
    "start_time": "2024-04-18T13:00:24.005Z"
   },
   {
    "duration": 32,
    "start_time": "2024-04-18T13:00:24.070Z"
   },
   {
    "duration": 3,
    "start_time": "2024-04-18T13:00:24.169Z"
   },
   {
    "duration": 8,
    "start_time": "2024-04-18T13:00:24.243Z"
   },
   {
    "duration": 4,
    "start_time": "2024-04-18T13:00:24.341Z"
   },
   {
    "duration": 6,
    "start_time": "2024-04-18T13:00:24.401Z"
   },
   {
    "duration": 4,
    "start_time": "2024-04-18T13:00:24.463Z"
   },
   {
    "duration": 39,
    "start_time": "2024-04-18T13:00:24.575Z"
   },
   {
    "duration": 16,
    "start_time": "2024-04-18T13:00:24.638Z"
   },
   {
    "duration": 4,
    "start_time": "2024-04-18T13:00:24.728Z"
   },
   {
    "duration": 11,
    "start_time": "2024-04-18T13:00:24.838Z"
   },
   {
    "duration": 17,
    "start_time": "2024-04-18T13:00:24.900Z"
   },
   {
    "duration": 17,
    "start_time": "2024-04-18T13:00:24.931Z"
   },
   {
    "duration": 3,
    "start_time": "2024-04-18T13:00:25.027Z"
   },
   {
    "duration": 40,
    "start_time": "2024-04-18T13:00:25.056Z"
   },
   {
    "duration": 6,
    "start_time": "2024-04-18T13:00:25.135Z"
   },
   {
    "duration": 3,
    "start_time": "2024-04-18T13:00:25.199Z"
   },
   {
    "duration": 9,
    "start_time": "2024-04-18T13:00:25.232Z"
   },
   {
    "duration": 3,
    "start_time": "2024-04-18T13:00:25.328Z"
   },
   {
    "duration": 2,
    "start_time": "2024-04-18T13:00:25.387Z"
   },
   {
    "duration": 12,
    "start_time": "2024-04-18T13:00:25.496Z"
   },
   {
    "duration": 19,
    "start_time": "2024-04-18T13:00:25.718Z"
   },
   {
    "duration": 21,
    "start_time": "2024-04-18T13:00:25.885Z"
   },
   {
    "duration": 15,
    "start_time": "2024-04-18T13:00:26.085Z"
   },
   {
    "duration": 569,
    "start_time": "2024-04-18T13:33:51.373Z"
   },
   {
    "duration": 22,
    "start_time": "2024-04-18T13:33:51.944Z"
   },
   {
    "duration": 29,
    "start_time": "2024-04-18T13:33:51.967Z"
   },
   {
    "duration": 39,
    "start_time": "2024-04-18T13:33:52.000Z"
   },
   {
    "duration": 44,
    "start_time": "2024-04-18T13:33:52.041Z"
   },
   {
    "duration": 16,
    "start_time": "2024-04-18T13:33:52.087Z"
   },
   {
    "duration": 20,
    "start_time": "2024-04-18T13:33:52.105Z"
   },
   {
    "duration": 7,
    "start_time": "2024-04-18T13:33:52.127Z"
   },
   {
    "duration": 23,
    "start_time": "2024-04-18T13:33:52.136Z"
   },
   {
    "duration": 6,
    "start_time": "2024-04-18T13:33:52.164Z"
   },
   {
    "duration": 55,
    "start_time": "2024-04-18T13:33:52.171Z"
   },
   {
    "duration": 11,
    "start_time": "2024-04-18T13:33:52.227Z"
   },
   {
    "duration": 6,
    "start_time": "2024-04-18T13:33:52.240Z"
   },
   {
    "duration": 16,
    "start_time": "2024-04-18T13:33:52.248Z"
   },
   {
    "duration": 37,
    "start_time": "2024-04-18T13:33:52.266Z"
   },
   {
    "duration": 24,
    "start_time": "2024-04-18T13:33:52.305Z"
   },
   {
    "duration": 4,
    "start_time": "2024-04-18T13:33:52.331Z"
   },
   {
    "duration": 31,
    "start_time": "2024-04-18T13:33:52.336Z"
   },
   {
    "duration": 29,
    "start_time": "2024-04-18T13:33:52.369Z"
   },
   {
    "duration": 7,
    "start_time": "2024-04-18T13:33:52.407Z"
   },
   {
    "duration": 11,
    "start_time": "2024-04-18T13:33:52.418Z"
   },
   {
    "duration": 6,
    "start_time": "2024-04-18T13:33:52.431Z"
   },
   {
    "duration": 32,
    "start_time": "2024-04-18T13:33:52.439Z"
   },
   {
    "duration": 37,
    "start_time": "2024-04-18T13:33:52.473Z"
   },
   {
    "duration": 38,
    "start_time": "2024-04-18T13:33:52.512Z"
   },
   {
    "duration": 16,
    "start_time": "2024-04-18T13:33:52.552Z"
   },
   {
    "duration": 30,
    "start_time": "2024-04-18T13:33:52.570Z"
   },
   {
    "duration": 4,
    "start_time": "2024-04-18T13:44:11.710Z"
   },
   {
    "duration": 84,
    "start_time": "2024-04-18T13:44:13.132Z"
   },
   {
    "duration": 9,
    "start_time": "2024-04-18T13:44:52.303Z"
   },
   {
    "duration": 13,
    "start_time": "2024-04-18T13:44:54.474Z"
   },
   {
    "duration": 3,
    "start_time": "2024-04-18T13:45:13.840Z"
   },
   {
    "duration": 20,
    "start_time": "2024-04-18T13:45:15.794Z"
   },
   {
    "duration": 3,
    "start_time": "2024-04-18T13:46:15.335Z"
   },
   {
    "duration": 17,
    "start_time": "2024-04-18T13:46:22.614Z"
   }
  ],
  "colab": {
   "provenance": []
  },
  "kernelspec": {
   "display_name": "Python 3 (ipykernel)",
   "language": "python",
   "name": "python3"
  },
  "language_info": {
   "codemirror_mode": {
    "name": "ipython",
    "version": 3
   },
   "file_extension": ".py",
   "mimetype": "text/x-python",
   "name": "python",
   "nbconvert_exporter": "python",
   "pygments_lexer": "ipython3",
   "version": "3.11.4"
  },
  "toc": {
   "base_numbering": 1,
   "nav_menu": {},
   "number_sections": true,
   "sideBar": true,
   "skip_h1_title": true,
   "title_cell": "Table of Contents",
   "title_sidebar": "Contents",
   "toc_cell": false,
   "toc_position": {},
   "toc_section_display": true,
   "toc_window_display": false
  }
 },
 "nbformat": 4,
 "nbformat_minor": 5
}
